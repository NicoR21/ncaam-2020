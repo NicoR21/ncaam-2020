{
 "cells": [
  {
   "cell_type": "markdown",
   "metadata": {},
   "source": [
    "# Table Analysis"
   ]
  },
  {
   "cell_type": "markdown",
   "metadata": {},
   "source": [
    "The goal of this notebook is to check if the content in stage_1 and stage_2 are similar."
   ]
  },
  {
   "cell_type": "code",
   "execution_count": 23,
   "metadata": {
    "pycharm": {
     "is_executing": false
    }
   },
   "outputs": [
    {
     "name": "stdout",
     "output_type": "stream",
     "text": [
      "The autoreload extension is already loaded. To reload it, use:\n",
      "  %reload_ext autoreload\n"
     ]
    }
   ],
   "source": [
    "import pandas as pd\n",
    "import glob\n",
    "\n",
    "%load_ext autoreload\n",
    "%autoreload 2"
   ]
  },
  {
   "cell_type": "code",
   "execution_count": 24,
   "metadata": {
    "pycharm": {
     "name": "#%%\n"
    }
   },
   "outputs": [],
   "source": [
    "loader = Loader()"
   ]
  },
  {
   "cell_type": "markdown",
   "metadata": {},
   "source": [
    "### Get filenames"
   ]
  },
  {
   "cell_type": "code",
   "execution_count": 25,
   "metadata": {},
   "outputs": [],
   "source": [
    "data_files_tables = [table for table in glob.glob(\"../resources/data/MDataFiles_Stage1/*.csv\")]\n",
    "play_by_play_tables = [table for table in glob.glob(\"../resources/data/MPlayByPlay_Stage1/*.csv\")]"
   ]
  },
  {
   "cell_type": "code",
   "execution_count": null,
   "metadata": {},
   "outputs": [],
   "source": [
    "data_files = loader.import_data_files()"
   ]
  },
  {
   "cell_type": "code",
   "execution_count": null,
   "metadata": {},
   "outputs": [],
   "source": [
    "data_files.players"
   ]
  },
  {
   "cell_type": "code",
   "execution_count": 26,
   "metadata": {},
   "outputs": [
    {
     "data": {
      "text/plain": [
       "['../resources/data/MPlayByPlay_Stage1\\\\MEvents2015.csv',\n",
       " '../resources/data/MPlayByPlay_Stage1\\\\MEvents2016.csv',\n",
       " '../resources/data/MPlayByPlay_Stage1\\\\MEvents2017.csv',\n",
       " '../resources/data/MPlayByPlay_Stage1\\\\MEvents2018.csv',\n",
       " '../resources/data/MPlayByPlay_Stage1\\\\MEvents2019.csv',\n",
       " '../resources/data/MPlayByPlay_Stage1\\\\MPlayers.csv']"
      ]
     },
     "execution_count": 26,
     "metadata": {},
     "output_type": "execute_result"
    }
   ],
   "source": [
    "play_by_play_tables"
   ]
  },
  {
   "cell_type": "code",
   "execution_count": 32,
   "metadata": {},
   "outputs": [
    {
     "data": {
      "text/plain": [
       "['../resources/data/MDataFiles_Stage1\\\\Cities.csv',\n",
       " '../resources/data/MDataFiles_Stage1\\\\Conferences.csv',\n",
       " '../resources/data/MDataFiles_Stage1\\\\MConferenceTourneyGames.csv',\n",
       " '../resources/data/MDataFiles_Stage1\\\\MGameCities.csv',\n",
       " '../resources/data/MDataFiles_Stage1\\\\MMasseyOrdinals.csv',\n",
       " '../resources/data/MDataFiles_Stage1\\\\MNCAATourneyCompactResults.csv',\n",
       " '../resources/data/MDataFiles_Stage1\\\\MNCAATourneyDetailedResults.csv',\n",
       " '../resources/data/MDataFiles_Stage1\\\\MNCAATourneySeedRoundSlots.csv',\n",
       " '../resources/data/MDataFiles_Stage1\\\\MNCAATourneySeeds.csv',\n",
       " '../resources/data/MDataFiles_Stage1\\\\MNCAATourneySlots.csv',\n",
       " '../resources/data/MDataFiles_Stage1\\\\MRegularSeasonCompactResults.csv',\n",
       " '../resources/data/MDataFiles_Stage1\\\\MRegularSeasonDetailedResults.csv',\n",
       " '../resources/data/MDataFiles_Stage1\\\\MSeasons.csv',\n",
       " '../resources/data/MDataFiles_Stage1\\\\MSecondaryTourneyCompactResults.csv',\n",
       " '../resources/data/MDataFiles_Stage1\\\\MSecondaryTourneyTeams.csv',\n",
       " '../resources/data/MDataFiles_Stage1\\\\MTeamCoaches.csv',\n",
       " '../resources/data/MDataFiles_Stage1\\\\MTeamConferences.csv',\n",
       " '../resources/data/MDataFiles_Stage1\\\\MTeams.csv',\n",
       " '../resources/data/MDataFiles_Stage1\\\\MTeamSpellings.csv']"
      ]
     },
     "execution_count": 32,
     "metadata": {},
     "output_type": "execute_result"
    }
   ],
   "source": [
    "data_files_tables"
   ]
  },
  {
   "cell_type": "markdown",
   "metadata": {},
   "source": [
    "### Import stage_1 & stage_2 files, and check if content is similar"
   ]
  },
  {
   "cell_type": "code",
   "execution_count": 33,
   "metadata": {},
   "outputs": [
    {
     "name": "stdout",
     "output_type": "stream",
     "text": [
      "../resources/data/MDataFiles_Stage1\\Cities.csv: True\n",
      "../resources/data/MDataFiles_Stage1\\Conferences.csv: True\n",
      "../resources/data/MDataFiles_Stage1\\MConferenceTourneyGames.csv: True\n",
      "../resources/data/MDataFiles_Stage1\\MGameCities.csv: True\n",
      "../resources/data/MDataFiles_Stage1\\MMasseyOrdinals.csv: True\n",
      "../resources/data/MDataFiles_Stage1\\MNCAATourneyCompactResults.csv: True\n",
      "../resources/data/MDataFiles_Stage1\\MNCAATourneyDetailedResults.csv: True\n",
      "../resources/data/MDataFiles_Stage1\\MNCAATourneySeedRoundSlots.csv: True\n",
      "../resources/data/MDataFiles_Stage1\\MNCAATourneySeeds.csv: True\n",
      "../resources/data/MDataFiles_Stage1\\MNCAATourneySlots.csv: True\n",
      "../resources/data/MDataFiles_Stage1\\MRegularSeasonCompactResults.csv: True\n",
      "../resources/data/MDataFiles_Stage1\\MRegularSeasonDetailedResults.csv: True\n",
      "../resources/data/MDataFiles_Stage1\\MSeasons.csv: True\n",
      "../resources/data/MDataFiles_Stage1\\MSecondaryTourneyCompactResults.csv: True\n",
      "../resources/data/MDataFiles_Stage1\\MSecondaryTourneyTeams.csv: True\n",
      "../resources/data/MDataFiles_Stage1\\MTeamCoaches.csv: True\n",
      "../resources/data/MDataFiles_Stage1\\MTeamConferences.csv: True\n",
      "../resources/data/MDataFiles_Stage1\\MTeams.csv: True\n",
      "../resources/data/MDataFiles_Stage1\\MTeamSpellings.csv: True\n"
     ]
    }
   ],
   "source": [
    "for table_path in data_files_tables:\n",
    "    stage_1_df = pd.read_csv(table_path, encoding=\"ISO-8859-1\")\n",
    "    stage_2_df = pd.read_csv(table_path, encoding=\"ISO-8859-1\")\n",
    "    \n",
    "    if len(stage_1_df) < len(stage_2_df):\n",
    "        print(f\"{table_path}: {(stage_1_df == stage_2_df[:len(stage_1_df)]).all().all()}\")\n",
    "        \n",
    "    elif len(stage_2_df) < len(stage_1_df):\n",
    "        print(f\"{table_path}: {(stage_2_df == stage_1_df[:len(stage_2_df)]).all().all()}\")\n",
    "        \n",
    "    else:\n",
    "        print(f\"{table_path}: {(stage_2_df == stage_1_df).all().all()}\")"
   ]
  },
  {
   "cell_type": "code",
   "execution_count": 7,
   "metadata": {},
   "outputs": [
    {
     "name": "stdout",
     "output_type": "stream",
     "text": [
      "MEvents2015: False\n",
      "MEvents2016: False\n",
      "MEvents2017: False\n",
      "MEvents2018: False\n",
      "MEvents2019: False\n",
      "MPlayers: False\n"
     ]
    }
   ],
   "source": [
    "for table_path in play_by_play_tables:\n",
    "    stage_1_df = pd.read_csv(table_path, encoding=\"ISO-8859-1\")\n",
    "    stage_2_df = pd.read_csv(table_path, encoding=\"ISO-8859-1\")\n",
    "    \n",
    "    if len(stage_1_df) < len(stage_2_df):\n",
    "        print(f\"{table_path}: {(stage_1_df == stage_2_df[:len(stage_1_df)]).all().all()}\")\n",
    "    elif len(stage_2_df) < len(stage_1_df):\n",
    "        print(f\"{table_path}: {(stage_2_df == stage_1_df[:len(stage_2_df)]).all().all()}\")\n",
    "    else:\n",
    "        print(f\"{table_path}: {(stage_2_df == stage_1_df).all().all()}\")"
   ]
  },
  {
   "cell_type": "markdown",
   "metadata": {},
   "source": [
    "### Check if EventId aren't contain in 2 stages"
   ]
  },
  {
   "cell_type": "code",
   "execution_count": 17,
   "metadata": {},
   "outputs": [
    {
     "name": "stdout",
     "output_type": "stream",
     "text": [
      "MEvents2015: ID are contains in stage_1 & stage_2\n",
      "MEvents2016: ID are contains in stage_1 & stage_2\n",
      "MEvents2017: ID are contains in stage_1 & stage_2\n",
      "MEvents2018: ID are contains in stage_1 & stage_2\n",
      "MEvents2019: ID are contains in stage_1 & stage_2\n"
     ]
    }
   ],
   "source": [
    "for table_path in play_by_play_tables[:-1]:\n",
    "    stage_1_df = pd.read_csv(table_path, encoding=\"ISO-8859-1\")\n",
    "    stage_2_df = pd.read_csv(table_path, encoding=\"ISO-8859-1\")\n",
    "    \n",
    "    check =  any(item in stage_2_df.EventID.values for item in stage_1_df.EventID.values)\n",
    "    if check:\n",
    "        print(f\"{table_path}: ID are contains in stage_1 & stage_2\")\n",
    "    else:\n",
    "        print(f\"{table_path}: ID are unique\")"
   ]
  },
  {
   "cell_type": "markdown",
   "metadata": {},
   "source": [
    "By several check, we saw that these ID contained in 2 stages don't concern the same event:"
   ]
  },
  {
   "cell_type": "code",
   "execution_count": 9,
   "metadata": {},
   "outputs": [],
   "source": [
    "stage_1_df, stage_2_df = loader.import_play_by_play(\"MEvents2016\")"
   ]
  },
  {
   "cell_type": "code",
   "execution_count": 12,
   "metadata": {},
   "outputs": [
    {
     "data": {
      "text/html": [
       "<div>\n",
       "<style scoped>\n",
       "    .dataframe tbody tr th:only-of-type {\n",
       "        vertical-align: middle;\n",
       "    }\n",
       "\n",
       "    .dataframe tbody tr th {\n",
       "        vertical-align: top;\n",
       "    }\n",
       "\n",
       "    .dataframe thead th {\n",
       "        text-align: right;\n",
       "    }\n",
       "</style>\n",
       "<table border=\"1\" class=\"dataframe\">\n",
       "  <thead>\n",
       "    <tr style=\"text-align: right;\">\n",
       "      <th></th>\n",
       "      <th>EventID</th>\n",
       "      <th>Season</th>\n",
       "      <th>DayNum</th>\n",
       "      <th>WTeamID</th>\n",
       "      <th>LTeamID</th>\n",
       "      <th>WFinalScore</th>\n",
       "      <th>LFinalScore</th>\n",
       "      <th>WCurrentScore</th>\n",
       "      <th>LCurrentScore</th>\n",
       "      <th>ElapsedSeconds</th>\n",
       "      <th>EventTeamID</th>\n",
       "      <th>EventPlayerID</th>\n",
       "      <th>EventType</th>\n",
       "      <th>EventSubType</th>\n",
       "      <th>X</th>\n",
       "      <th>Y</th>\n",
       "      <th>Area</th>\n",
       "    </tr>\n",
       "  </thead>\n",
       "  <tbody>\n",
       "    <tr>\n",
       "      <th>2654413</th>\n",
       "      <td>5215633</td>\n",
       "      <td>2016</td>\n",
       "      <td>154</td>\n",
       "      <td>1437</td>\n",
       "      <td>1314</td>\n",
       "      <td>77</td>\n",
       "      <td>74</td>\n",
       "      <td>77</td>\n",
       "      <td>74</td>\n",
       "      <td>2400</td>\n",
       "      <td>1437</td>\n",
       "      <td>14438</td>\n",
       "      <td>assist</td>\n",
       "      <td>NaN</td>\n",
       "      <td>0</td>\n",
       "      <td>0</td>\n",
       "      <td>0</td>\n",
       "    </tr>\n",
       "  </tbody>\n",
       "</table>\n",
       "</div>"
      ],
      "text/plain": [
       "         EventID  Season  DayNum  WTeamID  LTeamID  WFinalScore  LFinalScore  \\\n",
       "2654413  5215633    2016     154     1437     1314           77           74   \n",
       "\n",
       "         WCurrentScore  LCurrentScore  ElapsedSeconds  EventTeamID  \\\n",
       "2654413             77             74            2400         1437   \n",
       "\n",
       "         EventPlayerID EventType EventSubType  X  Y  Area  \n",
       "2654413          14438    assist          NaN  0  0     0  "
      ]
     },
     "execution_count": 12,
     "metadata": {},
     "output_type": "execute_result"
    }
   ],
   "source": [
    "stage_2_df[stage_2_df.EventID == 5215633]"
   ]
  },
  {
   "cell_type": "code",
   "execution_count": 13,
   "metadata": {},
   "outputs": [
    {
     "data": {
      "text/html": [
       "<div>\n",
       "<style scoped>\n",
       "    .dataframe tbody tr th:only-of-type {\n",
       "        vertical-align: middle;\n",
       "    }\n",
       "\n",
       "    .dataframe tbody tr th {\n",
       "        vertical-align: top;\n",
       "    }\n",
       "\n",
       "    .dataframe thead th {\n",
       "        text-align: right;\n",
       "    }\n",
       "</style>\n",
       "<table border=\"1\" class=\"dataframe\">\n",
       "  <thead>\n",
       "    <tr style=\"text-align: right;\">\n",
       "      <th></th>\n",
       "      <th>EventID</th>\n",
       "      <th>Season</th>\n",
       "      <th>DayNum</th>\n",
       "      <th>WTeamID</th>\n",
       "      <th>LTeamID</th>\n",
       "      <th>WFinalScore</th>\n",
       "      <th>LFinalScore</th>\n",
       "      <th>WCurrentScore</th>\n",
       "      <th>LCurrentScore</th>\n",
       "      <th>ElapsedSeconds</th>\n",
       "      <th>EventTeamID</th>\n",
       "      <th>EventPlayerID</th>\n",
       "      <th>EventType</th>\n",
       "      <th>EventSubType</th>\n",
       "      <th>X</th>\n",
       "      <th>Y</th>\n",
       "      <th>Area</th>\n",
       "    </tr>\n",
       "  </thead>\n",
       "  <tbody>\n",
       "    <tr>\n",
       "      <th>2654807</th>\n",
       "      <td>5215633</td>\n",
       "      <td>2016</td>\n",
       "      <td>151</td>\n",
       "      <td>1305</td>\n",
       "      <td>1287</td>\n",
       "      <td>85</td>\n",
       "      <td>82</td>\n",
       "      <td>0</td>\n",
       "      <td>0</td>\n",
       "      <td>1787</td>\n",
       "      <td>1287</td>\n",
       "      <td>6780</td>\n",
       "      <td>reb</td>\n",
       "      <td>def</td>\n",
       "      <td>0</td>\n",
       "      <td>0</td>\n",
       "      <td>0</td>\n",
       "    </tr>\n",
       "  </tbody>\n",
       "</table>\n",
       "</div>"
      ],
      "text/plain": [
       "         EventID  Season  DayNum  WTeamID  LTeamID  WFinalScore  LFinalScore  \\\n",
       "2654807  5215633    2016     151     1305     1287           85           82   \n",
       "\n",
       "         WCurrentScore  LCurrentScore  ElapsedSeconds  EventTeamID  \\\n",
       "2654807              0              0            1787         1287   \n",
       "\n",
       "         EventPlayerID EventType EventSubType  X  Y  Area  \n",
       "2654807           6780       reb          def  0  0     0  "
      ]
     },
     "execution_count": 13,
     "metadata": {},
     "output_type": "execute_result"
    }
   ],
   "source": [
    "stage_1_df[stage_1_df.EventID == 5215633]"
   ]
  },
  {
   "cell_type": "markdown",
   "metadata": {},
   "source": [
    "Then, we decide to **use only the stage_2 data**."
   ]
  }
 ],
 "metadata": {
  "kernelspec": {
   "display_name": "Python 3",
   "language": "python",
   "name": "python3"
  },
  "language_info": {
   "codemirror_mode": {
    "name": "ipython",
    "version": 3
   },
   "file_extension": ".py",
   "mimetype": "text/x-python",
   "name": "python",
   "nbconvert_exporter": "python",
   "pygments_lexer": "ipython3",
   "version": "3.7.6"
  }
 },
 "nbformat": 4,
 "nbformat_minor": 1
}

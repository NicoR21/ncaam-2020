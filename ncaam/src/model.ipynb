{
 "cells": [
  {
   "cell_type": "markdown",
   "source": [
    "# Modèles et prédictions"
   ],
   "metadata": {
    "collapsed": false,
    "pycharm": {
     "name": "#%% md\n"
    }
   }
  },
  {
   "cell_type": "code",
   "execution_count": 1,
   "metadata": {
    "collapsed": true
   },
   "outputs": [],
   "source": [
    "import numpy as np\n",
    "import pandas as pd\n",
    "pd.set_option('max_columns', None)\n",
    "import matplotlib.pyplot as plt\n",
    "import seaborn as sns\n",
    "plt.style.use('seaborn')\n",
    "%matplotlib inline\n",
    "\n",
    "from sklearn.base import BaseEstimator, TransformerMixin\n",
    "from sklearn.model_selection import train_test_split, StratifiedKFold, KFold, cross_val_score, GridSearchCV, RepeatedStratifiedKFold\n",
    "import lightgbm as lgb\n",
    "import time\n",
    "import copy\n",
    "from sklearn.metrics import accuracy_score, roc_auc_score, log_loss, classification_report, confusion_matrix\n",
    "\n",
    "\n",
    "from ncaam.src.dao.loader import Loader"
   ]
  },
  {
   "cell_type": "code",
   "execution_count": 2,
   "outputs": [],
   "source": [
    "loader = Loader()\n",
    "data = loader.import_data([\"MNCAATourneySeeds\", \"MNCAATourneyCompactResults\", \"MRegularSeasonCompactResults\"])"
   ],
   "metadata": {
    "collapsed": false,
    "pycharm": {
     "name": "#%%\n"
    }
   }
  },
  {
   "cell_type": "markdown",
   "source": [
    "### Helper functions and classes"
   ],
   "metadata": {
    "collapsed": false,
    "pycharm": {
     "name": "#%% md\n"
    }
   }
  },
  {
   "cell_type": "code",
   "execution_count": 3,
   "outputs": [],
   "source": [
    "class LGBWrapper(object):\n",
    "    \"\"\"\n",
    "    A wrapper for lightgbm model so that we will have a single api for various models.\n",
    "    \"\"\"\n",
    "\n",
    "    def __init__(self):\n",
    "        self.model = lgb.LGBMClassifier()\n",
    "\n",
    "    def fit(self, X_train, y_train, X_valid=None, y_valid=None, X_holdout=None, y_holdout=None, params=None):\n",
    "\n",
    "        eval_set = [(X_train, y_train)]\n",
    "        eval_names = ['train']\n",
    "        self.model = self.model.set_params(**params)\n",
    "\n",
    "        if X_valid is not None:\n",
    "            eval_set.append((X_valid, y_valid))\n",
    "            eval_names.append('valid')\n",
    "\n",
    "        if X_holdout is not None:\n",
    "            eval_set.append((X_holdout, y_holdout))\n",
    "            eval_names.append('holdout')\n",
    "\n",
    "        if 'cat_cols' in params.keys():\n",
    "            cat_cols = [col for col in params['cat_cols'] if col in X_train.columns]\n",
    "            if len(cat_cols) > 0:\n",
    "                categorical_columns = params['cat_cols']\n",
    "            else:\n",
    "                categorical_columns = 'auto'\n",
    "        else:\n",
    "            categorical_columns = 'auto'\n",
    "\n",
    "        self.model.fit(X=X_train, y=y_train,\n",
    "                       eval_set=eval_set, eval_names=eval_names,\n",
    "                       verbose=params['verbose'], early_stopping_rounds=params['early_stopping_rounds'])\n",
    "\n",
    "        self.best_score_ = self.model.best_score_\n",
    "        self.feature_importances_ = self.model.feature_importances_\n",
    "\n",
    "    def predict_proba(self, X_test):\n",
    "        if self.model.objective == 'binary':\n",
    "            return self.model.predict_proba(X_test, num_iteration=self.model.best_iteration_)[:, 1]\n",
    "        else:\n",
    "            return self.model.predict_proba(X_test, num_iteration=self.model.best_iteration_)"
   ],
   "metadata": {
    "collapsed": false,
    "pycharm": {
     "name": "#%%\n"
    }
   }
  },
  {
   "cell_type": "code",
   "execution_count": 4,
   "outputs": [],
   "source": [
    "class MainTransformer(BaseEstimator, TransformerMixin):\n",
    "\n",
    "    def __init__(self, convert_cyclical: bool = False, create_interactions: bool = False, n_interactions: int = 20):\n",
    "        \"\"\"\n",
    "        Main transformer for the data. Can be used for processing on the whole data.\n",
    "\n",
    "        :param convert_cyclical: convert cyclical features into continuous\n",
    "        :param create_interactions: create interactions between features\n",
    "        \"\"\"\n",
    "\n",
    "        self.convert_cyclical = convert_cyclical\n",
    "        self.create_interactions = create_interactions\n",
    "        self.feats_for_interaction = None\n",
    "        self.n_interactions = n_interactions\n",
    "\n",
    "    def fit(self, X, y=None):\n",
    "\n",
    "        if self.create_interactions:\n",
    "            pass\n",
    "        return self\n",
    "\n",
    "    def transform(self, X, y=None):\n",
    "        data = copy.deepcopy(X)\n",
    "\n",
    "        # data['installation_event_code_count_mean'] = data.groupby(['installation_id'])['sum_event_code_count'].transform('mean')\n",
    "\n",
    "        return data\n",
    "\n",
    "    def fit_transform(self, X, y=None, **fit_params):\n",
    "        data = copy.deepcopy(X)\n",
    "        self.fit(data)\n",
    "        return self.transform(data)\n",
    "\n",
    "\n",
    "class FeatureTransformer(BaseEstimator, TransformerMixin):\n",
    "\n",
    "    def __init__(self, main_cat_features: list = None, num_cols: list = None):\n",
    "        \"\"\"\n",
    "\n",
    "        :param main_cat_features:\n",
    "        :param num_cols:\n",
    "        \"\"\"\n",
    "        self.main_cat_features = main_cat_features\n",
    "        self.num_cols = num_cols\n",
    "\n",
    "    def fit(self, X, y=None):\n",
    "\n",
    "        self.num_cols = [col for col in X.columns if 'sum' in col or 'mean' in col or 'max' in col or 'std' in col\n",
    "                         or 'attempt' in col]\n",
    "\n",
    "        return self\n",
    "\n",
    "    def transform(self, X, y=None):\n",
    "        data = copy.deepcopy(X)\n",
    "#         for col in self.num_cols:\n",
    "#             data[f'{col}_to_mean'] = data[col] / data.groupby('installation_id')[col].transform('mean')\n",
    "#             data[f'{col}_to_std'] = data[col] / data.groupby('installation_id')[col].transform('std')\n",
    "\n",
    "        return data\n",
    "\n",
    "    def fit_transform(self, X, y=None, **fit_params):\n",
    "        data = copy.deepcopy(X)\n",
    "        self.fit(data)\n",
    "        return self.transform(data)"
   ],
   "metadata": {
    "collapsed": false,
    "pycharm": {
     "name": "#%%\n"
    }
   }
  },
  {
   "cell_type": "code",
   "execution_count": 5,
   "outputs": [],
   "source": [
    "class ClassifierModel(object):\n",
    "    \"\"\"\n",
    "    A wrapper class for classification models.\n",
    "    It can be used for training and prediction.\n",
    "    Can plot feature importance and training progress (if relevant for model).\n",
    "\n",
    "    \"\"\"\n",
    "\n",
    "    def __init__(self, columns: list = None, model_wrapper=None):\n",
    "        \"\"\"\n",
    "\n",
    "        :param original_columns:\n",
    "        :param model_wrapper:\n",
    "        \"\"\"\n",
    "        self.columns = columns\n",
    "        self.model_wrapper = model_wrapper\n",
    "        self.result_dict = {}\n",
    "        self.train_one_fold = False\n",
    "        self.preprocesser = None\n",
    "\n",
    "    def fit(self, X: pd.DataFrame, y,\n",
    "            X_holdout: pd.DataFrame = None, y_holdout=None,\n",
    "            folds=None,\n",
    "            params: dict = None,\n",
    "            eval_metric='auc',\n",
    "            cols_to_drop: list = None,\n",
    "            preprocesser=None,\n",
    "            transformers: dict = None,\n",
    "            adversarial: bool = False,\n",
    "            plot: bool = True):\n",
    "        \"\"\"\n",
    "        Training the model.\n",
    "\n",
    "        :param X: training data\n",
    "        :param y: training target\n",
    "        :param X_holdout: holdout data\n",
    "        :param y_holdout: holdout target\n",
    "        :param folds: folds to split the data. If not defined, then model will be trained on the whole X\n",
    "        :param params: training parameters\n",
    "        :param eval_metric: metric for validataion\n",
    "        :param cols_to_drop: list of columns to drop (for example ID)\n",
    "        :param preprocesser: preprocesser class\n",
    "        :param transformers: transformer to use on folds\n",
    "        :param adversarial\n",
    "        :return:\n",
    "        \"\"\"\n",
    "        self.cols_to_drop = cols_to_drop\n",
    "\n",
    "        if folds is None:\n",
    "            folds = KFold(n_splits=3, random_state=42)\n",
    "            self.train_one_fold = True\n",
    "\n",
    "        self.columns = X.columns if self.columns is None else self.columns\n",
    "        self.feature_importances = pd.DataFrame(columns=['feature', 'importance'])\n",
    "        self.trained_transformers = {k: [] for k in transformers}\n",
    "        self.transformers = transformers\n",
    "        self.models = []\n",
    "        self.folds_dict = {}\n",
    "        self.eval_metric = eval_metric\n",
    "        n_target = 1 if len(set(y.values)) == 2 else len(set(y.values))\n",
    "        self.oof = np.zeros((len(X), n_target))\n",
    "        self.n_target = n_target\n",
    "\n",
    "        X = X[self.columns]\n",
    "        if X_holdout is not None:\n",
    "            X_holdout = X_holdout[self.columns]\n",
    "\n",
    "        if preprocesser is not None:\n",
    "            self.preprocesser = preprocesser\n",
    "            self.preprocesser.fit(X, y)\n",
    "            X = self.preprocesser.transform(X, y)\n",
    "            self.columns = X.columns.tolist()\n",
    "            if X_holdout is not None:\n",
    "                X_holdout = self.preprocesser.transform(X_holdout)\n",
    "            # y = X['accuracy_group']\n",
    "\n",
    "        for fold_n, (train_index, valid_index) in enumerate(folds.split(X, y)):\n",
    "            if X_holdout is not None:\n",
    "                X_hold = X_holdout.copy()\n",
    "            else:\n",
    "                X_hold = None\n",
    "            self.folds_dict[fold_n] = {}\n",
    "            if params['verbose']:\n",
    "                print(f'Fold {fold_n + 1} started at {time.ctime()}')\n",
    "            self.folds_dict[fold_n] = {}\n",
    "\n",
    "            X_train, X_valid = X.iloc[train_index], X.iloc[valid_index]\n",
    "            y_train, y_valid = y.iloc[train_index], y.iloc[valid_index]\n",
    "            if self.train_one_fold:\n",
    "                X_train = X[self.original_columns]\n",
    "                y_train = y\n",
    "                X_valid = None\n",
    "                y_valid = None\n",
    "\n",
    "            datasets = {'X_train': X_train, 'X_valid': X_valid, 'X_holdout': X_hold, 'y_train': y_train}\n",
    "            X_train, X_valid, X_hold = self.transform_(datasets, cols_to_drop)\n",
    "\n",
    "            self.folds_dict[fold_n]['columns'] = X_train.columns.tolist()\n",
    "\n",
    "            model = copy.deepcopy(self.model_wrapper)\n",
    "\n",
    "            if adversarial:\n",
    "                X_new1 = X_train.copy()\n",
    "                if X_valid is not None:\n",
    "                    X_new2 = X_valid.copy()\n",
    "                elif X_holdout is not None:\n",
    "                    X_new2 = X_holdout.copy()\n",
    "                X_new = pd.concat([X_new1, X_new2], axis=0)\n",
    "                y_new = np.hstack((np.zeros((X_new1.shape[0])), np.ones((X_new2.shape[0]))))\n",
    "                X_train, X_valid, y_train, y_valid = train_test_split(X_new, y_new)\n",
    "\n",
    "            model.fit(X_train, y_train, X_valid, y_valid, X_hold, y_holdout, params=params)\n",
    "\n",
    "            self.folds_dict[fold_n]['scores'] = model.best_score_\n",
    "            if self.oof.shape[0] != len(X):\n",
    "                self.oof = np.zeros((X.shape[0], self.oof.shape[1]))\n",
    "            if not adversarial:\n",
    "                self.oof[valid_index] = model.predict_proba(X_valid).reshape(-1, n_target)\n",
    "\n",
    "            fold_importance = pd.DataFrame(list(zip(X_train.columns, model.feature_importances_)),\n",
    "                                           columns=['feature', 'importance'])\n",
    "            self.feature_importances = self.feature_importances.append(fold_importance)\n",
    "            self.models.append(model)\n",
    "\n",
    "        self.feature_importances['importance'] = self.feature_importances['importance'].astype(float)\n",
    "\n",
    "        # if params['verbose']:\n",
    "        self.calc_scores_()\n",
    "\n",
    "        if plot:\n",
    "#             print(classification_report(y, self.oof.argmax(1)))\n",
    "            print(classification_report(y, (self.oof > 0.5) * 1))\n",
    "            fig, ax = plt.subplots(figsize=(16, 12))\n",
    "            plt.subplot(2, 2, 1)\n",
    "            self.plot_feature_importance(top_n=25)\n",
    "            plt.subplot(2, 2, 2)\n",
    "            self.plot_metric()\n",
    "            plt.subplot(2, 2, 3)\n",
    "            g = sns.heatmap(confusion_matrix(y, (self.oof > 0.5) * 1), annot=True, cmap=plt.cm.Blues,fmt=\"d\")\n",
    "            g.set(ylim=(-0.5, 4), xlim=(-0.5, 4), title='Confusion matrix')\n",
    "\n",
    "            plt.subplot(2, 2, 4)\n",
    "            plt.hist(self.oof)\n",
    "            plt.xticks(range(self.n_target), range(self.n_target))\n",
    "            plt.title('Distribution of oof predictions');\n",
    "\n",
    "    def transform_(self, datasets, cols_to_drop):\n",
    "        for name, transformer in self.transformers.items():\n",
    "            transformer.fit(datasets['X_train'], datasets['y_train'])\n",
    "            datasets['X_train'] = transformer.transform(datasets['X_train'])\n",
    "            if datasets['X_valid'] is not None:\n",
    "                datasets['X_valid'] = transformer.transform(datasets['X_valid'])\n",
    "            if datasets['X_holdout'] is not None:\n",
    "                datasets['X_holdout'] = transformer.transform(datasets['X_holdout'])\n",
    "            self.trained_transformers[name].append(transformer)\n",
    "        if cols_to_drop is not None:\n",
    "            cols_to_drop = [col for col in cols_to_drop if col in datasets['X_train'].columns]\n",
    "            self.cols_to_drop = cols_to_drop\n",
    "            datasets['X_train'] = datasets['X_train'].drop(cols_to_drop, axis=1)\n",
    "            if datasets['X_valid'] is not None:\n",
    "                datasets['X_valid'] = datasets['X_valid'].drop(cols_to_drop, axis=1)\n",
    "            if datasets['X_holdout'] is not None:\n",
    "                datasets['X_holdout'] = datasets['X_holdout'].drop(cols_to_drop, axis=1)\n",
    "\n",
    "        return datasets['X_train'], datasets['X_valid'], datasets['X_holdout']\n",
    "\n",
    "    def calc_scores_(self):\n",
    "        print()\n",
    "        datasets = [k for k, v in [v['scores'] for k, v in self.folds_dict.items()][0].items() if len(v) > 0]\n",
    "        self.scores = {}\n",
    "        for d in datasets:\n",
    "            scores = [v['scores'][d][self.eval_metric] for k, v in self.folds_dict.items()]\n",
    "            print(f\"CV mean score on {d}: {np.mean(scores):.4f} +/- {np.std(scores):.4f} std.\")\n",
    "            self.scores[d] = np.mean(scores)\n",
    "\n",
    "    def predict(self, X_test, averaging: str = 'usual'):\n",
    "        \"\"\"\n",
    "        Make prediction\n",
    "\n",
    "        :param X_test:\n",
    "        :param averaging: method of averaging\n",
    "        :return:\n",
    "        \"\"\"\n",
    "        full_prediction = np.zeros((X_test.shape[0], self.oof.shape[1]))\n",
    "        if self.preprocesser is not None:\n",
    "            X_test = self.preprocesser.transform(X_test)\n",
    "        for i in range(len(self.models)):\n",
    "            X_t = X_test.copy()\n",
    "            for name, transformers in self.trained_transformers.items():\n",
    "                X_t = transformers[i].transform(X_t)\n",
    "            if self.cols_to_drop:\n",
    "                cols_to_drop = [col for col in self.cols_to_drop if col in X_t.columns]\n",
    "                X_t = X_t.drop(cols_to_drop, axis=1)\n",
    "            y_pred = self.models[i].predict_proba(X_t[self.folds_dict[i]['columns']]).reshape(-1, full_prediction.shape[1])\n",
    "\n",
    "            # if case transformation changes the number of the rows\n",
    "            if full_prediction.shape[0] != len(y_pred):\n",
    "                full_prediction = np.zeros((y_pred.shape[0], self.oof.shape[1]))\n",
    "\n",
    "            if averaging == 'usual':\n",
    "                full_prediction += y_pred\n",
    "            elif averaging == 'rank':\n",
    "                full_prediction += pd.Series(y_pred).rank().values\n",
    "\n",
    "        return full_prediction / len(self.models)\n",
    "\n",
    "    def plot_feature_importance(self, drop_null_importance: bool = True, top_n: int = 10):\n",
    "        \"\"\"\n",
    "        Plot default feature importance.\n",
    "\n",
    "        :param drop_null_importance: drop columns with null feature importance\n",
    "        :param top_n: show top n columns\n",
    "        :return:\n",
    "        \"\"\"\n",
    "\n",
    "        top_feats = self.get_top_features(drop_null_importance, top_n)\n",
    "        feature_importances = self.feature_importances.loc[self.feature_importances['feature'].isin(top_feats)]\n",
    "        feature_importances['feature'] = feature_importances['feature'].astype(str)\n",
    "        top_feats = [str(i) for i in top_feats]\n",
    "        sns.barplot(data=feature_importances, x='importance', y='feature', orient='h', order=top_feats)\n",
    "        plt.title('Feature importances')\n",
    "\n",
    "    def get_top_features(self, drop_null_importance: bool = True, top_n: int = 10):\n",
    "        \"\"\"\n",
    "        Get top features by importance.\n",
    "\n",
    "        :param drop_null_importance:\n",
    "        :param top_n:\n",
    "        :return:\n",
    "        \"\"\"\n",
    "        grouped_feats = self.feature_importances.groupby(['feature'])['importance'].mean()\n",
    "        if drop_null_importance:\n",
    "            grouped_feats = grouped_feats[grouped_feats != 0]\n",
    "        return list(grouped_feats.sort_values(ascending=False).index)[:top_n]\n",
    "\n",
    "    def plot_metric(self):\n",
    "        \"\"\"\n",
    "        Plot training progress.\n",
    "        Inspired by `plot_metric` from https://lightgbm.readthedocs.io/en/latest/_modules/lightgbm/plotting.html\n",
    "\n",
    "        :return:\n",
    "        \"\"\"\n",
    "        full_evals_results = pd.DataFrame()\n",
    "        for model in self.models:\n",
    "            evals_result = pd.DataFrame()\n",
    "            for k in model.model.evals_result_.keys():\n",
    "                evals_result[k] = model.model.evals_result_[k][self.eval_metric]\n",
    "            evals_result = evals_result.reset_index().rename(columns={'index': 'iteration'})\n",
    "            full_evals_results = full_evals_results.append(evals_result)\n",
    "\n",
    "        full_evals_results = full_evals_results.melt(id_vars=['iteration']).rename(columns={'value': self.eval_metric,\n",
    "                                                                                            'variable': 'dataset'})\n",
    "        full_evals_results[self.eval_metric] = np.abs(full_evals_results[self.eval_metric])\n",
    "        sns.lineplot(data=full_evals_results, x='iteration', y=self.eval_metric, hue='dataset')\n",
    "        plt.title('Training progress')"
   ],
   "metadata": {
    "collapsed": false,
    "pycharm": {
     "name": "#%%\n"
    }
   }
  },
  {
   "cell_type": "code",
   "execution_count": 6,
   "outputs": [
    {
     "data": {
      "text/plain": "   Season Seed  TeamID\n0    1985  W01    1207\n1    1985  W02    1210\n2    1985  W03    1228\n3    1985  W04    1260\n4    1985  W05    1374",
      "text/html": "<div>\n<style scoped>\n    .dataframe tbody tr th:only-of-type {\n        vertical-align: middle;\n    }\n\n    .dataframe tbody tr th {\n        vertical-align: top;\n    }\n\n    .dataframe thead th {\n        text-align: right;\n    }\n</style>\n<table border=\"1\" class=\"dataframe\">\n  <thead>\n    <tr style=\"text-align: right;\">\n      <th></th>\n      <th>Season</th>\n      <th>Seed</th>\n      <th>TeamID</th>\n    </tr>\n  </thead>\n  <tbody>\n    <tr>\n      <th>0</th>\n      <td>1985</td>\n      <td>W01</td>\n      <td>1207</td>\n    </tr>\n    <tr>\n      <th>1</th>\n      <td>1985</td>\n      <td>W02</td>\n      <td>1210</td>\n    </tr>\n    <tr>\n      <th>2</th>\n      <td>1985</td>\n      <td>W03</td>\n      <td>1228</td>\n    </tr>\n    <tr>\n      <th>3</th>\n      <td>1985</td>\n      <td>W04</td>\n      <td>1260</td>\n    </tr>\n    <tr>\n      <th>4</th>\n      <td>1985</td>\n      <td>W05</td>\n      <td>1374</td>\n    </tr>\n  </tbody>\n</table>\n</div>"
     },
     "execution_count": 6,
     "metadata": {},
     "output_type": "execute_result"
    }
   ],
   "source": [
    "MNCAATourneySeeds = data[\"MNCAATourneySeeds\"]\n",
    "MNCAATourneySeeds.head()"
   ],
   "metadata": {
    "collapsed": false,
    "pycharm": {
     "name": "#%%\n"
    }
   }
  },
  {
   "cell_type": "code",
   "execution_count": 7,
   "outputs": [
    {
     "data": {
      "text/plain": "   Season  DayNum  WTeamID  WScore  LTeamID  LScore WLoc  NumOT\n0    1985     136     1116      63     1234      54    N      0\n1    1985     136     1120      59     1345      58    N      0\n2    1985     136     1207      68     1250      43    N      0\n3    1985     136     1229      58     1425      55    N      0\n4    1985     136     1242      49     1325      38    N      0",
      "text/html": "<div>\n<style scoped>\n    .dataframe tbody tr th:only-of-type {\n        vertical-align: middle;\n    }\n\n    .dataframe tbody tr th {\n        vertical-align: top;\n    }\n\n    .dataframe thead th {\n        text-align: right;\n    }\n</style>\n<table border=\"1\" class=\"dataframe\">\n  <thead>\n    <tr style=\"text-align: right;\">\n      <th></th>\n      <th>Season</th>\n      <th>DayNum</th>\n      <th>WTeamID</th>\n      <th>WScore</th>\n      <th>LTeamID</th>\n      <th>LScore</th>\n      <th>WLoc</th>\n      <th>NumOT</th>\n    </tr>\n  </thead>\n  <tbody>\n    <tr>\n      <th>0</th>\n      <td>1985</td>\n      <td>136</td>\n      <td>1116</td>\n      <td>63</td>\n      <td>1234</td>\n      <td>54</td>\n      <td>N</td>\n      <td>0</td>\n    </tr>\n    <tr>\n      <th>1</th>\n      <td>1985</td>\n      <td>136</td>\n      <td>1120</td>\n      <td>59</td>\n      <td>1345</td>\n      <td>58</td>\n      <td>N</td>\n      <td>0</td>\n    </tr>\n    <tr>\n      <th>2</th>\n      <td>1985</td>\n      <td>136</td>\n      <td>1207</td>\n      <td>68</td>\n      <td>1250</td>\n      <td>43</td>\n      <td>N</td>\n      <td>0</td>\n    </tr>\n    <tr>\n      <th>3</th>\n      <td>1985</td>\n      <td>136</td>\n      <td>1229</td>\n      <td>58</td>\n      <td>1425</td>\n      <td>55</td>\n      <td>N</td>\n      <td>0</td>\n    </tr>\n    <tr>\n      <th>4</th>\n      <td>1985</td>\n      <td>136</td>\n      <td>1242</td>\n      <td>49</td>\n      <td>1325</td>\n      <td>38</td>\n      <td>N</td>\n      <td>0</td>\n    </tr>\n  </tbody>\n</table>\n</div>"
     },
     "execution_count": 7,
     "metadata": {},
     "output_type": "execute_result"
    }
   ],
   "source": [
    "MNCAATourneyCompactResults = data[\"MNCAATourneyCompactResults\"]\n",
    "MNCAATourneyCompactResults.head()"
   ],
   "metadata": {
    "collapsed": false,
    "pycharm": {
     "name": "#%%\n"
    }
   }
  },
  {
   "cell_type": "code",
   "execution_count": 8,
   "outputs": [
    {
     "data": {
      "text/plain": "   Season  DayNum  WTeamID  WScore  LTeamID  LScore WLoc  NumOT\n0    1985      20     1228      81     1328      64    N      0\n1    1985      25     1106      77     1354      70    H      0\n2    1985      25     1112      63     1223      56    H      0\n3    1985      25     1165      70     1432      54    H      0\n4    1985      25     1192      86     1447      74    H      0",
      "text/html": "<div>\n<style scoped>\n    .dataframe tbody tr th:only-of-type {\n        vertical-align: middle;\n    }\n\n    .dataframe tbody tr th {\n        vertical-align: top;\n    }\n\n    .dataframe thead th {\n        text-align: right;\n    }\n</style>\n<table border=\"1\" class=\"dataframe\">\n  <thead>\n    <tr style=\"text-align: right;\">\n      <th></th>\n      <th>Season</th>\n      <th>DayNum</th>\n      <th>WTeamID</th>\n      <th>WScore</th>\n      <th>LTeamID</th>\n      <th>LScore</th>\n      <th>WLoc</th>\n      <th>NumOT</th>\n    </tr>\n  </thead>\n  <tbody>\n    <tr>\n      <th>0</th>\n      <td>1985</td>\n      <td>20</td>\n      <td>1228</td>\n      <td>81</td>\n      <td>1328</td>\n      <td>64</td>\n      <td>N</td>\n      <td>0</td>\n    </tr>\n    <tr>\n      <th>1</th>\n      <td>1985</td>\n      <td>25</td>\n      <td>1106</td>\n      <td>77</td>\n      <td>1354</td>\n      <td>70</td>\n      <td>H</td>\n      <td>0</td>\n    </tr>\n    <tr>\n      <th>2</th>\n      <td>1985</td>\n      <td>25</td>\n      <td>1112</td>\n      <td>63</td>\n      <td>1223</td>\n      <td>56</td>\n      <td>H</td>\n      <td>0</td>\n    </tr>\n    <tr>\n      <th>3</th>\n      <td>1985</td>\n      <td>25</td>\n      <td>1165</td>\n      <td>70</td>\n      <td>1432</td>\n      <td>54</td>\n      <td>H</td>\n      <td>0</td>\n    </tr>\n    <tr>\n      <th>4</th>\n      <td>1985</td>\n      <td>25</td>\n      <td>1192</td>\n      <td>86</td>\n      <td>1447</td>\n      <td>74</td>\n      <td>H</td>\n      <td>0</td>\n    </tr>\n  </tbody>\n</table>\n</div>"
     },
     "execution_count": 8,
     "metadata": {},
     "output_type": "execute_result"
    }
   ],
   "source": [
    "MRegularSeasonCompactResults = data[\"MRegularSeasonCompactResults\"]\n",
    "MRegularSeasonCompactResults.head()"
   ],
   "metadata": {
    "collapsed": false,
    "pycharm": {
     "name": "#%%\n"
    }
   }
  },
  {
   "cell_type": "code",
   "execution_count": 9,
   "outputs": [
    {
     "data": {
      "text/plain": "<Figure size 432x288 with 1 Axes>",
      "image/png": "[encoded data removed]"
     },
     "metadata": {
      "needs_background": "light"
     },
     "output_type": "display_data"
    }
   ],
   "source": [
    "MNCAATourneyCompactResults.groupby(['Season'])['WScore'].mean().plot(kind='line');\n",
    "plt.title('Mean scores of winning teams by season in tourneys');"
   ],
   "metadata": {
    "collapsed": false,
    "pycharm": {
     "name": "#%%\n"
    }
   }
  },
  {
   "cell_type": "code",
   "execution_count": 10,
   "outputs": [
    {
     "data": {
      "text/plain": "<Figure size 432x288 with 1 Axes>",
      "image/png": "[encoded data removed]"
     },
     "metadata": {
      "needs_background": "light"
     },
     "output_type": "display_data"
    }
   ],
   "source": [
    "MRegularSeasonCompactResults.groupby(['Season'])['WScore'].mean().plot();\n",
    "plt.title('Mean scores of winning teams by season in regular plays');"
   ],
   "metadata": {
    "collapsed": false,
    "pycharm": {
     "name": "#%%\n"
    }
   }
  },
  {
   "cell_type": "markdown",
   "source": [
    "### Data processing and feature engineering"
   ],
   "metadata": {
    "collapsed": false,
    "pycharm": {
     "name": "#%% md\n"
    }
   }
  },
  {
   "cell_type": "code",
   "execution_count": 11,
   "outputs": [
    {
     "name": "stderr",
     "output_type": "stream",
     "text": [
      "/Users/nicolasrousseau/pycharm_projects/ncaam-2020/venv/lib/python3.7/site-packages/ipykernel_launcher.py:3: SettingWithCopyWarning: \n",
      "A value is trying to be set on a copy of a slice from a DataFrame.\n",
      "Try using .loc[row_indexer,col_indexer] = value instead\n",
      "\n",
      "See the caveats in the documentation: https://pandas.pydata.org/pandas-docs/stable/user_guide/indexing.html#returning-a-view-versus-a-copy\n",
      "  This is separate from the ipykernel package so we can avoid doing imports until\n"
     ]
    },
    {
     "data": {
      "text/plain": "   Season  WTeamID  LTeamID  WSeed  LSeed\n0    1985     1116     1234      9      8\n1    1985     1120     1345     11      6\n2    1985     1207     1250      1     16\n3    1985     1229     1425      9      8\n4    1985     1242     1325      3     14",
      "text/html": "<div>\n<style scoped>\n    .dataframe tbody tr th:only-of-type {\n        vertical-align: middle;\n    }\n\n    .dataframe tbody tr th {\n        vertical-align: top;\n    }\n\n    .dataframe thead th {\n        text-align: right;\n    }\n</style>\n<table border=\"1\" class=\"dataframe\">\n  <thead>\n    <tr style=\"text-align: right;\">\n      <th></th>\n      <th>Season</th>\n      <th>WTeamID</th>\n      <th>LTeamID</th>\n      <th>WSeed</th>\n      <th>LSeed</th>\n    </tr>\n  </thead>\n  <tbody>\n    <tr>\n      <th>0</th>\n      <td>1985</td>\n      <td>1116</td>\n      <td>1234</td>\n      <td>9</td>\n      <td>8</td>\n    </tr>\n    <tr>\n      <th>1</th>\n      <td>1985</td>\n      <td>1120</td>\n      <td>1345</td>\n      <td>11</td>\n      <td>6</td>\n    </tr>\n    <tr>\n      <th>2</th>\n      <td>1985</td>\n      <td>1207</td>\n      <td>1250</td>\n      <td>1</td>\n      <td>16</td>\n    </tr>\n    <tr>\n      <th>3</th>\n      <td>1985</td>\n      <td>1229</td>\n      <td>1425</td>\n      <td>9</td>\n      <td>8</td>\n    </tr>\n    <tr>\n      <th>4</th>\n      <td>1985</td>\n      <td>1242</td>\n      <td>1325</td>\n      <td>3</td>\n      <td>14</td>\n    </tr>\n  </tbody>\n</table>\n</div>"
     },
     "execution_count": 11,
     "metadata": {},
     "output_type": "execute_result"
    }
   ],
   "source": [
    "# process seed\n",
    "MNCAATourneySeeds = MNCAATourneySeeds.loc[MNCAATourneySeeds['Season'] <= 2014]\n",
    "MNCAATourneySeeds['Seed'] = MNCAATourneySeeds['Seed'].apply(lambda x: int(x[1:3]))\n",
    "\n",
    "# take only useful columns\n",
    "MNCAATourneySeeds = MNCAATourneySeeds[['Season', 'TeamID', 'Seed']]\n",
    "MNCAATourneyCompactResults = MNCAATourneyCompactResults[['Season','WTeamID', 'LTeamID']]\n",
    "MNCAATourneyCompactResults = MNCAATourneyCompactResults.loc[MNCAATourneyCompactResults['Season'] <= 2014]\n",
    "\n",
    "# merge the data and rename the columns\n",
    "df = pd.merge(MNCAATourneyCompactResults, MNCAATourneySeeds,\n",
    "              how='left', left_on=['Season', 'WTeamID'], right_on=['Season', 'TeamID'])\n",
    "df = pd.merge(df, MNCAATourneySeeds, how='left', left_on=['Season', 'LTeamID'], right_on=['Season', 'TeamID'])\n",
    "df = df.drop(['TeamID_x', 'TeamID_y'], axis=1)\n",
    "df.columns = ['Season', 'WTeamID', 'LTeamID', 'WSeed', 'LSeed']\n",
    "df.head()"
   ],
   "metadata": {
    "collapsed": false,
    "pycharm": {
     "name": "#%%\n"
    }
   }
  },
  {
   "cell_type": "code",
   "execution_count": 12,
   "outputs": [
    {
     "data": {
      "text/plain": "   Season  WTeamID_x  LTeamID_x  WSeed  LSeed  WScore_sum_x  WScore_count_x  \\\n0    1985       1116       1234      9      8          1448              21   \n1    1985       1120       1345     11      6          1308              18   \n2    1985       1207       1250      1     16          1917              25   \n3    1985       1229       1425      9      8          1484              20   \n4    1985       1242       1325      3     14          1809              23   \n\n   LScore_sum_x  LScore_count_x  LScore_sum_y  LScore_count_y  WScore_sum_y  \\\n0         567.0            10.0         708.0            12.0          1525   \n1         537.0             8.0         732.0            11.0          1191   \n2        1085.0            18.0         128.0             2.0           822   \n3         529.0             9.0         449.0             7.0          1386   \n4         475.0             7.0         472.0             7.0          1349   \n\n   WScore_count_y  \n0              20  \n1              17  \n2              11  \n3              19  \n4              20  ",
      "text/html": "<div>\n<style scoped>\n    .dataframe tbody tr th:only-of-type {\n        vertical-align: middle;\n    }\n\n    .dataframe tbody tr th {\n        vertical-align: top;\n    }\n\n    .dataframe thead th {\n        text-align: right;\n    }\n</style>\n<table border=\"1\" class=\"dataframe\">\n  <thead>\n    <tr style=\"text-align: right;\">\n      <th></th>\n      <th>Season</th>\n      <th>WTeamID_x</th>\n      <th>LTeamID_x</th>\n      <th>WSeed</th>\n      <th>LSeed</th>\n      <th>WScore_sum_x</th>\n      <th>WScore_count_x</th>\n      <th>LScore_sum_x</th>\n      <th>LScore_count_x</th>\n      <th>LScore_sum_y</th>\n      <th>LScore_count_y</th>\n      <th>WScore_sum_y</th>\n      <th>WScore_count_y</th>\n    </tr>\n  </thead>\n  <tbody>\n    <tr>\n      <th>0</th>\n      <td>1985</td>\n      <td>1116</td>\n      <td>1234</td>\n      <td>9</td>\n      <td>8</td>\n      <td>1448</td>\n      <td>21</td>\n      <td>567.0</td>\n      <td>10.0</td>\n      <td>708.0</td>\n      <td>12.0</td>\n      <td>1525</td>\n      <td>20</td>\n    </tr>\n    <tr>\n      <th>1</th>\n      <td>1985</td>\n      <td>1120</td>\n      <td>1345</td>\n      <td>11</td>\n      <td>6</td>\n      <td>1308</td>\n      <td>18</td>\n      <td>537.0</td>\n      <td>8.0</td>\n      <td>732.0</td>\n      <td>11.0</td>\n      <td>1191</td>\n      <td>17</td>\n    </tr>\n    <tr>\n      <th>2</th>\n      <td>1985</td>\n      <td>1207</td>\n      <td>1250</td>\n      <td>1</td>\n      <td>16</td>\n      <td>1917</td>\n      <td>25</td>\n      <td>1085.0</td>\n      <td>18.0</td>\n      <td>128.0</td>\n      <td>2.0</td>\n      <td>822</td>\n      <td>11</td>\n    </tr>\n    <tr>\n      <th>3</th>\n      <td>1985</td>\n      <td>1229</td>\n      <td>1425</td>\n      <td>9</td>\n      <td>8</td>\n      <td>1484</td>\n      <td>20</td>\n      <td>529.0</td>\n      <td>9.0</td>\n      <td>449.0</td>\n      <td>7.0</td>\n      <td>1386</td>\n      <td>19</td>\n    </tr>\n    <tr>\n      <th>4</th>\n      <td>1985</td>\n      <td>1242</td>\n      <td>1325</td>\n      <td>3</td>\n      <td>14</td>\n      <td>1809</td>\n      <td>23</td>\n      <td>475.0</td>\n      <td>7.0</td>\n      <td>472.0</td>\n      <td>7.0</td>\n      <td>1349</td>\n      <td>20</td>\n    </tr>\n  </tbody>\n</table>\n</div>"
     },
     "execution_count": 12,
     "metadata": {},
     "output_type": "execute_result"
    }
   ],
   "source": [
    "team_win_score = MRegularSeasonCompactResults.groupby(['Season', 'WTeamID']).agg({'WScore':['sum', 'count']}).reset_index()\n",
    "team_win_score.columns = ['Season', 'WTeamID', 'WScore_sum', 'WScore_count']\n",
    "\n",
    "team_loss_score = MRegularSeasonCompactResults.groupby(['Season', 'LTeamID']).agg({'LScore':['sum', 'count']}).reset_index()\n",
    "team_loss_score.columns = ['Season', 'LTeamID', 'LScore_sum', 'LScore_count']\n",
    "\n",
    "df = pd.merge(df, team_win_score, how='left', left_on=['Season', 'WTeamID'], right_on=['Season', 'WTeamID'])\n",
    "df = pd.merge(df, team_loss_score, how='left', left_on=['Season', 'LTeamID'], right_on=['Season', 'LTeamID'])\n",
    "df = pd.merge(df, team_loss_score, how='left', left_on=['Season', 'WTeamID'], right_on=['Season', 'LTeamID'])\n",
    "df = pd.merge(df, team_win_score, how='left', left_on=['Season', 'LTeamID_x'], right_on=['Season', 'WTeamID'])\n",
    "\n",
    "df.drop(['LTeamID_y', 'WTeamID_y'], axis=1, inplace=True)\n",
    "df.head()"
   ],
   "metadata": {
    "collapsed": false,
    "pycharm": {
     "name": "#%%\n"
    }
   }
  },
  {
   "cell_type": "code",
   "execution_count": 13,
   "outputs": [
    {
     "data": {
      "text/plain": "   Season  WTeamID_x  LTeamID_x  WSeed  LSeed  WScore_sum_x  WScore_count_x  \\\n0    1985       1116       1234      9      8          1448              21   \n1    1985       1120       1345     11      6          1308              18   \n2    1985       1207       1250      1     16          1917              25   \n3    1985       1229       1425      9      8          1484              20   \n4    1985       1242       1325      3     14          1809              23   \n\n   LScore_sum_x  LScore_count_x  LScore_sum_y  LScore_count_y  WScore_sum_y  \\\n0         567.0            10.0         708.0            12.0          1525   \n1         537.0             8.0         732.0            11.0          1191   \n2        1085.0            18.0         128.0             2.0           822   \n3         529.0             9.0         449.0             7.0          1386   \n4         475.0             7.0         472.0             7.0          1349   \n\n   WScore_count_y  x_score  y_score  x_count  y_count  \n0              20   2156.0   2092.0     33.0     30.0  \n1              17   2040.0   1728.0     29.0     25.0  \n2              11   2045.0   1907.0     27.0     29.0  \n3              19   1933.0   1915.0     27.0     28.0  \n4              20   2281.0   1824.0     30.0     27.0  ",
      "text/html": "<div>\n<style scoped>\n    .dataframe tbody tr th:only-of-type {\n        vertical-align: middle;\n    }\n\n    .dataframe tbody tr th {\n        vertical-align: top;\n    }\n\n    .dataframe thead th {\n        text-align: right;\n    }\n</style>\n<table border=\"1\" class=\"dataframe\">\n  <thead>\n    <tr style=\"text-align: right;\">\n      <th></th>\n      <th>Season</th>\n      <th>WTeamID_x</th>\n      <th>LTeamID_x</th>\n      <th>WSeed</th>\n      <th>LSeed</th>\n      <th>WScore_sum_x</th>\n      <th>WScore_count_x</th>\n      <th>LScore_sum_x</th>\n      <th>LScore_count_x</th>\n      <th>LScore_sum_y</th>\n      <th>LScore_count_y</th>\n      <th>WScore_sum_y</th>\n      <th>WScore_count_y</th>\n      <th>x_score</th>\n      <th>y_score</th>\n      <th>x_count</th>\n      <th>y_count</th>\n    </tr>\n  </thead>\n  <tbody>\n    <tr>\n      <th>0</th>\n      <td>1985</td>\n      <td>1116</td>\n      <td>1234</td>\n      <td>9</td>\n      <td>8</td>\n      <td>1448</td>\n      <td>21</td>\n      <td>567.0</td>\n      <td>10.0</td>\n      <td>708.0</td>\n      <td>12.0</td>\n      <td>1525</td>\n      <td>20</td>\n      <td>2156.0</td>\n      <td>2092.0</td>\n      <td>33.0</td>\n      <td>30.0</td>\n    </tr>\n    <tr>\n      <th>1</th>\n      <td>1985</td>\n      <td>1120</td>\n      <td>1345</td>\n      <td>11</td>\n      <td>6</td>\n      <td>1308</td>\n      <td>18</td>\n      <td>537.0</td>\n      <td>8.0</td>\n      <td>732.0</td>\n      <td>11.0</td>\n      <td>1191</td>\n      <td>17</td>\n      <td>2040.0</td>\n      <td>1728.0</td>\n      <td>29.0</td>\n      <td>25.0</td>\n    </tr>\n    <tr>\n      <th>2</th>\n      <td>1985</td>\n      <td>1207</td>\n      <td>1250</td>\n      <td>1</td>\n      <td>16</td>\n      <td>1917</td>\n      <td>25</td>\n      <td>1085.0</td>\n      <td>18.0</td>\n      <td>128.0</td>\n      <td>2.0</td>\n      <td>822</td>\n      <td>11</td>\n      <td>2045.0</td>\n      <td>1907.0</td>\n      <td>27.0</td>\n      <td>29.0</td>\n    </tr>\n    <tr>\n      <th>3</th>\n      <td>1985</td>\n      <td>1229</td>\n      <td>1425</td>\n      <td>9</td>\n      <td>8</td>\n      <td>1484</td>\n      <td>20</td>\n      <td>529.0</td>\n      <td>9.0</td>\n      <td>449.0</td>\n      <td>7.0</td>\n      <td>1386</td>\n      <td>19</td>\n      <td>1933.0</td>\n      <td>1915.0</td>\n      <td>27.0</td>\n      <td>28.0</td>\n    </tr>\n    <tr>\n      <th>4</th>\n      <td>1985</td>\n      <td>1242</td>\n      <td>1325</td>\n      <td>3</td>\n      <td>14</td>\n      <td>1809</td>\n      <td>23</td>\n      <td>475.0</td>\n      <td>7.0</td>\n      <td>472.0</td>\n      <td>7.0</td>\n      <td>1349</td>\n      <td>20</td>\n      <td>2281.0</td>\n      <td>1824.0</td>\n      <td>30.0</td>\n      <td>27.0</td>\n    </tr>\n  </tbody>\n</table>\n</div>"
     },
     "execution_count": 13,
     "metadata": {},
     "output_type": "execute_result"
    }
   ],
   "source": [
    "df['x_score'] = df['WScore_sum_x'] + df['LScore_sum_y']\n",
    "df['y_score'] = df['WScore_sum_y'] + df['LScore_sum_x']\n",
    "df['x_count'] = df['WScore_count_x'] + df['LScore_count_y']\n",
    "df['y_count'] = df['WScore_count_y'] + df['LScore_count_x']\n",
    "\n",
    "df.head()"
   ],
   "metadata": {
    "collapsed": false,
    "pycharm": {
     "name": "#%%\n"
    }
   }
  },
  {
   "cell_type": "code",
   "execution_count": 14,
   "outputs": [],
   "source": [
    "df_win = df.copy()\n",
    "df_los = df.copy()\n",
    "df_win = df_win[['WSeed', 'LSeed', 'x_score', 'y_score', 'x_count', 'y_count']]\n",
    "df_los = df_los[['LSeed', 'WSeed', 'y_score', 'x_score', 'y_count', 'x_count']]\n",
    "df_win.columns = ['Seed_1', 'Seed_2', 'Score_1', 'Score_2', 'Count_1', 'Count_2']\n",
    "df_los.columns = ['Seed_1', 'Seed_2', 'Score_1', 'Score_2', 'Count_1', 'Count_2']"
   ],
   "metadata": {
    "collapsed": false,
    "pycharm": {
     "name": "#%%\n"
    }
   }
  },
  {
   "cell_type": "code",
   "execution_count": 15,
   "outputs": [],
   "source": [
    "df_win['Seed_diff'] = df_win['Seed_1'] - df_win['Seed_2']\n",
    "df_win['Score_diff'] = df_win['Score_1'] - df_win['Score_2']\n",
    "df_los['Seed_diff'] = df_los['Seed_1'] - df_los['Seed_2']\n",
    "df_los['Score_diff'] = df_los['Score_1'] - df_los['Score_2']\n",
    "\n",
    "df_win['Count_diff'] = df_win['Count_1'] - df_win['Count_2']\n",
    "df_win['Mean_score1'] = df_win['Score_1'] / df_win['Count_1']\n",
    "df_win['Mean_score2'] = df_win['Score_2'] / df_win['Count_2']\n",
    "df_win['Mean_score_diff'] = df_win['Mean_score1'] - df_win['Mean_score2']\n",
    "df_los['Count_diff'] = df_los['Count_1'] - df_los['Count_2']\n",
    "df_los['Mean_score1'] = df_los['Score_1'] / df_los['Count_1']\n",
    "df_los['Mean_score2'] = df_los['Score_2'] / df_los['Count_2']\n",
    "df_los['Mean_score_diff'] = df_los['Mean_score1'] - df_los['Mean_score2']"
   ],
   "metadata": {
    "collapsed": false,
    "pycharm": {
     "name": "#%%\n"
    }
   }
  },
  {
   "cell_type": "code",
   "execution_count": 16,
   "outputs": [],
   "source": [
    "df_win['result'] = 1\n",
    "df_los['result'] = 0\n",
    "data = pd.concat((df_win, df_los)).reset_index(drop=True)"
   ],
   "metadata": {
    "collapsed": false,
    "pycharm": {
     "name": "#%%\n"
    }
   }
  },
  {
   "cell_type": "code",
   "execution_count": 17,
   "outputs": [
    {
     "name": "stdout",
     "output_type": "stream",
     "text": [
      "Score_1\n",
      "Score_2\n",
      "Count_1\n",
      "Count_2\n",
      "Score_diff\n",
      "Count_diff\n"
     ]
    }
   ],
   "source": [
    "for col in ['Score_1', 'Score_2', 'Count_1', 'Count_2', 'Score_diff', 'Count_diff']:\n",
    "    print(col)\n",
    "    data[col] = data[col].fillna(0).astype(int)"
   ],
   "metadata": {
    "collapsed": false,
    "pycharm": {
     "name": "#%%\n"
    }
   }
  },
  {
   "cell_type": "code",
   "execution_count": 18,
   "outputs": [
    {
     "data": {
      "text/plain": "   Seed_1  Seed_2  Score_1  Score_2  Count_1  Count_2  Seed_diff  Score_diff  \\\n0       9       8     2156     2092       33       30          1          64   \n1      11       6     2040     1728       29       25          5         312   \n2       1      16     2045     1907       27       29        -15         138   \n3       9       8     1933     1915       27       28          1          18   \n4       3      14     2281     1824       30       27        -11         457   \n\n   Count_diff  Mean_score1  Mean_score2  Mean_score_diff  result  \n0           3    65.333333    69.733333        -4.400000       1  \n1           4    70.344828    69.120000         1.224828       1  \n2          -2    75.740741    65.758621         9.982120       1  \n3          -1    71.592593    68.392857         3.199735       1  \n4           3    76.033333    67.555556         8.477778       1  ",
      "text/html": "<div>\n<style scoped>\n    .dataframe tbody tr th:only-of-type {\n        vertical-align: middle;\n    }\n\n    .dataframe tbody tr th {\n        vertical-align: top;\n    }\n\n    .dataframe thead th {\n        text-align: right;\n    }\n</style>\n<table border=\"1\" class=\"dataframe\">\n  <thead>\n    <tr style=\"text-align: right;\">\n      <th></th>\n      <th>Seed_1</th>\n      <th>Seed_2</th>\n      <th>Score_1</th>\n      <th>Score_2</th>\n      <th>Count_1</th>\n      <th>Count_2</th>\n      <th>Seed_diff</th>\n      <th>Score_diff</th>\n      <th>Count_diff</th>\n      <th>Mean_score1</th>\n      <th>Mean_score2</th>\n      <th>Mean_score_diff</th>\n      <th>result</th>\n    </tr>\n  </thead>\n  <tbody>\n    <tr>\n      <th>0</th>\n      <td>9</td>\n      <td>8</td>\n      <td>2156</td>\n      <td>2092</td>\n      <td>33</td>\n      <td>30</td>\n      <td>1</td>\n      <td>64</td>\n      <td>3</td>\n      <td>65.333333</td>\n      <td>69.733333</td>\n      <td>-4.400000</td>\n      <td>1</td>\n    </tr>\n    <tr>\n      <th>1</th>\n      <td>11</td>\n      <td>6</td>\n      <td>2040</td>\n      <td>1728</td>\n      <td>29</td>\n      <td>25</td>\n      <td>5</td>\n      <td>312</td>\n      <td>4</td>\n      <td>70.344828</td>\n      <td>69.120000</td>\n      <td>1.224828</td>\n      <td>1</td>\n    </tr>\n    <tr>\n      <th>2</th>\n      <td>1</td>\n      <td>16</td>\n      <td>2045</td>\n      <td>1907</td>\n      <td>27</td>\n      <td>29</td>\n      <td>-15</td>\n      <td>138</td>\n      <td>-2</td>\n      <td>75.740741</td>\n      <td>65.758621</td>\n      <td>9.982120</td>\n      <td>1</td>\n    </tr>\n    <tr>\n      <th>3</th>\n      <td>9</td>\n      <td>8</td>\n      <td>1933</td>\n      <td>1915</td>\n      <td>27</td>\n      <td>28</td>\n      <td>1</td>\n      <td>18</td>\n      <td>-1</td>\n      <td>71.592593</td>\n      <td>68.392857</td>\n      <td>3.199735</td>\n      <td>1</td>\n    </tr>\n    <tr>\n      <th>4</th>\n      <td>3</td>\n      <td>14</td>\n      <td>2281</td>\n      <td>1824</td>\n      <td>30</td>\n      <td>27</td>\n      <td>-11</td>\n      <td>457</td>\n      <td>3</td>\n      <td>76.033333</td>\n      <td>67.555556</td>\n      <td>8.477778</td>\n      <td>1</td>\n    </tr>\n  </tbody>\n</table>\n</div>"
     },
     "execution_count": 18,
     "metadata": {},
     "output_type": "execute_result"
    }
   ],
   "source": [
    "data.head()"
   ],
   "metadata": {
    "collapsed": false,
    "pycharm": {
     "name": "#%%\n"
    }
   }
  },
  {
   "cell_type": "markdown",
   "source": [
    "### Training model"
   ],
   "metadata": {
    "collapsed": false,
    "pycharm": {
     "name": "#%% md\n"
    }
   }
  },
  {
   "cell_type": "code",
   "execution_count": 19,
   "outputs": [],
   "source": [
    "n_fold = 5\n",
    "folds = RepeatedStratifiedKFold(n_splits=n_fold)\n",
    "# folds = StratifiedKFold(n_splits=n_fold)"
   ],
   "metadata": {
    "collapsed": false,
    "pycharm": {
     "name": "#%%\n"
    }
   }
  },
  {
   "cell_type": "code",
   "execution_count": 20,
   "outputs": [],
   "source": [
    "X = data.drop(['result'], axis=1)\n",
    "y = data['result']"
   ],
   "metadata": {
    "collapsed": false,
    "pycharm": {
     "name": "#%%\n"
    }
   }
  },
  {
   "cell_type": "code",
   "execution_count": 21,
   "outputs": [
    {
     "name": "stdout",
     "output_type": "stream",
     "text": [
      "Fold 1 started at Mon May 11 12:57:39 2020\n",
      "Training until validation scores don't improve for 30 rounds\n",
      "[100]\ttrain's binary_logloss: 0.592929\tvalid's binary_logloss: 0.605781\n",
      "[200]\ttrain's binary_logloss: 0.548655\tvalid's binary_logloss: 0.573773\n",
      "[300]\ttrain's binary_logloss: 0.523594\tvalid's binary_logloss: 0.560073\n",
      "[400]\ttrain's binary_logloss: 0.506955\tvalid's binary_logloss: 0.554289\n",
      "[500]\ttrain's binary_logloss: 0.494021\tvalid's binary_logloss: 0.551705\n",
      "[600]\ttrain's binary_logloss: 0.483604\tvalid's binary_logloss: 0.550926\n",
      "Early stopping, best iteration is:\n",
      "[656]\ttrain's binary_logloss: 0.478163\tvalid's binary_logloss: 0.550741\n",
      "Fold 2 started at Mon May 11 12:57:39 2020\n",
      "Training until validation scores don't improve for 30 rounds\n",
      "[100]\ttrain's binary_logloss: 0.591416\tvalid's binary_logloss: 0.607647\n",
      "[200]\ttrain's binary_logloss: 0.546299\tvalid's binary_logloss: 0.578983\n",
      "[300]\ttrain's binary_logloss: 0.520626\tvalid's binary_logloss: 0.566999\n",
      "[400]\ttrain's binary_logloss: 0.503232\tvalid's binary_logloss: 0.563224\n",
      "Early stopping, best iteration is:\n",
      "[453]\ttrain's binary_logloss: 0.495725\tvalid's binary_logloss: 0.562333\n",
      "Fold 3 started at Mon May 11 12:57:41 2020\n",
      "Training until validation scores don't improve for 30 rounds\n",
      "[100]\ttrain's binary_logloss: 0.595295\tvalid's binary_logloss: 0.602718\n",
      "[200]\ttrain's binary_logloss: 0.552616\tvalid's binary_logloss: 0.565506\n",
      "[300]\ttrain's binary_logloss: 0.527777\tvalid's binary_logloss: 0.548384\n",
      "[400]\ttrain's binary_logloss: 0.510851\tvalid's binary_logloss: 0.540531\n",
      "[500]\ttrain's binary_logloss: 0.497569\tvalid's binary_logloss: 0.536915\n",
      "[600]\ttrain's binary_logloss: 0.486679\tvalid's binary_logloss: 0.535989\n",
      "Early stopping, best iteration is:\n",
      "[588]\ttrain's binary_logloss: 0.487889\tvalid's binary_logloss: 0.535952\n",
      "Fold 4 started at Mon May 11 12:57:41 2020\n",
      "Training until validation scores don't improve for 30 rounds\n",
      "[100]\ttrain's binary_logloss: 0.590068\tvalid's binary_logloss: 0.615783\n",
      "[200]\ttrain's binary_logloss: 0.544696\tvalid's binary_logloss: 0.587929\n",
      "[300]\ttrain's binary_logloss: 0.518729\tvalid's binary_logloss: 0.576929\n",
      "[400]\ttrain's binary_logloss: 0.501577\tvalid's binary_logloss: 0.572494\n",
      "Early stopping, best iteration is:\n",
      "[459]\ttrain's binary_logloss: 0.493147\tvalid's binary_logloss: 0.571822\n",
      "Fold 5 started at Mon May 11 12:57:42 2020\n",
      "Training until validation scores don't improve for 30 rounds\n",
      "[100]\ttrain's binary_logloss: 0.595903\tvalid's binary_logloss: 0.597644\n",
      "[200]\ttrain's binary_logloss: 0.553144\tvalid's binary_logloss: 0.560425\n",
      "[300]\ttrain's binary_logloss: 0.528474\tvalid's binary_logloss: 0.542514\n",
      "[400]\ttrain's binary_logloss: 0.5117\tvalid's binary_logloss: 0.534616\n",
      "[500]\ttrain's binary_logloss: 0.49865\tvalid's binary_logloss: 0.530038\n",
      "[600]\ttrain's binary_logloss: 0.487757\tvalid's binary_logloss: 0.527233\n",
      "[700]\ttrain's binary_logloss: 0.478054\tvalid's binary_logloss: 0.526345\n",
      "Early stopping, best iteration is:\n",
      "[698]\ttrain's binary_logloss: 0.478251\tvalid's binary_logloss: 0.526303\n",
      "Fold 6 started at Mon May 11 12:57:43 2020\n",
      "Training until validation scores don't improve for 30 rounds\n",
      "[100]\ttrain's binary_logloss: 0.589743\tvalid's binary_logloss: 0.61624\n",
      "[200]\ttrain's binary_logloss: 0.544566\tvalid's binary_logloss: 0.588569\n",
      "[300]\ttrain's binary_logloss: 0.519047\tvalid's binary_logloss: 0.577271\n",
      "[400]\ttrain's binary_logloss: 0.502085\tvalid's binary_logloss: 0.572242\n",
      "[500]\ttrain's binary_logloss: 0.4888\tvalid's binary_logloss: 0.569667\n",
      "[600]\ttrain's binary_logloss: 0.478031\tvalid's binary_logloss: 0.569131\n",
      "Early stopping, best iteration is:\n",
      "[571]\ttrain's binary_logloss: 0.480984\tvalid's binary_logloss: 0.568948\n",
      "Fold 7 started at Mon May 11 12:57:43 2020\n",
      "Training until validation scores don't improve for 30 rounds\n",
      "[100]\ttrain's binary_logloss: 0.594254\tvalid's binary_logloss: 0.600707\n",
      "[200]\ttrain's binary_logloss: 0.550579\tvalid's binary_logloss: 0.565526\n",
      "[300]\ttrain's binary_logloss: 0.525451\tvalid's binary_logloss: 0.550536\n",
      "[400]\ttrain's binary_logloss: 0.508878\tvalid's binary_logloss: 0.544586\n",
      "[500]\ttrain's binary_logloss: 0.495762\tvalid's binary_logloss: 0.542229\n",
      "Early stopping, best iteration is:\n",
      "[494]\ttrain's binary_logloss: 0.496447\tvalid's binary_logloss: 0.542023\n",
      "Fold 8 started at Mon May 11 12:57:44 2020\n",
      "Training until validation scores don't improve for 30 rounds\n",
      "[100]\ttrain's binary_logloss: 0.598879\tvalid's binary_logloss: 0.590035\n",
      "[200]\ttrain's binary_logloss: 0.556664\tvalid's binary_logloss: 0.548412\n",
      "[300]\ttrain's binary_logloss: 0.532406\tvalid's binary_logloss: 0.52877\n",
      "[400]\ttrain's binary_logloss: 0.516203\tvalid's binary_logloss: 0.519397\n",
      "[500]\ttrain's binary_logloss: 0.50345\tvalid's binary_logloss: 0.514086\n",
      "[600]\ttrain's binary_logloss: 0.492817\tvalid's binary_logloss: 0.511415\n",
      "[700]\ttrain's binary_logloss: 0.483103\tvalid's binary_logloss: 0.510235\n",
      "Early stopping, best iteration is:\n",
      "[706]\ttrain's binary_logloss: 0.482539\tvalid's binary_logloss: 0.510154\n",
      "Fold 9 started at Mon May 11 12:57:45 2020\n",
      "Training until validation scores don't improve for 30 rounds\n",
      "[100]\ttrain's binary_logloss: 0.593226\tvalid's binary_logloss: 0.608655\n",
      "[200]\ttrain's binary_logloss: 0.548908\tvalid's binary_logloss: 0.57592\n",
      "[300]\ttrain's binary_logloss: 0.52392\tvalid's binary_logloss: 0.560946\n",
      "[400]\ttrain's binary_logloss: 0.507227\tvalid's binary_logloss: 0.553537\n",
      "[500]\ttrain's binary_logloss: 0.494243\tvalid's binary_logloss: 0.549715\n",
      "[600]\ttrain's binary_logloss: 0.483654\tvalid's binary_logloss: 0.5484\n",
      "Early stopping, best iteration is:\n",
      "[599]\ttrain's binary_logloss: 0.483755\tvalid's binary_logloss: 0.548396\n",
      "Fold 10 started at Mon May 11 12:57:45 2020\n",
      "Training until validation scores don't improve for 30 rounds\n",
      "[100]\ttrain's binary_logloss: 0.58936\tvalid's binary_logloss: 0.61317\n",
      "[200]\ttrain's binary_logloss: 0.543452\tvalid's binary_logloss: 0.586666\n",
      "[300]\ttrain's binary_logloss: 0.517464\tvalid's binary_logloss: 0.577172\n",
      "[400]\ttrain's binary_logloss: 0.499955\tvalid's binary_logloss: 0.574268\n",
      "Early stopping, best iteration is:\n",
      "[456]\ttrain's binary_logloss: 0.4921\tvalid's binary_logloss: 0.573784\n",
      "Fold 11 started at Mon May 11 12:57:46 2020\n",
      "Training until validation scores don't improve for 30 rounds\n",
      "[100]\ttrain's binary_logloss: 0.593959\tvalid's binary_logloss: 0.60321\n",
      "[200]\ttrain's binary_logloss: 0.549483\tvalid's binary_logloss: 0.569125\n",
      "[300]\ttrain's binary_logloss: 0.524423\tvalid's binary_logloss: 0.554441\n",
      "[400]\ttrain's binary_logloss: 0.507774\tvalid's binary_logloss: 0.547801\n",
      "[500]\ttrain's binary_logloss: 0.494196\tvalid's binary_logloss: 0.544541\n",
      "[600]\ttrain's binary_logloss: 0.482676\tvalid's binary_logloss: 0.543757\n",
      "Early stopping, best iteration is:\n",
      "[583]\ttrain's binary_logloss: 0.484541\tvalid's binary_logloss: 0.543608\n",
      "Fold 12 started at Mon May 11 12:57:47 2020\n",
      "Training until validation scores don't improve for 30 rounds\n",
      "[100]\ttrain's binary_logloss: 0.591526\tvalid's binary_logloss: 0.609852\n",
      "[200]\ttrain's binary_logloss: 0.546895\tvalid's binary_logloss: 0.581063\n",
      "[300]\ttrain's binary_logloss: 0.521224\tvalid's binary_logloss: 0.569055\n",
      "[400]\ttrain's binary_logloss: 0.504117\tvalid's binary_logloss: 0.563279\n",
      "[500]\ttrain's binary_logloss: 0.490186\tvalid's binary_logloss: 0.561406\n",
      "Early stopping, best iteration is:\n",
      "[513]\ttrain's binary_logloss: 0.488617\tvalid's binary_logloss: 0.561261\n",
      "Fold 13 started at Mon May 11 12:57:47 2020\n",
      "Training until validation scores don't improve for 30 rounds\n",
      "[100]\ttrain's binary_logloss: 0.591017\tvalid's binary_logloss: 0.609247\n",
      "[200]\ttrain's binary_logloss: 0.545995\tvalid's binary_logloss: 0.579626\n",
      "[300]\ttrain's binary_logloss: 0.520422\tvalid's binary_logloss: 0.568386\n",
      "[400]\ttrain's binary_logloss: 0.503375\tvalid's binary_logloss: 0.564814\n",
      "[500]\ttrain's binary_logloss: 0.489891\tvalid's binary_logloss: 0.563673\n",
      "Early stopping, best iteration is:\n",
      "[474]\ttrain's binary_logloss: 0.493118\tvalid's binary_logloss: 0.563615\n",
      "Fold 14 started at Mon May 11 12:57:48 2020\n",
      "Training until validation scores don't improve for 30 rounds\n",
      "[100]\ttrain's binary_logloss: 0.594158\tvalid's binary_logloss: 0.602366\n",
      "[200]\ttrain's binary_logloss: 0.550901\tvalid's binary_logloss: 0.566182\n",
      "[300]\ttrain's binary_logloss: 0.526422\tvalid's binary_logloss: 0.549112\n",
      "[400]\ttrain's binary_logloss: 0.509914\tvalid's binary_logloss: 0.540634\n",
      "[500]\ttrain's binary_logloss: 0.496889\tvalid's binary_logloss: 0.536483\n",
      "[600]\ttrain's binary_logloss: 0.486032\tvalid's binary_logloss: 0.53462\n",
      "Early stopping, best iteration is:\n",
      "[656]\ttrain's binary_logloss: 0.48073\tvalid's binary_logloss: 0.533964\n",
      "Fold 15 started at Mon May 11 12:57:48 2020\n",
      "Training until validation scores don't improve for 30 rounds\n",
      "[100]\ttrain's binary_logloss: 0.595665\tvalid's binary_logloss: 0.60087\n",
      "[200]\ttrain's binary_logloss: 0.552156\tvalid's binary_logloss: 0.56413\n",
      "[300]\ttrain's binary_logloss: 0.52737\tvalid's binary_logloss: 0.547453\n",
      "[400]\ttrain's binary_logloss: 0.510486\tvalid's binary_logloss: 0.539425\n",
      "[500]\ttrain's binary_logloss: 0.497476\tvalid's binary_logloss: 0.53584\n",
      "[600]\ttrain's binary_logloss: 0.486843\tvalid's binary_logloss: 0.534695\n",
      "[700]\ttrain's binary_logloss: 0.477609\tvalid's binary_logloss: 0.534438\n",
      "Early stopping, best iteration is:\n",
      "[679]\ttrain's binary_logloss: 0.479477\tvalid's binary_logloss: 0.534187\n",
      "Fold 16 started at Mon May 11 12:57:49 2020\n",
      "Training until validation scores don't improve for 30 rounds\n",
      "[100]\ttrain's binary_logloss: 0.592041\tvalid's binary_logloss: 0.608475\n",
      "[200]\ttrain's binary_logloss: 0.547609\tvalid's binary_logloss: 0.57817\n",
      "[300]\ttrain's binary_logloss: 0.52242\tvalid's binary_logloss: 0.565651\n",
      "[400]\ttrain's binary_logloss: 0.505105\tvalid's binary_logloss: 0.561174\n",
      "[500]\ttrain's binary_logloss: 0.491688\tvalid's binary_logloss: 0.559374\n",
      "Early stopping, best iteration is:\n",
      "[496]\ttrain's binary_logloss: 0.492188\tvalid's binary_logloss: 0.559265\n",
      "Fold 17 started at Mon May 11 12:57:49 2020\n",
      "Training until validation scores don't improve for 30 rounds\n",
      "[100]\ttrain's binary_logloss: 0.591938\tvalid's binary_logloss: 0.609379\n",
      "[200]\ttrain's binary_logloss: 0.547262\tvalid's binary_logloss: 0.579138\n",
      "[300]\ttrain's binary_logloss: 0.521875\tvalid's binary_logloss: 0.567196\n",
      "[400]\ttrain's binary_logloss: 0.504543\tvalid's binary_logloss: 0.563245\n",
      "[500]\ttrain's binary_logloss: 0.490929\tvalid's binary_logloss: 0.561176\n",
      "Early stopping, best iteration is:\n",
      "[509]\ttrain's binary_logloss: 0.489859\tvalid's binary_logloss: 0.560938\n",
      "Fold 18 started at Mon May 11 12:57:50 2020\n",
      "Training until validation scores don't improve for 30 rounds\n",
      "[100]\ttrain's binary_logloss: 0.59472\tvalid's binary_logloss: 0.60177\n",
      "[200]\ttrain's binary_logloss: 0.550636\tvalid's binary_logloss: 0.566664\n",
      "[300]\ttrain's binary_logloss: 0.524962\tvalid's binary_logloss: 0.551795\n",
      "[400]\ttrain's binary_logloss: 0.50756\tvalid's binary_logloss: 0.545235\n",
      "[500]\ttrain's binary_logloss: 0.494335\tvalid's binary_logloss: 0.542177\n",
      "[600]\ttrain's binary_logloss: 0.483437\tvalid's binary_logloss: 0.542053\n",
      "Early stopping, best iteration is:\n",
      "[572]\ttrain's binary_logloss: 0.486326\tvalid's binary_logloss: 0.541795\n",
      "Fold 19 started at Mon May 11 12:57:50 2020\n",
      "Training until validation scores don't improve for 30 rounds\n",
      "[100]\ttrain's binary_logloss: 0.592541\tvalid's binary_logloss: 0.608787\n",
      "[200]\ttrain's binary_logloss: 0.547988\tvalid's binary_logloss: 0.578111\n",
      "[300]\ttrain's binary_logloss: 0.522312\tvalid's binary_logloss: 0.566373\n",
      "[400]\ttrain's binary_logloss: 0.505075\tvalid's binary_logloss: 0.561581\n",
      "[500]\ttrain's binary_logloss: 0.491964\tvalid's binary_logloss: 0.559839\n",
      "Early stopping, best iteration is:\n",
      "[500]\ttrain's binary_logloss: 0.491964\tvalid's binary_logloss: 0.559839\n",
      "Fold 20 started at Mon May 11 12:57:51 2020\n",
      "Training until validation scores don't improve for 30 rounds\n",
      "[100]\ttrain's binary_logloss: 0.594604\tvalid's binary_logloss: 0.603784\n",
      "[200]\ttrain's binary_logloss: 0.551295\tvalid's binary_logloss: 0.568705\n",
      "[300]\ttrain's binary_logloss: 0.526691\tvalid's binary_logloss: 0.552101\n",
      "[400]\ttrain's binary_logloss: 0.510512\tvalid's binary_logloss: 0.543399\n",
      "[500]\ttrain's binary_logloss: 0.497663\tvalid's binary_logloss: 0.539063\n",
      "[600]\ttrain's binary_logloss: 0.487095\tvalid's binary_logloss: 0.536479\n",
      "[700]\ttrain's binary_logloss: 0.477907\tvalid's binary_logloss: 0.535421\n",
      "Early stopping, best iteration is:\n",
      "[726]\ttrain's binary_logloss: 0.475702\tvalid's binary_logloss: 0.534844\n",
      "Fold 21 started at Mon May 11 12:57:52 2020\n",
      "Training until validation scores don't improve for 30 rounds\n",
      "[100]\ttrain's binary_logloss: 0.592148\tvalid's binary_logloss: 0.609038\n",
      "[200]\ttrain's binary_logloss: 0.547764\tvalid's binary_logloss: 0.579825\n",
      "[300]\ttrain's binary_logloss: 0.522362\tvalid's binary_logloss: 0.566282\n",
      "[400]\ttrain's binary_logloss: 0.505291\tvalid's binary_logloss: 0.560366\n",
      "[500]\ttrain's binary_logloss: 0.492384\tvalid's binary_logloss: 0.558067\n",
      "[600]\ttrain's binary_logloss: 0.48158\tvalid's binary_logloss: 0.557465\n",
      "Early stopping, best iteration is:\n",
      "[585]\ttrain's binary_logloss: 0.483159\tvalid's binary_logloss: 0.557358\n",
      "Fold 22 started at Mon May 11 12:57:52 2020\n",
      "Training until validation scores don't improve for 30 rounds\n",
      "[100]\ttrain's binary_logloss: 0.593402\tvalid's binary_logloss: 0.606066\n",
      "[200]\ttrain's binary_logloss: 0.549775\tvalid's binary_logloss: 0.571593\n",
      "[300]\ttrain's binary_logloss: 0.524884\tvalid's binary_logloss: 0.55546\n",
      "[400]\ttrain's binary_logloss: 0.508011\tvalid's binary_logloss: 0.548013\n",
      "[500]\ttrain's binary_logloss: 0.495003\tvalid's binary_logloss: 0.544636\n",
      "[600]\ttrain's binary_logloss: 0.484265\tvalid's binary_logloss: 0.542472\n",
      "Early stopping, best iteration is:\n",
      "[617]\ttrain's binary_logloss: 0.482647\tvalid's binary_logloss: 0.542217\n",
      "Fold 23 started at Mon May 11 12:57:53 2020\n",
      "Training until validation scores don't improve for 30 rounds\n",
      "[100]\ttrain's binary_logloss: 0.592388\tvalid's binary_logloss: 0.603854\n",
      "[200]\ttrain's binary_logloss: 0.547906\tvalid's binary_logloss: 0.572728\n",
      "[300]\ttrain's binary_logloss: 0.52244\tvalid's binary_logloss: 0.561159\n",
      "[400]\ttrain's binary_logloss: 0.505629\tvalid's binary_logloss: 0.556075\n",
      "Early stopping, best iteration is:\n",
      "[459]\ttrain's binary_logloss: 0.497398\tvalid's binary_logloss: 0.554956\n",
      "Fold 24 started at Mon May 11 12:57:53 2020\n",
      "Training until validation scores don't improve for 30 rounds\n",
      "[100]\ttrain's binary_logloss: 0.593228\tvalid's binary_logloss: 0.604132\n",
      "[200]\ttrain's binary_logloss: 0.549091\tvalid's binary_logloss: 0.571076\n",
      "[300]\ttrain's binary_logloss: 0.523674\tvalid's binary_logloss: 0.556812\n",
      "[400]\ttrain's binary_logloss: 0.506545\tvalid's binary_logloss: 0.550418\n",
      "[500]\ttrain's binary_logloss: 0.492949\tvalid's binary_logloss: 0.547563\n",
      "Early stopping, best iteration is:\n",
      "[502]\ttrain's binary_logloss: 0.492711\tvalid's binary_logloss: 0.547508\n",
      "Fold 25 started at Mon May 11 12:57:54 2020\n",
      "Training until validation scores don't improve for 30 rounds\n",
      "[100]\ttrain's binary_logloss: 0.593896\tvalid's binary_logloss: 0.604754\n",
      "[200]\ttrain's binary_logloss: 0.549946\tvalid's binary_logloss: 0.570996\n",
      "[300]\ttrain's binary_logloss: 0.524638\tvalid's binary_logloss: 0.55662\n",
      "[400]\ttrain's binary_logloss: 0.507248\tvalid's binary_logloss: 0.550338\n",
      "[500]\ttrain's binary_logloss: 0.494071\tvalid's binary_logloss: 0.547738\n",
      "[600]\ttrain's binary_logloss: 0.483132\tvalid's binary_logloss: 0.546802\n",
      "Early stopping, best iteration is:\n",
      "[608]\ttrain's binary_logloss: 0.482368\tvalid's binary_logloss: 0.54669\n",
      "Fold 26 started at Mon May 11 12:57:54 2020\n",
      "Training until validation scores don't improve for 30 rounds\n",
      "[100]\ttrain's binary_logloss: 0.592538\tvalid's binary_logloss: 0.607157\n",
      "[200]\ttrain's binary_logloss: 0.548109\tvalid's binary_logloss: 0.576685\n",
      "[300]\ttrain's binary_logloss: 0.522867\tvalid's binary_logloss: 0.5632\n",
      "[400]\ttrain's binary_logloss: 0.506056\tvalid's binary_logloss: 0.556783\n",
      "[500]\ttrain's binary_logloss: 0.492969\tvalid's binary_logloss: 0.55348\n",
      "Early stopping, best iteration is:\n",
      "[542]\ttrain's binary_logloss: 0.488016\tvalid's binary_logloss: 0.55284\n",
      "Fold 27 started at Mon May 11 12:57:55 2020\n",
      "Training until validation scores don't improve for 30 rounds\n",
      "[100]\ttrain's binary_logloss: 0.594846\tvalid's binary_logloss: 0.600882\n",
      "[200]\ttrain's binary_logloss: 0.55051\tvalid's binary_logloss: 0.567205\n",
      "[300]\ttrain's binary_logloss: 0.524386\tvalid's binary_logloss: 0.552928\n",
      "[400]\ttrain's binary_logloss: 0.506938\tvalid's binary_logloss: 0.546983\n",
      "[500]\ttrain's binary_logloss: 0.493222\tvalid's binary_logloss: 0.545029\n",
      "Early stopping, best iteration is:\n",
      "[534]\ttrain's binary_logloss: 0.489248\tvalid's binary_logloss: 0.544882\n",
      "Fold 28 started at Mon May 11 12:57:55 2020\n",
      "Training until validation scores don't improve for 30 rounds\n",
      "[100]\ttrain's binary_logloss: 0.59377\tvalid's binary_logloss: 0.60373\n",
      "[200]\ttrain's binary_logloss: 0.549918\tvalid's binary_logloss: 0.570729\n",
      "[300]\ttrain's binary_logloss: 0.525059\tvalid's binary_logloss: 0.556661\n",
      "[400]\ttrain's binary_logloss: 0.508018\tvalid's binary_logloss: 0.551545\n",
      "[500]\ttrain's binary_logloss: 0.49471\tvalid's binary_logloss: 0.550102\n",
      "Early stopping, best iteration is:\n",
      "[505]\ttrain's binary_logloss: 0.494109\tvalid's binary_logloss: 0.549991\n",
      "Fold 29 started at Mon May 11 12:57:56 2020\n",
      "Training until validation scores don't improve for 30 rounds\n",
      "[100]\ttrain's binary_logloss: 0.594249\tvalid's binary_logloss: 0.599827\n",
      "[200]\ttrain's binary_logloss: 0.550173\tvalid's binary_logloss: 0.564626\n",
      "[300]\ttrain's binary_logloss: 0.524613\tvalid's binary_logloss: 0.55074\n",
      "[400]\ttrain's binary_logloss: 0.507453\tvalid's binary_logloss: 0.545549\n",
      "[500]\ttrain's binary_logloss: 0.494192\tvalid's binary_logloss: 0.543895\n",
      "Early stopping, best iteration is:\n",
      "[503]\ttrain's binary_logloss: 0.493834\tvalid's binary_logloss: 0.543785\n",
      "Fold 30 started at Mon May 11 12:57:57 2020\n",
      "Training until validation scores don't improve for 30 rounds\n",
      "[100]\ttrain's binary_logloss: 0.58996\tvalid's binary_logloss: 0.618383\n",
      "[200]\ttrain's binary_logloss: 0.544925\tvalid's binary_logloss: 0.591019\n",
      "[300]\ttrain's binary_logloss: 0.519359\tvalid's binary_logloss: 0.580243\n",
      "[400]\ttrain's binary_logloss: 0.502061\tvalid's binary_logloss: 0.575609\n",
      "[500]\ttrain's binary_logloss: 0.489273\tvalid's binary_logloss: 0.573845\n",
      "Early stopping, best iteration is:\n",
      "[495]\ttrain's binary_logloss: 0.489825\tvalid's binary_logloss: 0.57367\n",
      "Fold 31 started at Mon May 11 12:57:57 2020\n",
      "Training until validation scores don't improve for 30 rounds\n",
      "[100]\ttrain's binary_logloss: 0.593183\tvalid's binary_logloss: 0.605706\n",
      "[200]\ttrain's binary_logloss: 0.548906\tvalid's binary_logloss: 0.573402\n",
      "[300]\ttrain's binary_logloss: 0.522964\tvalid's binary_logloss: 0.558843\n",
      "[400]\ttrain's binary_logloss: 0.505451\tvalid's binary_logloss: 0.552525\n",
      "[500]\ttrain's binary_logloss: 0.492061\tvalid's binary_logloss: 0.550481\n",
      "Early stopping, best iteration is:\n",
      "[494]\ttrain's binary_logloss: 0.492785\tvalid's binary_logloss: 0.550352\n",
      "Fold 32 started at Mon May 11 12:57:58 2020\n",
      "Training until validation scores don't improve for 30 rounds\n",
      "[100]\ttrain's binary_logloss: 0.591849\tvalid's binary_logloss: 0.610899\n",
      "[200]\ttrain's binary_logloss: 0.547018\tvalid's binary_logloss: 0.580831\n",
      "[300]\ttrain's binary_logloss: 0.522089\tvalid's binary_logloss: 0.568451\n",
      "[400]\ttrain's binary_logloss: 0.505699\tvalid's binary_logloss: 0.561822\n",
      "[500]\ttrain's binary_logloss: 0.492948\tvalid's binary_logloss: 0.558706\n",
      "Early stopping, best iteration is:\n",
      "[531]\ttrain's binary_logloss: 0.489538\tvalid's binary_logloss: 0.558282\n",
      "Fold 33 started at Mon May 11 12:57:58 2020\n",
      "Training until validation scores don't improve for 30 rounds\n",
      "[100]\ttrain's binary_logloss: 0.593017\tvalid's binary_logloss: 0.608431\n",
      "[200]\ttrain's binary_logloss: 0.548489\tvalid's binary_logloss: 0.577292\n",
      "[300]\ttrain's binary_logloss: 0.523191\tvalid's binary_logloss: 0.564079\n",
      "[400]\ttrain's binary_logloss: 0.506178\tvalid's binary_logloss: 0.558157\n",
      "[500]\ttrain's binary_logloss: 0.493093\tvalid's binary_logloss: 0.55582\n",
      "Early stopping, best iteration is:\n",
      "[545]\ttrain's binary_logloss: 0.487912\tvalid's binary_logloss: 0.555421\n",
      "Fold 34 started at Mon May 11 12:57:59 2020\n",
      "Training until validation scores don't improve for 30 rounds\n",
      "[100]\ttrain's binary_logloss: 0.591854\tvalid's binary_logloss: 0.609113\n",
      "[200]\ttrain's binary_logloss: 0.547134\tvalid's binary_logloss: 0.579189\n",
      "[300]\ttrain's binary_logloss: 0.521381\tvalid's binary_logloss: 0.567378\n",
      "[400]\ttrain's binary_logloss: 0.504163\tvalid's binary_logloss: 0.563413\n",
      "[500]\ttrain's binary_logloss: 0.49096\tvalid's binary_logloss: 0.562279\n",
      "Early stopping, best iteration is:\n",
      "[532]\ttrain's binary_logloss: 0.4873\tvalid's binary_logloss: 0.562113\n",
      "Fold 35 started at Mon May 11 12:57:59 2020\n",
      "Training until validation scores don't improve for 30 rounds\n",
      "[100]\ttrain's binary_logloss: 0.596072\tvalid's binary_logloss: 0.596455\n",
      "[200]\ttrain's binary_logloss: 0.553149\tvalid's binary_logloss: 0.558816\n",
      "[300]\ttrain's binary_logloss: 0.528633\tvalid's binary_logloss: 0.54221\n",
      "[400]\ttrain's binary_logloss: 0.511949\tvalid's binary_logloss: 0.533976\n",
      "[500]\ttrain's binary_logloss: 0.49907\tvalid's binary_logloss: 0.529858\n",
      "[600]\ttrain's binary_logloss: 0.488224\tvalid's binary_logloss: 0.528158\n",
      "Early stopping, best iteration is:\n",
      "[664]\ttrain's binary_logloss: 0.48188\tvalid's binary_logloss: 0.527596\n",
      "Fold 36 started at Mon May 11 12:58:00 2020\n",
      "Training until validation scores don't improve for 30 rounds\n",
      "[100]\ttrain's binary_logloss: 0.59559\tvalid's binary_logloss: 0.599961\n",
      "[200]\ttrain's binary_logloss: 0.551892\tvalid's binary_logloss: 0.563601\n",
      "[300]\ttrain's binary_logloss: 0.52756\tvalid's binary_logloss: 0.547763\n",
      "[400]\ttrain's binary_logloss: 0.511243\tvalid's binary_logloss: 0.539991\n",
      "[500]\ttrain's binary_logloss: 0.498482\tvalid's binary_logloss: 0.536382\n",
      "[600]\ttrain's binary_logloss: 0.487711\tvalid's binary_logloss: 0.533837\n",
      "[700]\ttrain's binary_logloss: 0.478283\tvalid's binary_logloss: 0.533544\n",
      "Early stopping, best iteration is:\n",
      "[719]\ttrain's binary_logloss: 0.476659\tvalid's binary_logloss: 0.533197\n",
      "Fold 37 started at Mon May 11 12:58:01 2020\n",
      "Training until validation scores don't improve for 30 rounds\n",
      "[100]\ttrain's binary_logloss: 0.591424\tvalid's binary_logloss: 0.607779\n",
      "[200]\ttrain's binary_logloss: 0.546596\tvalid's binary_logloss: 0.578497\n",
      "[300]\ttrain's binary_logloss: 0.520987\tvalid's binary_logloss: 0.567588\n",
      "[400]\ttrain's binary_logloss: 0.503571\tvalid's binary_logloss: 0.565043\n",
      "Early stopping, best iteration is:\n",
      "[419]\ttrain's binary_logloss: 0.500747\tvalid's binary_logloss: 0.564803\n",
      "Fold 38 started at Mon May 11 12:58:01 2020\n",
      "Training until validation scores don't improve for 30 rounds\n",
      "[100]\ttrain's binary_logloss: 0.591864\tvalid's binary_logloss: 0.610124\n",
      "[200]\ttrain's binary_logloss: 0.546486\tvalid's binary_logloss: 0.581582\n",
      "[300]\ttrain's binary_logloss: 0.520961\tvalid's binary_logloss: 0.57088\n",
      "[400]\ttrain's binary_logloss: 0.503872\tvalid's binary_logloss: 0.567217\n",
      "[500]\ttrain's binary_logloss: 0.49044\tvalid's binary_logloss: 0.566452\n",
      "Early stopping, best iteration is:\n",
      "[519]\ttrain's binary_logloss: 0.48824\tvalid's binary_logloss: 0.566391\n",
      "Fold 39 started at Mon May 11 12:58:02 2020\n",
      "Training until validation scores don't improve for 30 rounds\n",
      "[100]\ttrain's binary_logloss: 0.595056\tvalid's binary_logloss: 0.604099\n",
      "[200]\ttrain's binary_logloss: 0.552038\tvalid's binary_logloss: 0.567611\n",
      "[300]\ttrain's binary_logloss: 0.527201\tvalid's binary_logloss: 0.549871\n",
      "[400]\ttrain's binary_logloss: 0.510253\tvalid's binary_logloss: 0.541255\n",
      "[500]\ttrain's binary_logloss: 0.497148\tvalid's binary_logloss: 0.537755\n",
      "[600]\ttrain's binary_logloss: 0.486075\tvalid's binary_logloss: 0.535847\n",
      "[700]\ttrain's binary_logloss: 0.476267\tvalid's binary_logloss: 0.5355\n",
      "Early stopping, best iteration is:\n",
      "[670]\ttrain's binary_logloss: 0.479142\tvalid's binary_logloss: 0.535391\n",
      "Fold 40 started at Mon May 11 12:58:02 2020\n",
      "Training until validation scores don't improve for 30 rounds\n",
      "[100]\ttrain's binary_logloss: 0.590858\tvalid's binary_logloss: 0.611476\n",
      "[200]\ttrain's binary_logloss: 0.546397\tvalid's binary_logloss: 0.583994\n",
      "[300]\ttrain's binary_logloss: 0.520757\tvalid's binary_logloss: 0.573421\n",
      "[400]\ttrain's binary_logloss: 0.503364\tvalid's binary_logloss: 0.570236\n",
      "Early stopping, best iteration is:\n",
      "[448]\ttrain's binary_logloss: 0.496547\tvalid's binary_logloss: 0.569001\n",
      "Fold 41 started at Mon May 11 12:58:03 2020\n",
      "Training until validation scores don't improve for 30 rounds\n",
      "[100]\ttrain's binary_logloss: 0.592058\tvalid's binary_logloss: 0.606497\n",
      "[200]\ttrain's binary_logloss: 0.547448\tvalid's binary_logloss: 0.574816\n",
      "[300]\ttrain's binary_logloss: 0.522133\tvalid's binary_logloss: 0.561033\n",
      "[400]\ttrain's binary_logloss: 0.504986\tvalid's binary_logloss: 0.555191\n",
      "[500]\ttrain's binary_logloss: 0.491688\tvalid's binary_logloss: 0.552858\n",
      "Early stopping, best iteration is:\n",
      "[564]\ttrain's binary_logloss: 0.48435\tvalid's binary_logloss: 0.552361\n",
      "Fold 42 started at Mon May 11 12:58:04 2020\n",
      "Training until validation scores don't improve for 30 rounds\n",
      "[100]\ttrain's binary_logloss: 0.592531\tvalid's binary_logloss: 0.608244\n",
      "[200]\ttrain's binary_logloss: 0.548748\tvalid's binary_logloss: 0.576337\n",
      "[300]\ttrain's binary_logloss: 0.524023\tvalid's binary_logloss: 0.561458\n",
      "[400]\ttrain's binary_logloss: 0.507437\tvalid's binary_logloss: 0.555101\n",
      "[500]\ttrain's binary_logloss: 0.4947\tvalid's binary_logloss: 0.551394\n",
      "[600]\ttrain's binary_logloss: 0.483985\tvalid's binary_logloss: 0.549517\n",
      "Early stopping, best iteration is:\n",
      "[668]\ttrain's binary_logloss: 0.477523\tvalid's binary_logloss: 0.548835\n",
      "Fold 43 started at Mon May 11 12:58:04 2020\n",
      "Training until validation scores don't improve for 30 rounds\n",
      "[100]\ttrain's binary_logloss: 0.593172\tvalid's binary_logloss: 0.602137\n",
      "[200]\ttrain's binary_logloss: 0.54899\tvalid's binary_logloss: 0.568577\n",
      "[300]\ttrain's binary_logloss: 0.523574\tvalid's binary_logloss: 0.554746\n",
      "[400]\ttrain's binary_logloss: 0.50648\tvalid's binary_logloss: 0.549707\n",
      "[500]\ttrain's binary_logloss: 0.492766\tvalid's binary_logloss: 0.548486\n",
      "Early stopping, best iteration is:\n",
      "[495]\ttrain's binary_logloss: 0.493364\tvalid's binary_logloss: 0.548328\n",
      "Fold 44 started at Mon May 11 12:58:05 2020\n",
      "Training until validation scores don't improve for 30 rounds\n",
      "[100]\ttrain's binary_logloss: 0.594594\tvalid's binary_logloss: 0.603677\n",
      "[200]\ttrain's binary_logloss: 0.550596\tvalid's binary_logloss: 0.568807\n",
      "[300]\ttrain's binary_logloss: 0.525521\tvalid's binary_logloss: 0.553152\n",
      "[400]\ttrain's binary_logloss: 0.508678\tvalid's binary_logloss: 0.546521\n",
      "[500]\ttrain's binary_logloss: 0.49571\tvalid's binary_logloss: 0.543203\n",
      "[600]\ttrain's binary_logloss: 0.485126\tvalid's binary_logloss: 0.542126\n",
      "[700]\ttrain's binary_logloss: 0.475798\tvalid's binary_logloss: 0.541572\n",
      "Early stopping, best iteration is:\n",
      "[752]\ttrain's binary_logloss: 0.471422\tvalid's binary_logloss: 0.541248\n",
      "Fold 45 started at Mon May 11 12:58:06 2020\n",
      "Training until validation scores don't improve for 30 rounds\n",
      "[100]\ttrain's binary_logloss: 0.592174\tvalid's binary_logloss: 0.606603\n",
      "[200]\ttrain's binary_logloss: 0.547908\tvalid's binary_logloss: 0.573463\n",
      "[300]\ttrain's binary_logloss: 0.522599\tvalid's binary_logloss: 0.56016\n",
      "[400]\ttrain's binary_logloss: 0.505898\tvalid's binary_logloss: 0.554844\n",
      "[500]\ttrain's binary_logloss: 0.492303\tvalid's binary_logloss: 0.552322\n",
      "[600]\ttrain's binary_logloss: 0.481367\tvalid's binary_logloss: 0.551431\n",
      "Early stopping, best iteration is:\n",
      "[621]\ttrain's binary_logloss: 0.479284\tvalid's binary_logloss: 0.551379\n",
      "Fold 46 started at Mon May 11 12:58:07 2020\n",
      "Training until validation scores don't improve for 30 rounds\n",
      "[100]\ttrain's binary_logloss: 0.594024\tvalid's binary_logloss: 0.603773\n",
      "[200]\ttrain's binary_logloss: 0.550161\tvalid's binary_logloss: 0.569855\n",
      "[300]\ttrain's binary_logloss: 0.525289\tvalid's binary_logloss: 0.553807\n",
      "[400]\ttrain's binary_logloss: 0.508554\tvalid's binary_logloss: 0.545581\n",
      "[500]\ttrain's binary_logloss: 0.495769\tvalid's binary_logloss: 0.541672\n",
      "[600]\ttrain's binary_logloss: 0.485316\tvalid's binary_logloss: 0.539265\n",
      "[700]\ttrain's binary_logloss: 0.476034\tvalid's binary_logloss: 0.537516\n",
      "Early stopping, best iteration is:\n",
      "[721]\ttrain's binary_logloss: 0.474232\tvalid's binary_logloss: 0.537124\n",
      "Fold 47 started at Mon May 11 12:58:08 2020\n",
      "Training until validation scores don't improve for 30 rounds\n",
      "[100]\ttrain's binary_logloss: 0.590154\tvalid's binary_logloss: 0.612365\n",
      "[200]\ttrain's binary_logloss: 0.545507\tvalid's binary_logloss: 0.583241\n",
      "[300]\ttrain's binary_logloss: 0.520257\tvalid's binary_logloss: 0.571235\n",
      "[400]\ttrain's binary_logloss: 0.503345\tvalid's binary_logloss: 0.566326\n",
      "[500]\ttrain's binary_logloss: 0.490414\tvalid's binary_logloss: 0.564082\n",
      "[600]\ttrain's binary_logloss: 0.479618\tvalid's binary_logloss: 0.563166\n",
      "[700]\ttrain's binary_logloss: 0.469831\tvalid's binary_logloss: 0.563021\n",
      "Early stopping, best iteration is:\n",
      "[670]\ttrain's binary_logloss: 0.472621\tvalid's binary_logloss: 0.562777\n",
      "Fold 48 started at Mon May 11 12:58:09 2020\n",
      "Training until validation scores don't improve for 30 rounds\n",
      "[100]\ttrain's binary_logloss: 0.593572\tvalid's binary_logloss: 0.606048\n",
      "[200]\ttrain's binary_logloss: 0.550036\tvalid's binary_logloss: 0.572121\n",
      "[300]\ttrain's binary_logloss: 0.525104\tvalid's binary_logloss: 0.556752\n",
      "[400]\ttrain's binary_logloss: 0.508005\tvalid's binary_logloss: 0.549814\n",
      "[500]\ttrain's binary_logloss: 0.494761\tvalid's binary_logloss: 0.546608\n",
      "Early stopping, best iteration is:\n",
      "[534]\ttrain's binary_logloss: 0.490794\tvalid's binary_logloss: 0.546385\n",
      "Fold 49 started at Mon May 11 12:58:09 2020\n",
      "Training until validation scores don't improve for 30 rounds\n",
      "[100]\ttrain's binary_logloss: 0.59379\tvalid's binary_logloss: 0.60471\n",
      "[200]\ttrain's binary_logloss: 0.549212\tvalid's binary_logloss: 0.57225\n",
      "[300]\ttrain's binary_logloss: 0.523721\tvalid's binary_logloss: 0.55883\n",
      "[400]\ttrain's binary_logloss: 0.50681\tvalid's binary_logloss: 0.553288\n",
      "[500]\ttrain's binary_logloss: 0.493604\tvalid's binary_logloss: 0.550687\n",
      "Early stopping, best iteration is:\n",
      "[569]\ttrain's binary_logloss: 0.486017\tvalid's binary_logloss: 0.549732\n",
      "Fold 50 started at Mon May 11 12:58:10 2020\n",
      "Training until validation scores don't improve for 30 rounds\n",
      "[100]\ttrain's binary_logloss: 0.594674\tvalid's binary_logloss: 0.599167\n",
      "[200]\ttrain's binary_logloss: 0.550763\tvalid's binary_logloss: 0.564657\n",
      "[300]\ttrain's binary_logloss: 0.525963\tvalid's binary_logloss: 0.550112\n",
      "[400]\ttrain's binary_logloss: 0.508926\tvalid's binary_logloss: 0.544144\n",
      "[500]\ttrain's binary_logloss: 0.495752\tvalid's binary_logloss: 0.54145\n",
      "Early stopping, best iteration is:\n",
      "[569]\ttrain's binary_logloss: 0.487933\tvalid's binary_logloss: 0.540922\n",
      "\n",
      "CV mean score on train: 0.4865 +/- 0.0070 std.\n",
      "CV mean score on valid: 0.5500 +/- 0.0133 std.\n",
      "              precision    recall  f1-score   support\n",
      "\n",
      "           0       0.70      0.70      0.70      1916\n",
      "           1       0.70      0.69      0.70      1916\n",
      "\n",
      "    accuracy                           0.70      3832\n",
      "   macro avg       0.70      0.70      0.70      3832\n",
      "weighted avg       0.70      0.70      0.70      3832\n",
      "\n"
     ]
    },
    {
     "name": "stderr",
     "output_type": "stream",
     "text": [
      "/Users/nicolasrousseau/pycharm_projects/ncaam-2020/venv/lib/python3.7/site-packages/lightgbm/engine.py:153: UserWarning: Found `early_stopping_rounds` in params. Will use it instead of argument\n",
      "  warnings.warn(\"Found `{}` in params. Will use it instead of argument\".format(alias))\n",
      "/Users/nicolasrousseau/pycharm_projects/ncaam-2020/venv/lib/python3.7/site-packages/lightgbm/engine.py:153: UserWarning: Found `early_stopping_rounds` in params. Will use it instead of argument\n",
      "  warnings.warn(\"Found `{}` in params. Will use it instead of argument\".format(alias))\n",
      "/Users/nicolasrousseau/pycharm_projects/ncaam-2020/venv/lib/python3.7/site-packages/lightgbm/engine.py:153: UserWarning: Found `early_stopping_rounds` in params. Will use it instead of argument\n",
      "  warnings.warn(\"Found `{}` in params. Will use it instead of argument\".format(alias))\n",
      "/Users/nicolasrousseau/pycharm_projects/ncaam-2020/venv/lib/python3.7/site-packages/lightgbm/engine.py:153: UserWarning: Found `early_stopping_rounds` in params. Will use it instead of argument\n",
      "  warnings.warn(\"Found `{}` in params. Will use it instead of argument\".format(alias))\n",
      "/Users/nicolasrousseau/pycharm_projects/ncaam-2020/venv/lib/python3.7/site-packages/lightgbm/engine.py:153: UserWarning: Found `early_stopping_rounds` in params. Will use it instead of argument\n",
      "  warnings.warn(\"Found `{}` in params. Will use it instead of argument\".format(alias))\n",
      "/Users/nicolasrousseau/pycharm_projects/ncaam-2020/venv/lib/python3.7/site-packages/lightgbm/engine.py:153: UserWarning: Found `early_stopping_rounds` in params. Will use it instead of argument\n",
      "  warnings.warn(\"Found `{}` in params. Will use it instead of argument\".format(alias))\n",
      "/Users/nicolasrousseau/pycharm_projects/ncaam-2020/venv/lib/python3.7/site-packages/lightgbm/engine.py:153: UserWarning: Found `early_stopping_rounds` in params. Will use it instead of argument\n",
      "  warnings.warn(\"Found `{}` in params. Will use it instead of argument\".format(alias))\n",
      "/Users/nicolasrousseau/pycharm_projects/ncaam-2020/venv/lib/python3.7/site-packages/lightgbm/engine.py:153: UserWarning: Found `early_stopping_rounds` in params. Will use it instead of argument\n",
      "  warnings.warn(\"Found `{}` in params. Will use it instead of argument\".format(alias))\n",
      "/Users/nicolasrousseau/pycharm_projects/ncaam-2020/venv/lib/python3.7/site-packages/lightgbm/engine.py:153: UserWarning: Found `early_stopping_rounds` in params. Will use it instead of argument\n",
      "  warnings.warn(\"Found `{}` in params. Will use it instead of argument\".format(alias))\n",
      "/Users/nicolasrousseau/pycharm_projects/ncaam-2020/venv/lib/python3.7/site-packages/lightgbm/engine.py:153: UserWarning: Found `early_stopping_rounds` in params. Will use it instead of argument\n",
      "  warnings.warn(\"Found `{}` in params. Will use it instead of argument\".format(alias))\n"
     ]
    },
    {
     "data": {
      "text/plain": "<Figure size 1152x864 with 5 Axes>",
      "image/png": "[encoded data removed]"
     },
     "metadata": {
      "needs_background": "light"
     },
     "output_type": "display_data"
    }
   ],
   "source": [
    "# some of params are from this kernel: https://www.kaggle.com/ratan123/march-madness-2020-ncaam-simple-lightgbm-on-kfold\n",
    "\n",
    "param = {'n_estimators':10000,\n",
    "          'num_leaves': 400,\n",
    "          'min_child_weight': 0.034,\n",
    "          'feature_fraction': 0.379,\n",
    "          'bagging_fraction': 0.418,\n",
    "          'min_data_in_leaf': 106,\n",
    "          'objective': 'binary',\n",
    "          'max_depth': -1,\n",
    "          'learning_rate': 0.007,\n",
    "          \"boosting_type\": \"gbdt\",\n",
    "          #\"bagging_seed\": 11,\n",
    "          \"metric\": 'binary_logloss',\n",
    "          \"verbosity\": 10,\n",
    "          'reg_alpha': 0.3899,\n",
    "          'reg_lambda': 0.648,\n",
    "          'random_state': 47,\n",
    "          'task':'train', 'nthread':-1,\n",
    "         'verbose': 100,\n",
    "         'early_stopping_rounds': 30,\n",
    "         'eval_metric': 'binary_logloss'\n",
    "         }\n",
    "\n",
    "cat_cols = []\n",
    "mt = MainTransformer(create_interactions=False)\n",
    "\n",
    "# ct = CategoricalTransformer(drop_original=True, cat_cols=cat_cols)\n",
    "ft = FeatureTransformer()\n",
    "transformers = {'ft': ft}\n",
    "\n",
    "lgb_model = ClassifierModel(model_wrapper=LGBWrapper())\n",
    "lgb_model.fit(X=X, y=y, folds=folds, params=param, preprocesser=mt, transformers=transformers,\n",
    "                    eval_metric='binary_logloss', cols_to_drop=None, plot=True)"
   ],
   "metadata": {
    "collapsed": false,
    "pycharm": {
     "name": "#%%\n"
    }
   }
  },
  {
   "cell_type": "markdown",
   "source": [
    "### Preparing test data"
   ],
   "metadata": {
    "collapsed": false,
    "pycharm": {
     "name": "#%% md\n"
    }
   }
  },
  {
   "cell_type": "code",
   "execution_count": 22,
   "outputs": [],
   "source": [
    "test = pd.read_csv('/Users/nicolasrousseau/pycharm_projects/ncaam-2020/ncaam/resources/data/MSampleSubmissionStage1_2020.csv')\n",
    "\n",
    "test = test.drop(['Pred'], axis=1)\n",
    "test['Season'] = test['ID'].apply(lambda x: int(x.split('_')[0]))\n",
    "test['Team1'] = test['ID'].apply(lambda x: int(x.split('_')[1]))\n",
    "test['Team2'] = test['ID'].apply(lambda x: int(x.split('_')[2]))\n",
    "\n",
    "test = pd.merge(test, MNCAATourneySeeds, how='left', left_on=['Season', 'Team1'], right_on=['Season', 'TeamID'])\n",
    "test = pd.merge(test, MNCAATourneySeeds, how='left', left_on=['Season', 'Team2'], right_on=['Season', 'TeamID'])\n",
    "test = pd.merge(test, team_win_score, how='left', left_on=['Season', 'Team1'], right_on=['Season', 'WTeamID'])\n",
    "test = pd.merge(test, team_loss_score, how='left', left_on=['Season', 'Team2'], right_on=['Season', 'LTeamID'])\n",
    "test = pd.merge(test, team_loss_score, how='left', left_on=['Season', 'Team1'], right_on=['Season', 'LTeamID'])\n",
    "test = pd.merge(test, team_win_score, how='left', left_on=['Season', 'Team2'], right_on=['Season', 'WTeamID'])\n",
    "\n",
    "test['seed_diff'] = test['Seed_x'] - test['Seed_y']"
   ],
   "metadata": {
    "collapsed": false,
    "pycharm": {
     "name": "#%%\n"
    }
   }
  },
  {
   "cell_type": "code",
   "execution_count": 23,
   "outputs": [],
   "source": [
    "test['x_score'] = test['WScore_sum_x'] + test['LScore_sum_y']\n",
    "test['y_score'] = test['WScore_sum_y'] + test['LScore_sum_x']\n",
    "test['x_count'] = test['WScore_count_x'] + test['LScore_count_y']\n",
    "test['y_count'] = test['WScore_count_y'] + test['WScore_count_x']"
   ],
   "metadata": {
    "collapsed": false,
    "pycharm": {
     "name": "#%%\n"
    }
   }
  },
  {
   "cell_type": "code",
   "execution_count": 24,
   "outputs": [
    {
     "data": {
      "text/plain": "               ID  Season  Team1  Team2  TeamID_x  Seed_x  TeamID_y  Seed_y  \\\n0  2015_1107_1112    2015   1107   1112       NaN     NaN       NaN     NaN   \n1  2015_1107_1116    2015   1107   1116       NaN     NaN       NaN     NaN   \n2  2015_1107_1124    2015   1107   1124       NaN     NaN       NaN     NaN   \n3  2015_1107_1125    2015   1107   1125       NaN     NaN       NaN     NaN   \n4  2015_1107_1129    2015   1107   1129       NaN     NaN       NaN     NaN   \n\n   WTeamID_x  WScore_sum_x  WScore_count_x  LTeamID_x  LScore_sum_x  \\\n0       1107          1627              24     1112.0         201.0   \n1       1107          1627              24     1116.0         557.0   \n2       1107          1627              24     1124.0         526.0   \n3       1107          1627              24     1125.0         670.0   \n4       1107          1627              24     1129.0         463.0   \n\n   LScore_count_x  LTeamID_y  LScore_sum_y  LScore_count_y  WTeamID_y  \\\n0             3.0     1107.0         469.0             8.0       1112   \n1             8.0     1107.0         469.0             8.0       1116   \n2             9.0     1107.0         469.0             8.0       1124   \n3            10.0     1107.0         469.0             8.0       1125   \n4             8.0     1107.0         469.0             8.0       1129   \n\n   WScore_sum_y  WScore_count_y  seed_diff  x_score  y_score  x_count  y_count  \n0          2398              31        NaN   2096.0   2599.0     32.0       55  \n1          2096              26        NaN   2096.0   2653.0     32.0       50  \n2          1686              23        NaN   2096.0   2212.0     32.0       47  \n3          1617              21        NaN   2096.0   2287.0     32.0       45  \n4          1703              23        NaN   2096.0   2166.0     32.0       47  ",
      "text/html": "<div>\n<style scoped>\n    .dataframe tbody tr th:only-of-type {\n        vertical-align: middle;\n    }\n\n    .dataframe tbody tr th {\n        vertical-align: top;\n    }\n\n    .dataframe thead th {\n        text-align: right;\n    }\n</style>\n<table border=\"1\" class=\"dataframe\">\n  <thead>\n    <tr style=\"text-align: right;\">\n      <th></th>\n      <th>ID</th>\n      <th>Season</th>\n      <th>Team1</th>\n      <th>Team2</th>\n      <th>TeamID_x</th>\n      <th>Seed_x</th>\n      <th>TeamID_y</th>\n      <th>Seed_y</th>\n      <th>WTeamID_x</th>\n      <th>WScore_sum_x</th>\n      <th>WScore_count_x</th>\n      <th>LTeamID_x</th>\n      <th>LScore_sum_x</th>\n      <th>LScore_count_x</th>\n      <th>LTeamID_y</th>\n      <th>LScore_sum_y</th>\n      <th>LScore_count_y</th>\n      <th>WTeamID_y</th>\n      <th>WScore_sum_y</th>\n      <th>WScore_count_y</th>\n      <th>seed_diff</th>\n      <th>x_score</th>\n      <th>y_score</th>\n      <th>x_count</th>\n      <th>y_count</th>\n    </tr>\n  </thead>\n  <tbody>\n    <tr>\n      <th>0</th>\n      <td>2015_1107_1112</td>\n      <td>2015</td>\n      <td>1107</td>\n      <td>1112</td>\n      <td>NaN</td>\n      <td>NaN</td>\n      <td>NaN</td>\n      <td>NaN</td>\n      <td>1107</td>\n      <td>1627</td>\n      <td>24</td>\n      <td>1112.0</td>\n      <td>201.0</td>\n      <td>3.0</td>\n      <td>1107.0</td>\n      <td>469.0</td>\n      <td>8.0</td>\n      <td>1112</td>\n      <td>2398</td>\n      <td>31</td>\n      <td>NaN</td>\n      <td>2096.0</td>\n      <td>2599.0</td>\n      <td>32.0</td>\n      <td>55</td>\n    </tr>\n    <tr>\n      <th>1</th>\n      <td>2015_1107_1116</td>\n      <td>2015</td>\n      <td>1107</td>\n      <td>1116</td>\n      <td>NaN</td>\n      <td>NaN</td>\n      <td>NaN</td>\n      <td>NaN</td>\n      <td>1107</td>\n      <td>1627</td>\n      <td>24</td>\n      <td>1116.0</td>\n      <td>557.0</td>\n      <td>8.0</td>\n      <td>1107.0</td>\n      <td>469.0</td>\n      <td>8.0</td>\n      <td>1116</td>\n      <td>2096</td>\n      <td>26</td>\n      <td>NaN</td>\n      <td>2096.0</td>\n      <td>2653.0</td>\n      <td>32.0</td>\n      <td>50</td>\n    </tr>\n    <tr>\n      <th>2</th>\n      <td>2015_1107_1124</td>\n      <td>2015</td>\n      <td>1107</td>\n      <td>1124</td>\n      <td>NaN</td>\n      <td>NaN</td>\n      <td>NaN</td>\n      <td>NaN</td>\n      <td>1107</td>\n      <td>1627</td>\n      <td>24</td>\n      <td>1124.0</td>\n      <td>526.0</td>\n      <td>9.0</td>\n      <td>1107.0</td>\n      <td>469.0</td>\n      <td>8.0</td>\n      <td>1124</td>\n      <td>1686</td>\n      <td>23</td>\n      <td>NaN</td>\n      <td>2096.0</td>\n      <td>2212.0</td>\n      <td>32.0</td>\n      <td>47</td>\n    </tr>\n    <tr>\n      <th>3</th>\n      <td>2015_1107_1125</td>\n      <td>2015</td>\n      <td>1107</td>\n      <td>1125</td>\n      <td>NaN</td>\n      <td>NaN</td>\n      <td>NaN</td>\n      <td>NaN</td>\n      <td>1107</td>\n      <td>1627</td>\n      <td>24</td>\n      <td>1125.0</td>\n      <td>670.0</td>\n      <td>10.0</td>\n      <td>1107.0</td>\n      <td>469.0</td>\n      <td>8.0</td>\n      <td>1125</td>\n      <td>1617</td>\n      <td>21</td>\n      <td>NaN</td>\n      <td>2096.0</td>\n      <td>2287.0</td>\n      <td>32.0</td>\n      <td>45</td>\n    </tr>\n    <tr>\n      <th>4</th>\n      <td>2015_1107_1129</td>\n      <td>2015</td>\n      <td>1107</td>\n      <td>1129</td>\n      <td>NaN</td>\n      <td>NaN</td>\n      <td>NaN</td>\n      <td>NaN</td>\n      <td>1107</td>\n      <td>1627</td>\n      <td>24</td>\n      <td>1129.0</td>\n      <td>463.0</td>\n      <td>8.0</td>\n      <td>1107.0</td>\n      <td>469.0</td>\n      <td>8.0</td>\n      <td>1129</td>\n      <td>1703</td>\n      <td>23</td>\n      <td>NaN</td>\n      <td>2096.0</td>\n      <td>2166.0</td>\n      <td>32.0</td>\n      <td>47</td>\n    </tr>\n  </tbody>\n</table>\n</div>"
     },
     "execution_count": 24,
     "metadata": {},
     "output_type": "execute_result"
    }
   ],
   "source": [
    "test.head()"
   ],
   "metadata": {
    "collapsed": false,
    "pycharm": {
     "name": "#%%\n"
    }
   }
  },
  {
   "cell_type": "code",
   "execution_count": 25,
   "outputs": [],
   "source": [
    "test = test[['Seed_x', 'Seed_y', 'x_score', 'y_score', 'x_count', 'y_count']]\n",
    "test.columns = ['Seed_1', 'Seed_2', 'Score_1', 'Score_2', 'Count_1', 'Count_2']"
   ],
   "metadata": {
    "collapsed": false,
    "pycharm": {
     "name": "#%%\n"
    }
   }
  },
  {
   "cell_type": "code",
   "execution_count": 26,
   "outputs": [],
   "source": [
    "test['Seed_diff'] = test['Seed_1'] - test['Seed_2']\n",
    "test['Score_diff'] = test['Score_1'] - test['Score_2']\n",
    "test['Seed_diff'] = test['Seed_1'] - test['Seed_2']\n",
    "test['Score_diff'] = test['Score_1'] - test['Score_2']\n",
    "\n",
    "test['Count_diff'] = test['Count_1'] - test['Count_2']\n",
    "test['Mean_score1'] = test['Score_1'] / test['Count_1']\n",
    "test['Mean_score2'] = test['Score_2'] / test['Count_2']\n",
    "test['Mean_score_diff'] = test['Mean_score1'] - test['Mean_score2']\n",
    "test['Count_diff'] = test['Count_1'] - test['Count_2']\n",
    "test['Mean_score1'] = test['Score_1'] / test['Count_1']\n",
    "test['Mean_score2'] = test['Score_2'] / test['Count_2']\n",
    "test['Mean_score_diff'] = test['Mean_score1'] - test['Mean_score2']"
   ],
   "metadata": {
    "collapsed": false,
    "pycharm": {
     "name": "#%%\n"
    }
   }
  },
  {
   "cell_type": "code",
   "execution_count": 27,
   "outputs": [
    {
     "data": {
      "text/plain": "   Seed_1  Seed_2  Score_1  Score_2  Count_1  Count_2  Seed_diff  Score_diff  \\\n0     NaN     NaN   2096.0   2599.0     32.0       55        NaN      -503.0   \n1     NaN     NaN   2096.0   2653.0     32.0       50        NaN      -557.0   \n2     NaN     NaN   2096.0   2212.0     32.0       47        NaN      -116.0   \n3     NaN     NaN   2096.0   2287.0     32.0       45        NaN      -191.0   \n4     NaN     NaN   2096.0   2166.0     32.0       47        NaN       -70.0   \n\n   Count_diff  Mean_score1  Mean_score2  Mean_score_diff  \n0       -23.0         65.5    47.254545        18.245455  \n1       -18.0         65.5    53.060000        12.440000  \n2       -15.0         65.5    47.063830        18.436170  \n3       -13.0         65.5    50.822222        14.677778  \n4       -15.0         65.5    46.085106        19.414894  ",
      "text/html": "<div>\n<style scoped>\n    .dataframe tbody tr th:only-of-type {\n        vertical-align: middle;\n    }\n\n    .dataframe tbody tr th {\n        vertical-align: top;\n    }\n\n    .dataframe thead th {\n        text-align: right;\n    }\n</style>\n<table border=\"1\" class=\"dataframe\">\n  <thead>\n    <tr style=\"text-align: right;\">\n      <th></th>\n      <th>Seed_1</th>\n      <th>Seed_2</th>\n      <th>Score_1</th>\n      <th>Score_2</th>\n      <th>Count_1</th>\n      <th>Count_2</th>\n      <th>Seed_diff</th>\n      <th>Score_diff</th>\n      <th>Count_diff</th>\n      <th>Mean_score1</th>\n      <th>Mean_score2</th>\n      <th>Mean_score_diff</th>\n    </tr>\n  </thead>\n  <tbody>\n    <tr>\n      <th>0</th>\n      <td>NaN</td>\n      <td>NaN</td>\n      <td>2096.0</td>\n      <td>2599.0</td>\n      <td>32.0</td>\n      <td>55</td>\n      <td>NaN</td>\n      <td>-503.0</td>\n      <td>-23.0</td>\n      <td>65.5</td>\n      <td>47.254545</td>\n      <td>18.245455</td>\n    </tr>\n    <tr>\n      <th>1</th>\n      <td>NaN</td>\n      <td>NaN</td>\n      <td>2096.0</td>\n      <td>2653.0</td>\n      <td>32.0</td>\n      <td>50</td>\n      <td>NaN</td>\n      <td>-557.0</td>\n      <td>-18.0</td>\n      <td>65.5</td>\n      <td>53.060000</td>\n      <td>12.440000</td>\n    </tr>\n    <tr>\n      <th>2</th>\n      <td>NaN</td>\n      <td>NaN</td>\n      <td>2096.0</td>\n      <td>2212.0</td>\n      <td>32.0</td>\n      <td>47</td>\n      <td>NaN</td>\n      <td>-116.0</td>\n      <td>-15.0</td>\n      <td>65.5</td>\n      <td>47.063830</td>\n      <td>18.436170</td>\n    </tr>\n    <tr>\n      <th>3</th>\n      <td>NaN</td>\n      <td>NaN</td>\n      <td>2096.0</td>\n      <td>2287.0</td>\n      <td>32.0</td>\n      <td>45</td>\n      <td>NaN</td>\n      <td>-191.0</td>\n      <td>-13.0</td>\n      <td>65.5</td>\n      <td>50.822222</td>\n      <td>14.677778</td>\n    </tr>\n    <tr>\n      <th>4</th>\n      <td>NaN</td>\n      <td>NaN</td>\n      <td>2096.0</td>\n      <td>2166.0</td>\n      <td>32.0</td>\n      <td>47</td>\n      <td>NaN</td>\n      <td>-70.0</td>\n      <td>-15.0</td>\n      <td>65.5</td>\n      <td>46.085106</td>\n      <td>19.414894</td>\n    </tr>\n  </tbody>\n</table>\n</div>"
     },
     "execution_count": 27,
     "metadata": {},
     "output_type": "execute_result"
    }
   ],
   "source": [
    "test.head()"
   ],
   "metadata": {
    "collapsed": false,
    "pycharm": {
     "name": "#%%\n"
    }
   }
  },
  {
   "cell_type": "markdown",
   "source": [
    "### Making predictions"
   ],
   "metadata": {
    "collapsed": false,
    "pycharm": {
     "name": "#%% md\n"
    }
   }
  },
  {
   "cell_type": "code",
   "execution_count": 28,
   "outputs": [],
   "source": [
    "test_preds = lgb_model.predict(test)"
   ],
   "metadata": {
    "collapsed": false,
    "pycharm": {
     "name": "#%%\n"
    }
   }
  },
  {
   "cell_type": "code",
   "execution_count": 29,
   "outputs": [
    {
     "data": {
      "text/plain": "<Figure size 432x288 with 1 Axes>",
      "image/png": "[encoded data removed]"
     },
     "metadata": {
      "needs_background": "light"
     },
     "output_type": "display_data"
    }
   ],
   "source": [
    "plt.hist(test_preds);"
   ],
   "metadata": {
    "collapsed": false,
    "pycharm": {
     "name": "#%%\n"
    }
   }
  },
  {
   "cell_type": "code",
   "execution_count": 30,
   "outputs": [
    {
     "data": {
      "text/plain": "                   ID      Pred\n0      2015_1107_1112  0.396619\n1      2015_1107_1116  0.399733\n2      2015_1107_1124  0.475544\n3      2015_1107_1125  0.473956\n4      2015_1107_1129  0.468790\n...               ...       ...\n11385  2019_1449_1459  0.458908\n11386  2019_1449_1463  0.521536\n11387  2019_1458_1459  0.476037\n11388  2019_1458_1463  0.507407\n11389  2019_1459_1463  0.496199\n\n[11390 rows x 2 columns]",
      "text/html": "<div>\n<style scoped>\n    .dataframe tbody tr th:only-of-type {\n        vertical-align: middle;\n    }\n\n    .dataframe tbody tr th {\n        vertical-align: top;\n    }\n\n    .dataframe thead th {\n        text-align: right;\n    }\n</style>\n<table border=\"1\" class=\"dataframe\">\n  <thead>\n    <tr style=\"text-align: right;\">\n      <th></th>\n      <th>ID</th>\n      <th>Pred</th>\n    </tr>\n  </thead>\n  <tbody>\n    <tr>\n      <th>0</th>\n      <td>2015_1107_1112</td>\n      <td>0.396619</td>\n    </tr>\n    <tr>\n      <th>1</th>\n      <td>2015_1107_1116</td>\n      <td>0.399733</td>\n    </tr>\n    <tr>\n      <th>2</th>\n      <td>2015_1107_1124</td>\n      <td>0.475544</td>\n    </tr>\n    <tr>\n      <th>3</th>\n      <td>2015_1107_1125</td>\n      <td>0.473956</td>\n    </tr>\n    <tr>\n      <th>4</th>\n      <td>2015_1107_1129</td>\n      <td>0.468790</td>\n    </tr>\n    <tr>\n      <th>...</th>\n      <td>...</td>\n      <td>...</td>\n    </tr>\n    <tr>\n      <th>11385</th>\n      <td>2019_1449_1459</td>\n      <td>0.458908</td>\n    </tr>\n    <tr>\n      <th>11386</th>\n      <td>2019_1449_1463</td>\n      <td>0.521536</td>\n    </tr>\n    <tr>\n      <th>11387</th>\n      <td>2019_1458_1459</td>\n      <td>0.476037</td>\n    </tr>\n    <tr>\n      <th>11388</th>\n      <td>2019_1458_1463</td>\n      <td>0.507407</td>\n    </tr>\n    <tr>\n      <th>11389</th>\n      <td>2019_1459_1463</td>\n      <td>0.496199</td>\n    </tr>\n  </tbody>\n</table>\n<p>11390 rows × 2 columns</p>\n</div>"
     },
     "execution_count": 30,
     "metadata": {},
     "output_type": "execute_result"
    }
   ],
   "source": [
    "submission_df = pd.read_csv('/Users/nicolasrousseau/pycharm_projects/ncaam-2020/ncaam/resources/data/MSampleSubmissionStage1_2020.csv')\n",
    "submission_df['Pred'] = test_preds\n",
    "submission_df"
   ],
   "metadata": {
    "collapsed": false,
    "pycharm": {
     "name": "#%%\n"
    }
   }
  },
  {
   "cell_type": "code",
   "execution_count": 30,
   "outputs": [],
   "source": [
    "\n"
   ],
   "metadata": {
    "collapsed": false,
    "pycharm": {
     "name": "#%%\n"
    }
   }
  }
 ],
 "metadata": {
  "kernelspec": {
   "display_name": "Python 3",
   "language": "python",
   "name": "python3"
  },
  "language_info": {
   "codemirror_mode": {
    "name": "ipython",
    "version": 2
   },
   "file_extension": ".py",
   "mimetype": "text/x-python",
   "name": "python",
   "nbconvert_exporter": "python",
   "pygments_lexer": "ipython2",
   "version": "2.7.6"
  }
 },
 "nbformat": 4,
 "nbformat_minor": 0
}
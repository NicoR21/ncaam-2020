{
 "cells": [
  {
   "cell_type": "markdown",
   "metadata": {},
   "source": [
    "# Structure des méthodes pour l'app\n"
   ]
  },
  {
   "cell_type": "code",
   "execution_count": 1,
   "metadata": {
    "pycharm": {
     "name": "#%%\n"
    }
   },
   "outputs": [],
   "source": [
    "import pandas as pd\n",
    "import matplotlib.pyplot as plt\n",
    "import matplotlib as mpl\n",
    "from matplotlib.patches import Circle, Rectangle, Arc\n",
    "from ncaam.src.dao.loader import Loader"
   ]
  },
  {
   "cell_type": "code",
   "execution_count": 2,
   "metadata": {
    "pycharm": {
     "name": "#%%\n"
    }
   },
   "outputs": [],
   "source": [
    "loader = Loader()\n",
    "data = loader.import_data([\"MEvents\", \"MConferenceTourneyGames\", \"MGameCities\", \"MNCAATourneyCompactResults\",\n",
    "                           \"MNCAATourneyDetailedResults\", \"MRegularSeasonCompactResults\", \n",
    "                           \"MRegularSeasonDetailedResults\", \"MSecondaryTourneyCompactResults\", \"MPlayers\"])"
   ]
  },
  {
   "cell_type": "code",
   "execution_count": 3,
   "metadata": {
    "pycharm": {
     "name": "#%%\n"
    }
   },
   "outputs": [
    {
     "data": {
      "text/plain": "           EventID  Season  DayNum  WTeamID  LTeamID  WFinalScore  \\\n10448383  10448384    2019       1     1123     1232           86   \n10448385  10448386    2019       1     1123     1232           86   \n10448387  10448388    2019       1     1123     1232           86   \n10448390  10448391    2019       1     1123     1232           86   \n10448392  10448393    2019       1     1123     1232           86   \n...            ...     ...     ...      ...      ...          ...   \n15835824  15835825    2020     128     1450     1160           82   \n15835828  15835829    2020     128     1450     1160           82   \n15835837  15835838    2020     128     1450     1160           82   \n15835838  15835839    2020     128     1450     1160           82   \n15835840  15835841    2020     128     1450     1160           82   \n\n          LFinalScore  WCurrentScore  LCurrentScore  ElapsedSeconds  \\\n10448383           69             10              7             373   \n10448385           69             10              7             373   \n10448387           69              0              0              17   \n10448390           69             10              7             396   \n10448392           69             10              7             415   \n...               ...            ...            ...             ...   \n15835824           68             82             68            2397   \n15835828           68             12              8             366   \n15835837           68              0              0              22   \n15835838           68             12              9             385   \n15835840           68             12              9             404   \n\n          EventTeamID  EventPlayerID EventType EventSubType   X   Y  Area  \n10448383         1123            927     miss2         jump   7  23     6  \n10448385         1123            924      foul         pers   6  62    13  \n10448387         1232           5510     miss2         jump  94  70     6  \n10448390         1232           5520      foul         pers  91  36    13  \n10448392         1123            924     miss2          lay   7  55     1  \n...               ...            ...       ...          ...  ..  ..   ...  \n15835824         1160           2367     made3          unk  31  85     9  \n15835828         1450          14907      foul         pers  92  44     1  \n15835837         1160           2389     miss2         jump  86  77     6  \n15835838         1450          14941     miss2         jump  24  49     5  \n15835840         1450          14949      foul         pers  77   7     9  \n\n[1098776 rows x 17 columns]",
      "text/html": "<div>\n<style scoped>\n    .dataframe tbody tr th:only-of-type {\n        vertical-align: middle;\n    }\n\n    .dataframe tbody tr th {\n        vertical-align: top;\n    }\n\n    .dataframe thead th {\n        text-align: right;\n    }\n</style>\n<table border=\"1\" class=\"dataframe\">\n  <thead>\n    <tr style=\"text-align: right;\">\n      <th></th>\n      <th>EventID</th>\n      <th>Season</th>\n      <th>DayNum</th>\n      <th>WTeamID</th>\n      <th>LTeamID</th>\n      <th>WFinalScore</th>\n      <th>LFinalScore</th>\n      <th>WCurrentScore</th>\n      <th>LCurrentScore</th>\n      <th>ElapsedSeconds</th>\n      <th>EventTeamID</th>\n      <th>EventPlayerID</th>\n      <th>EventType</th>\n      <th>EventSubType</th>\n      <th>X</th>\n      <th>Y</th>\n      <th>Area</th>\n    </tr>\n  </thead>\n  <tbody>\n    <tr>\n      <th>10448383</th>\n      <td>10448384</td>\n      <td>2019</td>\n      <td>1</td>\n      <td>1123</td>\n      <td>1232</td>\n      <td>86</td>\n      <td>69</td>\n      <td>10</td>\n      <td>7</td>\n      <td>373</td>\n      <td>1123</td>\n      <td>927</td>\n      <td>miss2</td>\n      <td>jump</td>\n      <td>7</td>\n      <td>23</td>\n      <td>6</td>\n    </tr>\n    <tr>\n      <th>10448385</th>\n      <td>10448386</td>\n      <td>2019</td>\n      <td>1</td>\n      <td>1123</td>\n      <td>1232</td>\n      <td>86</td>\n      <td>69</td>\n      <td>10</td>\n      <td>7</td>\n      <td>373</td>\n      <td>1123</td>\n      <td>924</td>\n      <td>foul</td>\n      <td>pers</td>\n      <td>6</td>\n      <td>62</td>\n      <td>13</td>\n    </tr>\n    <tr>\n      <th>10448387</th>\n      <td>10448388</td>\n      <td>2019</td>\n      <td>1</td>\n      <td>1123</td>\n      <td>1232</td>\n      <td>86</td>\n      <td>69</td>\n      <td>0</td>\n      <td>0</td>\n      <td>17</td>\n      <td>1232</td>\n      <td>5510</td>\n      <td>miss2</td>\n      <td>jump</td>\n      <td>94</td>\n      <td>70</td>\n      <td>6</td>\n    </tr>\n    <tr>\n      <th>10448390</th>\n      <td>10448391</td>\n      <td>2019</td>\n      <td>1</td>\n      <td>1123</td>\n      <td>1232</td>\n      <td>86</td>\n      <td>69</td>\n      <td>10</td>\n      <td>7</td>\n      <td>396</td>\n      <td>1232</td>\n      <td>5520</td>\n      <td>foul</td>\n      <td>pers</td>\n      <td>91</td>\n      <td>36</td>\n      <td>13</td>\n    </tr>\n    <tr>\n      <th>10448392</th>\n      <td>10448393</td>\n      <td>2019</td>\n      <td>1</td>\n      <td>1123</td>\n      <td>1232</td>\n      <td>86</td>\n      <td>69</td>\n      <td>10</td>\n      <td>7</td>\n      <td>415</td>\n      <td>1123</td>\n      <td>924</td>\n      <td>miss2</td>\n      <td>lay</td>\n      <td>7</td>\n      <td>55</td>\n      <td>1</td>\n    </tr>\n    <tr>\n      <th>...</th>\n      <td>...</td>\n      <td>...</td>\n      <td>...</td>\n      <td>...</td>\n      <td>...</td>\n      <td>...</td>\n      <td>...</td>\n      <td>...</td>\n      <td>...</td>\n      <td>...</td>\n      <td>...</td>\n      <td>...</td>\n      <td>...</td>\n      <td>...</td>\n      <td>...</td>\n      <td>...</td>\n      <td>...</td>\n    </tr>\n    <tr>\n      <th>15835824</th>\n      <td>15835825</td>\n      <td>2020</td>\n      <td>128</td>\n      <td>1450</td>\n      <td>1160</td>\n      <td>82</td>\n      <td>68</td>\n      <td>82</td>\n      <td>68</td>\n      <td>2397</td>\n      <td>1160</td>\n      <td>2367</td>\n      <td>made3</td>\n      <td>unk</td>\n      <td>31</td>\n      <td>85</td>\n      <td>9</td>\n    </tr>\n    <tr>\n      <th>15835828</th>\n      <td>15835829</td>\n      <td>2020</td>\n      <td>128</td>\n      <td>1450</td>\n      <td>1160</td>\n      <td>82</td>\n      <td>68</td>\n      <td>12</td>\n      <td>8</td>\n      <td>366</td>\n      <td>1450</td>\n      <td>14907</td>\n      <td>foul</td>\n      <td>pers</td>\n      <td>92</td>\n      <td>44</td>\n      <td>1</td>\n    </tr>\n    <tr>\n      <th>15835837</th>\n      <td>15835838</td>\n      <td>2020</td>\n      <td>128</td>\n      <td>1450</td>\n      <td>1160</td>\n      <td>82</td>\n      <td>68</td>\n      <td>0</td>\n      <td>0</td>\n      <td>22</td>\n      <td>1160</td>\n      <td>2389</td>\n      <td>miss2</td>\n      <td>jump</td>\n      <td>86</td>\n      <td>77</td>\n      <td>6</td>\n    </tr>\n    <tr>\n      <th>15835838</th>\n      <td>15835839</td>\n      <td>2020</td>\n      <td>128</td>\n      <td>1450</td>\n      <td>1160</td>\n      <td>82</td>\n      <td>68</td>\n      <td>12</td>\n      <td>9</td>\n      <td>385</td>\n      <td>1450</td>\n      <td>14941</td>\n      <td>miss2</td>\n      <td>jump</td>\n      <td>24</td>\n      <td>49</td>\n      <td>5</td>\n    </tr>\n    <tr>\n      <th>15835840</th>\n      <td>15835841</td>\n      <td>2020</td>\n      <td>128</td>\n      <td>1450</td>\n      <td>1160</td>\n      <td>82</td>\n      <td>68</td>\n      <td>12</td>\n      <td>9</td>\n      <td>404</td>\n      <td>1450</td>\n      <td>14949</td>\n      <td>foul</td>\n      <td>pers</td>\n      <td>77</td>\n      <td>7</td>\n      <td>9</td>\n    </tr>\n  </tbody>\n</table>\n<p>1098776 rows × 17 columns</p>\n</div>"
     },
     "execution_count": 3,
     "metadata": {},
     "output_type": "execute_result"
    }
   ],
   "source": [
    "MEvents = data[\"MEvents\"]\n",
    "\n",
    "MEvents = MEvents[MEvents.X != 0]\n",
    "MEvents = MEvents[MEvents.Y != 0]\n",
    "MEvents"
   ]
  },
  {
   "cell_type": "code",
   "execution_count": 4,
   "metadata": {
    "pycharm": {
     "name": "#%%\n"
    }
   },
   "outputs": [],
   "source": [
    "# Normalize X, Y positions for court dimentions\n",
    "# Court is 50 feet wide and 94 feet end to end.\n",
    "MEvents['X'] = (MEvents['X'] * (94/100))\n",
    "MEvents['Y'] = (MEvents['Y'] * (50/100))"
   ]
  },
  {
   "cell_type": "markdown",
   "metadata": {
    "pycharm": {
     "name": "#%% md\n"
    }
   },
   "source": [
    "## Créer une fonction qui plot le terrain"
   ]
  },
  {
   "cell_type": "code",
   "execution_count": 5,
   "metadata": {
    "pycharm": {
     "name": "#%%\n"
    }
   },
   "outputs": [],
   "source": [
    "#def plot_court() -> None:\n",
    "#    pass\n",
    "\n",
    "def plot_court(ax=None, three_line='mens', court_color='#dfbb85',lw=3, lines_color='black', lines_alpha=0.5, \n",
    "               paint_fill='blue', paint_alpha=0.4, inner_arc=False) -> None:\n",
    "\n",
    "    if ax is None:\n",
    "        ax = plt.gca()\n",
    "\n",
    "    center_circle = Circle((94/2, 50/2), 6, linewidth=lw, color=lines_color, lw=lw, fill=False, \n",
    "                           alpha=lines_alpha)\n",
    "    hoop_left = Circle((5.25, 50/2), 1.5 / 2, linewidth=lw, color=lines_color, lw=lw, fill=False, \n",
    "                       alpha=lines_alpha)\n",
    "    hoop_right = Circle((94-5.25, 50/2), 1.5 / 2, linewidth=lw, color=lines_color, lw=lw, fill=False, \n",
    "                        alpha=lines_alpha)\n",
    "\n",
    "    left_paint = Rectangle((0, (50/2)-6), 18.833333, 12, fill=paint_fill, alpha=paint_alpha, lw=lw, \n",
    "                           edgecolor=None)\n",
    "    right_paint = Rectangle((94-18.83333, (50/2)-6), 18.833333, 12, fill=paint_fill, alpha=paint_alpha, lw=lw,\n",
    "                            edgecolor=None)\n",
    "    \n",
    "    left_paint_boarder = Rectangle((0, (50/2)-6), 18.833333, 12, fill=False, alpha=lines_alpha, lw=lw, \n",
    "                                   edgecolor=lines_color)\n",
    "    right_paint_boarder = Rectangle((94-18.83333, (50/2)-6), 18.833333, 12, fill=False, alpha=lines_alpha,\n",
    "                            lw=lw, edgecolor=lines_color)\n",
    "\n",
    "    left_arc = Arc((18.833333, 50/2), 12, 12, theta1=-90, theta2=90, color=lines_color, lw=lw,\n",
    "                   alpha=lines_alpha)\n",
    "    right_arc = Arc((94-18.833333, 50/2), 12, 12, theta1=90, theta2=-90, color=lines_color, lw=lw,\n",
    "                    alpha=lines_alpha)\n",
    "    \n",
    "    leftblock1 = Rectangle((7, (50/2)-6-0.666), 1, 0.666, fill=True, alpha=lines_alpha, lw=0, \n",
    "                           edgecolor=lines_color, facecolor=lines_color)\n",
    "    leftblock2 = Rectangle((7, (50/2)+6), 1, 0.666, fill=True, alpha=lines_alpha, lw=0, \n",
    "                           edgecolor=lines_color, facecolor=lines_color)\n",
    "    ax.add_patch(leftblock1)\n",
    "    ax.add_patch(leftblock2)\n",
    "    \n",
    "    left_l1 = Rectangle((11, (50/2)-6-0.666), 0.166, 0.666, fill=True, alpha=lines_alpha, lw=0, \n",
    "                        edgecolor=lines_color, facecolor=lines_color)\n",
    "    left_l2 = Rectangle((14, (50/2)-6-0.666), 0.166, 0.666, fill=True, alpha=lines_alpha, lw=0, \n",
    "                        edgecolor=lines_color, facecolor=lines_color)\n",
    "    left_l3 = Rectangle((17, (50/2)-6-0.666), 0.166, 0.666, fill=True, alpha=lines_alpha, lw=0, \n",
    "                        edgecolor=lines_color, facecolor=lines_color)\n",
    "    ax.add_patch(left_l1)\n",
    "    ax.add_patch(left_l2)\n",
    "    ax.add_patch(left_l3)\n",
    "    left_l4 = Rectangle((11, (50/2)+6), 0.166, 0.666, fill=True, alpha=lines_alpha, lw=0, \n",
    "                        edgecolor=lines_color, facecolor=lines_color)\n",
    "    left_l5 = Rectangle((14, (50/2)+6), 0.166, 0.666, fill=True, alpha=lines_alpha, lw=0, \n",
    "                        edgecolor=lines_color, facecolor=lines_color)\n",
    "    left_l6 = Rectangle((17, (50/2)+6), 0.166, 0.666, fill=True, alpha=lines_alpha, lw=0, \n",
    "                        edgecolor=lines_color, facecolor=lines_color)\n",
    "    ax.add_patch(left_l4)\n",
    "    ax.add_patch(left_l5)\n",
    "    ax.add_patch(left_l6)\n",
    "    \n",
    "    rightblock1 = Rectangle((94-7-1, (50/2)-6-0.666), 1, 0.666, fill=True, alpha=lines_alpha, lw=0, \n",
    "                            edgecolor=lines_color, facecolor=lines_color)\n",
    "    rightblock2 = Rectangle((94-7-1, (50/2)+6), 1, 0.666, fill=True, alpha=lines_alpha, lw=0, \n",
    "                            edgecolor=lines_color, facecolor=lines_color)\n",
    "    ax.add_patch(rightblock1)\n",
    "    ax.add_patch(rightblock2)\n",
    "\n",
    "    right_l1 = Rectangle((94-11, (50/2)-6-0.666), 0.166, 0.666, fill=True, alpha=lines_alpha, lw=0, \n",
    "                         edgecolor=lines_color, facecolor=lines_color)\n",
    "    right_l2 = Rectangle((94-14, (50/2)-6-0.666), 0.166, 0.666, fill=True, alpha=lines_alpha, lw=0, \n",
    "                         edgecolor=lines_color, facecolor=lines_color)\n",
    "    right_l3 = Rectangle((94-17, (50/2)-6-0.666), 0.166, 0.666, fill=True, alpha=lines_alpha, lw=0, \n",
    "                         edgecolor=lines_color, facecolor=lines_color)\n",
    "    ax.add_patch(right_l1)\n",
    "    ax.add_patch(right_l2)\n",
    "    ax.add_patch(right_l3)\n",
    "    right_l4 = Rectangle((94-11, (50/2)+6), 0.166, 0.666, fill=True, alpha=lines_alpha, lw=0, \n",
    "                         edgecolor=lines_color, facecolor=lines_color)\n",
    "    right_l5 = Rectangle((94-14, (50/2)+6), 0.166, 0.666, fill=True, alpha=lines_alpha, lw=0, \n",
    "                         edgecolor=lines_color, facecolor=lines_color)\n",
    "    right_l6 = Rectangle((94-17, (50/2)+6), 0.166, 0.666, fill=True, alpha=lines_alpha, lw=0, \n",
    "                         edgecolor=lines_color, facecolor=lines_color)\n",
    "    ax.add_patch(right_l4)\n",
    "    ax.add_patch(right_l5)\n",
    "    ax.add_patch(right_l6)\n",
    "    \n",
    "    if (three_line == 'mens') | (three_line == 'both'):\n",
    "\n",
    "        three_pt_left = Arc((6.25, 50/2), 44.291, 44.291, theta1=-78, theta2=78, color=lines_color, lw=lw,\n",
    "                            alpha=lines_alpha)\n",
    "        three_pt_right = Arc((94-6.25, 50/2), 44.291, 44.291, theta1=180-78, theta2=180+78,\n",
    "                             color=lines_color, lw=lw, alpha=lines_alpha)\n",
    "\n",
    "        ax.plot((0, 11.25), (3.34, 3.34), color=lines_color, lw=lw, alpha=lines_alpha)\n",
    "        ax.plot((0, 11.25), (50-3.34, 50-3.34), color=lines_color, lw=lw, alpha=lines_alpha)\n",
    "        ax.plot((94-11.25, 94), (3.34, 3.34), color=lines_color, lw=lw, alpha=lines_alpha)\n",
    "        ax.plot((94-11.25, 94), (50-3.34, 50-3.34), color=lines_color, lw=lw, alpha=lines_alpha)\n",
    "        ax.add_patch(three_pt_left)\n",
    "        ax.add_patch(three_pt_right)\n",
    "\n",
    "    if (three_line == 'womens') | (three_line == 'both'):\n",
    "        three_pt_left_w = Arc((6.25, 50/2), 20.75 * 2, 20.75 * 2, theta1=-85,\n",
    "                              theta2=85, color=lines_color, lw=lw, alpha=lines_alpha)\n",
    "        three_pt_right_w = Arc((94-6.25, 50/2), 20.75 * 2, 20.75 * 2,\n",
    "                               theta1=180-85, theta2=180+85,\n",
    "                               color=lines_color, lw=lw, alpha=lines_alpha)\n",
    "\n",
    "        ax.plot((0, 8.3), (4.25, 4.25), color=lines_color, lw=lw, alpha=lines_alpha)\n",
    "        ax.plot((0, 8.3), (50-4.25, 50-4.25), color=lines_color, lw=lw, alpha=lines_alpha)\n",
    "        ax.plot((94-8.3, 94), (4.25, 4.25), color=lines_color, lw=lw, alpha=lines_alpha)\n",
    "        ax.plot((94-8.3, 94), (50-4.25, 50-4.25), color=lines_color, lw=lw, alpha=lines_alpha)\n",
    "\n",
    "        ax.add_patch(three_pt_left_w)\n",
    "        ax.add_patch(three_pt_right_w)\n",
    "\n",
    "    ax.add_patch(left_paint)\n",
    "    ax.add_patch(left_paint_boarder)\n",
    "    ax.add_patch(right_paint)\n",
    "    ax.add_patch(right_paint_boarder)\n",
    "    ax.add_patch(center_circle)\n",
    "    ax.add_patch(hoop_left)\n",
    "    ax.add_patch(hoop_right)\n",
    "    ax.add_patch(left_arc)\n",
    "    ax.add_patch(right_arc)\n",
    "    \n",
    "    if inner_arc:\n",
    "        left_inner_arc = Arc((18.833333, 50/2), 12, 12, theta1=90, theta2=-90, color=lines_color, lw=lw, \n",
    "                             alpha=lines_alpha, ls='--')\n",
    "        right_inner_arc = Arc((94-18.833333, 50/2), 12, 12, theta1=-90, theta2=90, color=lines_color, lw=lw,\n",
    "                              alpha=lines_alpha, ls='--')\n",
    "        ax.add_patch(left_inner_arc)\n",
    "        ax.add_patch(right_inner_arc)\n",
    "\n",
    "    restricted_left = Arc((6.25, 50/2), 8, 8, theta1=-90, theta2=90, color=lines_color, lw=lw, \n",
    "                          alpha=lines_alpha)\n",
    "    restricted_right = Arc((94-6.25, 50/2), 8, 8, theta1=180-90, theta2=180+90, color=lines_color, lw=lw, \n",
    "                           alpha=lines_alpha)\n",
    "    ax.add_patch(restricted_left)\n",
    "    ax.add_patch(restricted_right)\n",
    "    \n",
    "    ax.plot((4, 4), ((50/2) - 3, (50/2) + 3), color=lines_color, lw=lw*1.5, alpha=lines_alpha)\n",
    "    ax.plot((94-4, 94-4), ((50/2) - 3, (50/2) + 3), color=lines_color, lw=lw*1.5, alpha=lines_alpha)\n",
    "    ax.plot((4, 4.6), (50/2, 50/2), color=lines_color, lw=lw, alpha=lines_alpha)\n",
    "    ax.plot((94-4, 94-4.6), (50/2, 50/2), color=lines_color, lw=lw, alpha=lines_alpha)\n",
    "\n",
    "    ax.axvline(94/2, color=lines_color, lw=lw, alpha=lines_alpha)\n",
    "\n",
    "    boarder = Rectangle((0.3,0.3), 94-0.4, 50-0.4, fill=False, lw=3, color='black', alpha=lines_alpha)\n",
    "    ax.add_patch(boarder)\n",
    "    \n",
    "    ax.set_xlim(0, 94)\n",
    "    ax.set_ylim(0, 50)\n",
    "    ax.set_facecolor(court_color)\n",
    "    ax.set_xticks([])\n",
    "    ax.set_yticks([])\n",
    "    ax.set_xlabel('')\n",
    "    return ax\n",
    "\n",
    "\n",
    "#fig, ax = plt.subplots(figsize=(15, 8.5))\n",
    "#create_ncaa_full_court(ax, three_line='both', paint_alpha=0.4)\n",
    "#plt.show()"
   ]
  },
  {
   "cell_type": "code",
   "execution_count": 6,
   "metadata": {
    "pycharm": {
     "name": "#%%\n"
    }
   },
   "outputs": [
    {
     "data": {
      "text/plain": "array([ 6.58,  5.64, 88.36, 85.54, 63.92, 21.62, 30.08, 27.26, 81.78,\n        7.52, 83.66,  8.46, 66.74, 75.2 , 13.16, 10.34, 82.72, 11.28,\n       78.02, 87.42, 20.68, 76.14,  9.4 , 28.2 , 31.96, 15.04, 14.1 ,\n       80.84, 71.44, 86.48, 84.6 , 45.12, 68.62, 15.98, 62.98, 18.8 ,\n       89.3 , 29.14, 12.22, 79.9 , 73.32, 26.32, 17.86, 65.8 ,  4.7 ,\n       74.26, 22.56, 25.38, 19.74, 69.56, 24.44, 62.04, 64.86,  3.76,\n       67.68, 90.24, 77.08, 91.18, 72.38, 16.92, 58.28, 32.9 , 92.12,\n       61.1 , 70.5 , 23.5 , 78.96, 31.02, 60.16, 42.3 , 50.76, 59.22,\n        1.88,  2.82, 44.18, 47.94, 43.24, 47.  , 93.06, 53.58, 34.78,\n       33.84, 56.4 ,  0.94, 55.46, 52.64, 39.48, 38.54, 54.52, 35.72,\n       37.6 , 57.34, 48.88, 36.66, 51.7 , 41.36, 40.42, 49.82, 46.06,\n       94.  ])"
     },
     "execution_count": 6,
     "metadata": {},
     "output_type": "execute_result"
    }
   ],
   "source": [
    "MEvents.X.unique()"
   ]
  },
  {
   "cell_type": "markdown",
   "metadata": {},
   "source": [
    "## Création de la variable MatchID"
   ]
  },
  {
   "cell_type": "code",
   "execution_count": 7,
   "metadata": {},
   "outputs": [
    {
     "data": {
      "text/plain": "'\\nTables contenant le quadruplet : [\"Season\", \"DayNum\", \"WTeamID\", \"LTeamID\"]\\n    - MEvents\\n    - MConferenceTourneyGames\\n    - MGameCities\\n    - MNCAATourneyCompactResults\\n    - MNCAATourneyDetailedResults\\n    - MRegularSeasonCompactResults\\n    - MRegularSeasonDetailedResults\\n    - MSecondaryTourneyCompactResults\\n'"
     },
     "execution_count": 7,
     "metadata": {},
     "output_type": "execute_result"
    }
   ],
   "source": [
    "\"\"\"\n",
    "Tables contenant le quadruplet : [\"Season\", \"DayNum\", \"WTeamID\", \"LTeamID\"]\n",
    "    - MEvents\n",
    "    - MConferenceTourneyGames\n",
    "    - MGameCities\n",
    "    - MNCAATourneyCompactResults\n",
    "    - MNCAATourneyDetailedResults\n",
    "    - MRegularSeasonCompactResults\n",
    "    - MRegularSeasonDetailedResults\n",
    "    - MSecondaryTourneyCompactResults\n",
    "\"\"\""
   ]
  },
  {
   "cell_type": "code",
   "execution_count": 8,
   "metadata": {
    "pycharm": {
     "name": "#%%\n"
    }
   },
   "outputs": [
    {
     "data": {
      "text/plain": "          Season  DayNum  WTeamID  LTeamID  EventPlayerID EventType      X  \\\n10448383    2019       1     1123     1232            927     miss2   6.58   \n10448387    2019       1     1123     1232           5510     miss2  88.36   \n10448392    2019       1     1123     1232            924     miss2   6.58   \n10448409    2019       1     1123     1232           5520     miss2  81.78   \n10448423    2019       1     1123     1232            930     made2   5.64   \n\n             Y  \n10448383  11.5  \n10448387  35.0  \n10448392  27.5  \n10448409  24.5  \n10448423  28.5  ",
      "text/html": "<div>\n<style scoped>\n    .dataframe tbody tr th:only-of-type {\n        vertical-align: middle;\n    }\n\n    .dataframe tbody tr th {\n        vertical-align: top;\n    }\n\n    .dataframe thead th {\n        text-align: right;\n    }\n</style>\n<table border=\"1\" class=\"dataframe\">\n  <thead>\n    <tr style=\"text-align: right;\">\n      <th></th>\n      <th>Season</th>\n      <th>DayNum</th>\n      <th>WTeamID</th>\n      <th>LTeamID</th>\n      <th>EventPlayerID</th>\n      <th>EventType</th>\n      <th>X</th>\n      <th>Y</th>\n    </tr>\n  </thead>\n  <tbody>\n    <tr>\n      <th>10448383</th>\n      <td>2019</td>\n      <td>1</td>\n      <td>1123</td>\n      <td>1232</td>\n      <td>927</td>\n      <td>miss2</td>\n      <td>6.58</td>\n      <td>11.5</td>\n    </tr>\n    <tr>\n      <th>10448387</th>\n      <td>2019</td>\n      <td>1</td>\n      <td>1123</td>\n      <td>1232</td>\n      <td>5510</td>\n      <td>miss2</td>\n      <td>88.36</td>\n      <td>35.0</td>\n    </tr>\n    <tr>\n      <th>10448392</th>\n      <td>2019</td>\n      <td>1</td>\n      <td>1123</td>\n      <td>1232</td>\n      <td>924</td>\n      <td>miss2</td>\n      <td>6.58</td>\n      <td>27.5</td>\n    </tr>\n    <tr>\n      <th>10448409</th>\n      <td>2019</td>\n      <td>1</td>\n      <td>1123</td>\n      <td>1232</td>\n      <td>5520</td>\n      <td>miss2</td>\n      <td>81.78</td>\n      <td>24.5</td>\n    </tr>\n    <tr>\n      <th>10448423</th>\n      <td>2019</td>\n      <td>1</td>\n      <td>1123</td>\n      <td>1232</td>\n      <td>930</td>\n      <td>made2</td>\n      <td>5.64</td>\n      <td>28.5</td>\n    </tr>\n  </tbody>\n</table>\n</div>"
     },
     "execution_count": 8,
     "metadata": {},
     "output_type": "execute_result"
    }
   ],
   "source": [
    "# On garde les 4 colonnes qui permettent de créer un MatchID unique et la saison 2015 pour réduire le df\n",
    "# Variables utiles pour le groupby()\n",
    "# df_2019 = df_2019[['Season', 'DayNum', 'WTeamID', 'LTeamID']]\n",
    "\n",
    "# Variables utiles\n",
    "df_2019 = MEvents[['Season', 'DayNum', 'WTeamID', 'LTeamID', 'EventPlayerID', 'EventType', 'X', 'Y']]\n",
    "\n",
    "# Shots à 2 et 3 points râtés et réussis\n",
    "df_2019_shots = df_2019[df_2019['EventType'].str.contains('miss2')| df_2019['EventType'].str.contains('made2')|\n",
    "                  df_2019['EventType'].str.contains('made3') | df_2019['EventType'].str.contains('made3')]\n",
    "\n",
    "# Sur une seule saison (2019)\n",
    "df_2019_shots = df_2019_shots.loc[df_2019_shots['Season'] == 2019]\n",
    "df_2019_shots.head()"
   ]
  },
  {
   "cell_type": "code",
   "execution_count": 9,
   "metadata": {
    "pycharm": {
     "name": "#%%\n"
    }
   },
   "outputs": [
    {
     "name": "stdout",
     "output_type": "stream",
     "text": [
      "[ 6.58  5.64 88.36 85.54 63.92 21.62 30.08 27.26 81.78  7.52 83.66  8.46\n",
      " 66.74 75.2  13.16 10.34 82.72 11.28 78.02 87.42 20.68 76.14  9.4  28.2\n",
      " 31.96 15.04 14.1  80.84 71.44 86.48 84.6  45.12 68.62 15.98 62.98 18.8\n",
      " 89.3  29.14 12.22 79.9  73.32 26.32 17.86 65.8   4.7  74.26 22.56 25.38\n",
      " 19.74 69.56 24.44 62.04 64.86  3.76 67.68 90.24 77.08 91.18 72.38 16.92\n",
      " 58.28 32.9  92.12 61.1  70.5  23.5  78.96 31.02 60.16 42.3  50.76 59.22\n",
      "  1.88  2.82 44.18 47.94 43.24 47.   93.06 53.58 34.78 33.84 56.4   0.94\n",
      " 55.46 52.64 39.48 38.54 54.52 35.72 37.6  57.34 48.88 36.66 51.7  41.36\n",
      " 40.42 49.82 46.06 94.  ]\n",
      " \n",
      "[ 6.58 88.36 81.78  5.64 83.66  8.46 66.74 13.16  7.52 82.72 11.28 78.02\n",
      " 87.42 20.68 76.14  9.4  85.54 31.96 15.04 71.44 86.48 84.6  45.12 15.98\n",
      " 62.98 89.3  29.14 12.22 79.9  10.34 73.32 26.32 65.8  14.1   4.7  25.38\n",
      " 74.26 24.44  3.76 18.8  77.08 69.56 72.38 80.84 16.92 17.86 90.24 32.9\n",
      " 21.62 75.2  64.86 78.96 31.02 27.26 62.04 70.5  23.5  63.92 28.2   1.88\n",
      "  2.82 22.56 68.62 19.74 30.08 67.68 91.18 33.84 61.1  93.06  0.94 36.66\n",
      " 58.28 92.12 60.16 46.06 59.22 55.46 34.78 40.42 37.6  35.72 48.88 57.34\n",
      " 54.52 47.   56.4  53.58 39.48 47.94 41.36 42.3 ]\n"
     ]
    }
   ],
   "source": [
    "# Le renseignement sur les positions de shots intervient seulement en 2019 et 2020\n",
    "\n",
    "print(df_2019.X.unique())\n",
    "print(\" \")\n",
    "print(df_2019_shots.X.unique())"
   ]
  },
  {
   "cell_type": "code",
   "execution_count": 10,
   "metadata": {
    "pycharm": {
     "name": "#%%\n"
    }
   },
   "outputs": [
    {
     "data": {
      "text/plain": "   Season  DayNum  WTeamID  LTeamID  MatchID\n0    2019       1     1123     1232        0\n1    2019       1     1130     1454        1\n2    2019       1     1138     1384        2\n3    2019       1     1181     1246        3\n4    2019       1     1197     1239        4",
      "text/html": "<div>\n<style scoped>\n    .dataframe tbody tr th:only-of-type {\n        vertical-align: middle;\n    }\n\n    .dataframe tbody tr th {\n        vertical-align: top;\n    }\n\n    .dataframe thead th {\n        text-align: right;\n    }\n</style>\n<table border=\"1\" class=\"dataframe\">\n  <thead>\n    <tr style=\"text-align: right;\">\n      <th></th>\n      <th>Season</th>\n      <th>DayNum</th>\n      <th>WTeamID</th>\n      <th>LTeamID</th>\n      <th>MatchID</th>\n    </tr>\n  </thead>\n  <tbody>\n    <tr>\n      <th>0</th>\n      <td>2019</td>\n      <td>1</td>\n      <td>1123</td>\n      <td>1232</td>\n      <td>0</td>\n    </tr>\n    <tr>\n      <th>1</th>\n      <td>2019</td>\n      <td>1</td>\n      <td>1130</td>\n      <td>1454</td>\n      <td>1</td>\n    </tr>\n    <tr>\n      <th>2</th>\n      <td>2019</td>\n      <td>1</td>\n      <td>1138</td>\n      <td>1384</td>\n      <td>2</td>\n    </tr>\n    <tr>\n      <th>3</th>\n      <td>2019</td>\n      <td>1</td>\n      <td>1181</td>\n      <td>1246</td>\n      <td>3</td>\n    </tr>\n    <tr>\n      <th>4</th>\n      <td>2019</td>\n      <td>1</td>\n      <td>1197</td>\n      <td>1239</td>\n      <td>4</td>\n    </tr>\n  </tbody>\n</table>\n</div>"
     },
     "execution_count": 10,
     "metadata": {},
     "output_type": "execute_result"
    }
   ],
   "source": [
    "# DataFrame avec MatchId unique --> 5600 matchs en 2019\n",
    "#                               --> 2103 matchs où X et Y différents de 0\n",
    "\n",
    "df_id_unique = (df_2019_shots.groupby(['Season','DayNum', 'WTeamID', 'LTeamID']).size().reset_index().rename(columns={0:'count'}))\n",
    "df_id_unique['MatchID'] = df_id_unique.index\n",
    "df_id_unique = df_id_unique.drop(['count'], axis=1)\n",
    "df_id_unique.head()"
   ]
  },
  {
   "cell_type": "code",
   "execution_count": 11,
   "metadata": {
    "pycharm": {
     "name": "#%%\n"
    }
   },
   "outputs": [
    {
     "data": {
      "text/plain": "        Season  DayNum  WTeamID  LTeamID  EventPlayerID EventType      X  \\\n0         2019       1     1123     1232            927     miss2   6.58   \n1         2019       1     1123     1232           5510     miss2  88.36   \n2         2019       1     1123     1232            924     miss2   6.58   \n3         2019       1     1123     1232           5520     miss2  81.78   \n4         2019       1     1123     1232            930     made2   5.64   \n...        ...     ...      ...      ...            ...       ...    ...   \n181441    2019     154     1438     1403          14490     miss2   9.40   \n181442    2019     154     1438     1403          14490     made3   4.70   \n181443    2019     154     1438     1403          12979     miss2  88.36   \n181444    2019     154     1438     1403          14495     made2   8.46   \n181445    2019     154     1438     1403          14489     miss2   7.52   \n\n           Y  MatchID  \n0       11.5        0  \n1       35.0        0  \n2       27.5        0  \n3       24.5        0  \n4       28.5        0  \n...      ...      ...  \n181441  14.5     2103  \n181442   3.0     2103  \n181443  23.5     2103  \n181444  25.5     2103  \n181445  26.0     2103  \n\n[181446 rows x 9 columns]",
      "text/html": "<div>\n<style scoped>\n    .dataframe tbody tr th:only-of-type {\n        vertical-align: middle;\n    }\n\n    .dataframe tbody tr th {\n        vertical-align: top;\n    }\n\n    .dataframe thead th {\n        text-align: right;\n    }\n</style>\n<table border=\"1\" class=\"dataframe\">\n  <thead>\n    <tr style=\"text-align: right;\">\n      <th></th>\n      <th>Season</th>\n      <th>DayNum</th>\n      <th>WTeamID</th>\n      <th>LTeamID</th>\n      <th>EventPlayerID</th>\n      <th>EventType</th>\n      <th>X</th>\n      <th>Y</th>\n      <th>MatchID</th>\n    </tr>\n  </thead>\n  <tbody>\n    <tr>\n      <th>0</th>\n      <td>2019</td>\n      <td>1</td>\n      <td>1123</td>\n      <td>1232</td>\n      <td>927</td>\n      <td>miss2</td>\n      <td>6.58</td>\n      <td>11.5</td>\n      <td>0</td>\n    </tr>\n    <tr>\n      <th>1</th>\n      <td>2019</td>\n      <td>1</td>\n      <td>1123</td>\n      <td>1232</td>\n      <td>5510</td>\n      <td>miss2</td>\n      <td>88.36</td>\n      <td>35.0</td>\n      <td>0</td>\n    </tr>\n    <tr>\n      <th>2</th>\n      <td>2019</td>\n      <td>1</td>\n      <td>1123</td>\n      <td>1232</td>\n      <td>924</td>\n      <td>miss2</td>\n      <td>6.58</td>\n      <td>27.5</td>\n      <td>0</td>\n    </tr>\n    <tr>\n      <th>3</th>\n      <td>2019</td>\n      <td>1</td>\n      <td>1123</td>\n      <td>1232</td>\n      <td>5520</td>\n      <td>miss2</td>\n      <td>81.78</td>\n      <td>24.5</td>\n      <td>0</td>\n    </tr>\n    <tr>\n      <th>4</th>\n      <td>2019</td>\n      <td>1</td>\n      <td>1123</td>\n      <td>1232</td>\n      <td>930</td>\n      <td>made2</td>\n      <td>5.64</td>\n      <td>28.5</td>\n      <td>0</td>\n    </tr>\n    <tr>\n      <th>...</th>\n      <td>...</td>\n      <td>...</td>\n      <td>...</td>\n      <td>...</td>\n      <td>...</td>\n      <td>...</td>\n      <td>...</td>\n      <td>...</td>\n      <td>...</td>\n    </tr>\n    <tr>\n      <th>181441</th>\n      <td>2019</td>\n      <td>154</td>\n      <td>1438</td>\n      <td>1403</td>\n      <td>14490</td>\n      <td>miss2</td>\n      <td>9.40</td>\n      <td>14.5</td>\n      <td>2103</td>\n    </tr>\n    <tr>\n      <th>181442</th>\n      <td>2019</td>\n      <td>154</td>\n      <td>1438</td>\n      <td>1403</td>\n      <td>14490</td>\n      <td>made3</td>\n      <td>4.70</td>\n      <td>3.0</td>\n      <td>2103</td>\n    </tr>\n    <tr>\n      <th>181443</th>\n      <td>2019</td>\n      <td>154</td>\n      <td>1438</td>\n      <td>1403</td>\n      <td>12979</td>\n      <td>miss2</td>\n      <td>88.36</td>\n      <td>23.5</td>\n      <td>2103</td>\n    </tr>\n    <tr>\n      <th>181444</th>\n      <td>2019</td>\n      <td>154</td>\n      <td>1438</td>\n      <td>1403</td>\n      <td>14495</td>\n      <td>made2</td>\n      <td>8.46</td>\n      <td>25.5</td>\n      <td>2103</td>\n    </tr>\n    <tr>\n      <th>181445</th>\n      <td>2019</td>\n      <td>154</td>\n      <td>1438</td>\n      <td>1403</td>\n      <td>14489</td>\n      <td>miss2</td>\n      <td>7.52</td>\n      <td>26.0</td>\n      <td>2103</td>\n    </tr>\n  </tbody>\n</table>\n<p>181446 rows × 9 columns</p>\n</div>"
     },
     "execution_count": 11,
     "metadata": {},
     "output_type": "execute_result"
    }
   ],
   "source": [
    "# On applique le MatchID sur l'ensemble du dataframe\n",
    "\n",
    "df_2019_id = pd.merge(df_2019_shots, df_id_unique,  how='left', \n",
    "                      left_on=['Season','DayNum', 'WTeamID', 'LTeamID'], \n",
    "                      right_on = ['Season','DayNum', 'WTeamID', 'LTeamID'])\n",
    "df_2019_id"
   ]
  },
  {
   "cell_type": "markdown",
   "metadata": {},
   "source": [
    "## Récupération du nom des joueurs"
   ]
  },
  {
   "cell_type": "code",
   "execution_count": 12,
   "metadata": {
    "pycharm": {
     "name": "#%%\n"
    }
   },
   "outputs": [
    {
     "data": {
      "text/plain": "   PlayerID  LastName  FirstName\n0         1  Albright  Christian\n1         2   Cameron     Tobias\n2         3      Cobb      Chase\n3         4     Cooke     Austin\n4         5     Crnic      Jovan",
      "text/html": "<div>\n<style scoped>\n    .dataframe tbody tr th:only-of-type {\n        vertical-align: middle;\n    }\n\n    .dataframe tbody tr th {\n        vertical-align: top;\n    }\n\n    .dataframe thead th {\n        text-align: right;\n    }\n</style>\n<table border=\"1\" class=\"dataframe\">\n  <thead>\n    <tr style=\"text-align: right;\">\n      <th></th>\n      <th>PlayerID</th>\n      <th>LastName</th>\n      <th>FirstName</th>\n    </tr>\n  </thead>\n  <tbody>\n    <tr>\n      <th>0</th>\n      <td>1</td>\n      <td>Albright</td>\n      <td>Christian</td>\n    </tr>\n    <tr>\n      <th>1</th>\n      <td>2</td>\n      <td>Cameron</td>\n      <td>Tobias</td>\n    </tr>\n    <tr>\n      <th>2</th>\n      <td>3</td>\n      <td>Cobb</td>\n      <td>Chase</td>\n    </tr>\n    <tr>\n      <th>3</th>\n      <td>4</td>\n      <td>Cooke</td>\n      <td>Austin</td>\n    </tr>\n    <tr>\n      <th>4</th>\n      <td>5</td>\n      <td>Crnic</td>\n      <td>Jovan</td>\n    </tr>\n  </tbody>\n</table>\n</div>"
     },
     "execution_count": 12,
     "metadata": {},
     "output_type": "execute_result"
    }
   ],
   "source": [
    "# On utilise le df pour avoir le nom de chaque joueur en fonction de son ID pour le merge avec le df précédent\n",
    "MPlayers = data[\"MPlayers\"]\n",
    "MPlayers = MPlayers[[\"PlayerID\", \"LastName\", \"FirstName\"]]\n",
    "MPlayers.head()"
   ]
  },
  {
   "cell_type": "code",
   "execution_count": 13,
   "metadata": {
    "pycharm": {
     "name": "#%%\n"
    }
   },
   "outputs": [
    {
     "data": {
      "text/plain": "        Season  DayNum  WTeamID  LTeamID  EventPlayerID EventType      X  \\\n0         2019       1     1123     1232            927     miss2   6.58   \n1         2019       1     1123     1232           5510     miss2  88.36   \n2         2019       1     1123     1232            924     miss2   6.58   \n3         2019       1     1123     1232           5520     miss2  81.78   \n4         2019       1     1123     1232            930     made2   5.64   \n...        ...     ...      ...      ...            ...       ...    ...   \n181441    2019     154     1438     1403          14490     miss2   9.40   \n181442    2019     154     1438     1403          14490     made3   4.70   \n181443    2019     154     1438     1403          12979     miss2  88.36   \n181444    2019     154     1438     1403          14495     made2   8.46   \n181445    2019     154     1438     1403          14489     miss2   7.52   \n\n           Y  MatchID  PlayerID LastName FirstName  \n0       11.5        0     927.0  Persons    Tayler  \n1       35.0        0    5510.0      Key    Tyreke  \n2       27.5        0     924.0    Moses      Trey  \n3       24.5        0    5520.0  Rickman   Emondre  \n4       28.5        0     930.0   Teague    Tahjai  \n...      ...      ...       ...      ...       ...  \n181441  14.5     2103   14490.0   Jerome        Ty  \n181442   3.0     2103   14490.0   Jerome        Ty  \n181443  23.5     2103   12979.0   Culver   Jarrett  \n181444  25.5     2103   14495.0      Key   Braxton  \n181445  26.0     2103   14489.0   Hunter  De'Andre  \n\n[181446 rows x 12 columns]",
      "text/html": "<div>\n<style scoped>\n    .dataframe tbody tr th:only-of-type {\n        vertical-align: middle;\n    }\n\n    .dataframe tbody tr th {\n        vertical-align: top;\n    }\n\n    .dataframe thead th {\n        text-align: right;\n    }\n</style>\n<table border=\"1\" class=\"dataframe\">\n  <thead>\n    <tr style=\"text-align: right;\">\n      <th></th>\n      <th>Season</th>\n      <th>DayNum</th>\n      <th>WTeamID</th>\n      <th>LTeamID</th>\n      <th>EventPlayerID</th>\n      <th>EventType</th>\n      <th>X</th>\n      <th>Y</th>\n      <th>MatchID</th>\n      <th>PlayerID</th>\n      <th>LastName</th>\n      <th>FirstName</th>\n    </tr>\n  </thead>\n  <tbody>\n    <tr>\n      <th>0</th>\n      <td>2019</td>\n      <td>1</td>\n      <td>1123</td>\n      <td>1232</td>\n      <td>927</td>\n      <td>miss2</td>\n      <td>6.58</td>\n      <td>11.5</td>\n      <td>0</td>\n      <td>927.0</td>\n      <td>Persons</td>\n      <td>Tayler</td>\n    </tr>\n    <tr>\n      <th>1</th>\n      <td>2019</td>\n      <td>1</td>\n      <td>1123</td>\n      <td>1232</td>\n      <td>5510</td>\n      <td>miss2</td>\n      <td>88.36</td>\n      <td>35.0</td>\n      <td>0</td>\n      <td>5510.0</td>\n      <td>Key</td>\n      <td>Tyreke</td>\n    </tr>\n    <tr>\n      <th>2</th>\n      <td>2019</td>\n      <td>1</td>\n      <td>1123</td>\n      <td>1232</td>\n      <td>924</td>\n      <td>miss2</td>\n      <td>6.58</td>\n      <td>27.5</td>\n      <td>0</td>\n      <td>924.0</td>\n      <td>Moses</td>\n      <td>Trey</td>\n    </tr>\n    <tr>\n      <th>3</th>\n      <td>2019</td>\n      <td>1</td>\n      <td>1123</td>\n      <td>1232</td>\n      <td>5520</td>\n      <td>miss2</td>\n      <td>81.78</td>\n      <td>24.5</td>\n      <td>0</td>\n      <td>5520.0</td>\n      <td>Rickman</td>\n      <td>Emondre</td>\n    </tr>\n    <tr>\n      <th>4</th>\n      <td>2019</td>\n      <td>1</td>\n      <td>1123</td>\n      <td>1232</td>\n      <td>930</td>\n      <td>made2</td>\n      <td>5.64</td>\n      <td>28.5</td>\n      <td>0</td>\n      <td>930.0</td>\n      <td>Teague</td>\n      <td>Tahjai</td>\n    </tr>\n    <tr>\n      <th>...</th>\n      <td>...</td>\n      <td>...</td>\n      <td>...</td>\n      <td>...</td>\n      <td>...</td>\n      <td>...</td>\n      <td>...</td>\n      <td>...</td>\n      <td>...</td>\n      <td>...</td>\n      <td>...</td>\n      <td>...</td>\n    </tr>\n    <tr>\n      <th>181441</th>\n      <td>2019</td>\n      <td>154</td>\n      <td>1438</td>\n      <td>1403</td>\n      <td>14490</td>\n      <td>miss2</td>\n      <td>9.40</td>\n      <td>14.5</td>\n      <td>2103</td>\n      <td>14490.0</td>\n      <td>Jerome</td>\n      <td>Ty</td>\n    </tr>\n    <tr>\n      <th>181442</th>\n      <td>2019</td>\n      <td>154</td>\n      <td>1438</td>\n      <td>1403</td>\n      <td>14490</td>\n      <td>made3</td>\n      <td>4.70</td>\n      <td>3.0</td>\n      <td>2103</td>\n      <td>14490.0</td>\n      <td>Jerome</td>\n      <td>Ty</td>\n    </tr>\n    <tr>\n      <th>181443</th>\n      <td>2019</td>\n      <td>154</td>\n      <td>1438</td>\n      <td>1403</td>\n      <td>12979</td>\n      <td>miss2</td>\n      <td>88.36</td>\n      <td>23.5</td>\n      <td>2103</td>\n      <td>12979.0</td>\n      <td>Culver</td>\n      <td>Jarrett</td>\n    </tr>\n    <tr>\n      <th>181444</th>\n      <td>2019</td>\n      <td>154</td>\n      <td>1438</td>\n      <td>1403</td>\n      <td>14495</td>\n      <td>made2</td>\n      <td>8.46</td>\n      <td>25.5</td>\n      <td>2103</td>\n      <td>14495.0</td>\n      <td>Key</td>\n      <td>Braxton</td>\n    </tr>\n    <tr>\n      <th>181445</th>\n      <td>2019</td>\n      <td>154</td>\n      <td>1438</td>\n      <td>1403</td>\n      <td>14489</td>\n      <td>miss2</td>\n      <td>7.52</td>\n      <td>26.0</td>\n      <td>2103</td>\n      <td>14489.0</td>\n      <td>Hunter</td>\n      <td>De'Andre</td>\n    </tr>\n  </tbody>\n</table>\n<p>181446 rows × 12 columns</p>\n</div>"
     },
     "execution_count": 13,
     "metadata": {},
     "output_type": "execute_result"
    }
   ],
   "source": [
    "df_2019_id_player = pd.merge(df_2019_id, MPlayers,  how='left', left_on=['EventPlayerID'], \n",
    "                             right_on = ['PlayerID'])\n",
    "df_2019_id_player"
   ]
  },
  {
   "cell_type": "code",
   "execution_count": 14,
   "metadata": {
    "pycharm": {
     "name": "#%%\n"
    }
   },
   "outputs": [
    {
     "data": {
      "text/plain": "        Season  DayNum  WTeamID  LTeamID  EventPlayerID EventType      X  \\\n0         2019       1     1123     1232            927     miss2   6.58   \n1         2019       1     1123     1232           5510     miss2  88.36   \n2         2019       1     1123     1232            924     miss2   6.58   \n3         2019       1     1123     1232           5520     miss2  81.78   \n4         2019       1     1123     1232            930     made2   5.64   \n...        ...     ...      ...      ...            ...       ...    ...   \n181441    2019     154     1438     1403          14490     miss2   9.40   \n181442    2019     154     1438     1403          14490     made3   4.70   \n181443    2019     154     1438     1403          12979     miss2  88.36   \n181444    2019     154     1438     1403          14495     made2   8.46   \n181445    2019     154     1438     1403          14489     miss2   7.52   \n\n           Y  MatchID         FullName  \n0       11.5        0   Tayler Persons  \n1       35.0        0       Tyreke Key  \n2       27.5        0       Trey Moses  \n3       24.5        0  Emondre Rickman  \n4       28.5        0    Tahjai Teague  \n...      ...      ...              ...  \n181441  14.5     2103        Ty Jerome  \n181442   3.0     2103        Ty Jerome  \n181443  23.5     2103   Jarrett Culver  \n181444  25.5     2103      Braxton Key  \n181445  26.0     2103  De'Andre Hunter  \n\n[181446 rows x 10 columns]",
      "text/html": "<div>\n<style scoped>\n    .dataframe tbody tr th:only-of-type {\n        vertical-align: middle;\n    }\n\n    .dataframe tbody tr th {\n        vertical-align: top;\n    }\n\n    .dataframe thead th {\n        text-align: right;\n    }\n</style>\n<table border=\"1\" class=\"dataframe\">\n  <thead>\n    <tr style=\"text-align: right;\">\n      <th></th>\n      <th>Season</th>\n      <th>DayNum</th>\n      <th>WTeamID</th>\n      <th>LTeamID</th>\n      <th>EventPlayerID</th>\n      <th>EventType</th>\n      <th>X</th>\n      <th>Y</th>\n      <th>MatchID</th>\n      <th>FullName</th>\n    </tr>\n  </thead>\n  <tbody>\n    <tr>\n      <th>0</th>\n      <td>2019</td>\n      <td>1</td>\n      <td>1123</td>\n      <td>1232</td>\n      <td>927</td>\n      <td>miss2</td>\n      <td>6.58</td>\n      <td>11.5</td>\n      <td>0</td>\n      <td>Tayler Persons</td>\n    </tr>\n    <tr>\n      <th>1</th>\n      <td>2019</td>\n      <td>1</td>\n      <td>1123</td>\n      <td>1232</td>\n      <td>5510</td>\n      <td>miss2</td>\n      <td>88.36</td>\n      <td>35.0</td>\n      <td>0</td>\n      <td>Tyreke Key</td>\n    </tr>\n    <tr>\n      <th>2</th>\n      <td>2019</td>\n      <td>1</td>\n      <td>1123</td>\n      <td>1232</td>\n      <td>924</td>\n      <td>miss2</td>\n      <td>6.58</td>\n      <td>27.5</td>\n      <td>0</td>\n      <td>Trey Moses</td>\n    </tr>\n    <tr>\n      <th>3</th>\n      <td>2019</td>\n      <td>1</td>\n      <td>1123</td>\n      <td>1232</td>\n      <td>5520</td>\n      <td>miss2</td>\n      <td>81.78</td>\n      <td>24.5</td>\n      <td>0</td>\n      <td>Emondre Rickman</td>\n    </tr>\n    <tr>\n      <th>4</th>\n      <td>2019</td>\n      <td>1</td>\n      <td>1123</td>\n      <td>1232</td>\n      <td>930</td>\n      <td>made2</td>\n      <td>5.64</td>\n      <td>28.5</td>\n      <td>0</td>\n      <td>Tahjai Teague</td>\n    </tr>\n    <tr>\n      <th>...</th>\n      <td>...</td>\n      <td>...</td>\n      <td>...</td>\n      <td>...</td>\n      <td>...</td>\n      <td>...</td>\n      <td>...</td>\n      <td>...</td>\n      <td>...</td>\n      <td>...</td>\n    </tr>\n    <tr>\n      <th>181441</th>\n      <td>2019</td>\n      <td>154</td>\n      <td>1438</td>\n      <td>1403</td>\n      <td>14490</td>\n      <td>miss2</td>\n      <td>9.40</td>\n      <td>14.5</td>\n      <td>2103</td>\n      <td>Ty Jerome</td>\n    </tr>\n    <tr>\n      <th>181442</th>\n      <td>2019</td>\n      <td>154</td>\n      <td>1438</td>\n      <td>1403</td>\n      <td>14490</td>\n      <td>made3</td>\n      <td>4.70</td>\n      <td>3.0</td>\n      <td>2103</td>\n      <td>Ty Jerome</td>\n    </tr>\n    <tr>\n      <th>181443</th>\n      <td>2019</td>\n      <td>154</td>\n      <td>1438</td>\n      <td>1403</td>\n      <td>12979</td>\n      <td>miss2</td>\n      <td>88.36</td>\n      <td>23.5</td>\n      <td>2103</td>\n      <td>Jarrett Culver</td>\n    </tr>\n    <tr>\n      <th>181444</th>\n      <td>2019</td>\n      <td>154</td>\n      <td>1438</td>\n      <td>1403</td>\n      <td>14495</td>\n      <td>made2</td>\n      <td>8.46</td>\n      <td>25.5</td>\n      <td>2103</td>\n      <td>Braxton Key</td>\n    </tr>\n    <tr>\n      <th>181445</th>\n      <td>2019</td>\n      <td>154</td>\n      <td>1438</td>\n      <td>1403</td>\n      <td>14489</td>\n      <td>miss2</td>\n      <td>7.52</td>\n      <td>26.0</td>\n      <td>2103</td>\n      <td>De'Andre Hunter</td>\n    </tr>\n  </tbody>\n</table>\n<p>181446 rows × 10 columns</p>\n</div>"
     },
     "execution_count": 14,
     "metadata": {},
     "output_type": "execute_result"
    }
   ],
   "source": [
    "df_2019_id_player['FullName'] = df_2019_id_player['FirstName'] + \" \" + df_2019_id_player['LastName']\n",
    "df_2019_id_player = df_2019_id_player.drop(['PlayerID', 'LastName', 'FirstName'], axis=1)\n",
    "df_2019_id_player"
   ]
  },
  {
   "cell_type": "markdown",
   "metadata": {},
   "source": [
    "## Créer une fonction qui récupère les matchs joués par un joueur à partir de son nom "
   ]
  },
  {
   "cell_type": "code",
   "execution_count": 15,
   "metadata": {
    "pycharm": {
     "name": "#%%\n"
    }
   },
   "outputs": [
    {
     "data": {
      "text/plain": "       Season  EventPlayerID EventType     X     Y      FullName  MatchID\n11432    2019          12013     made2  5.64  25.0  Sidney Umude      129\n11434    2019          12013     miss2  9.40  36.0  Sidney Umude      129\n11443    2019          12013     miss2  4.70  26.0  Sidney Umude      129\n11447    2019          12013     miss2  6.58  23.0  Sidney Umude      129\n11486    2019          12013     miss2  6.58  32.0  Sidney Umude      129",
      "text/html": "<div>\n<style scoped>\n    .dataframe tbody tr th:only-of-type {\n        vertical-align: middle;\n    }\n\n    .dataframe tbody tr th {\n        vertical-align: top;\n    }\n\n    .dataframe thead th {\n        text-align: right;\n    }\n</style>\n<table border=\"1\" class=\"dataframe\">\n  <thead>\n    <tr style=\"text-align: right;\">\n      <th></th>\n      <th>Season</th>\n      <th>EventPlayerID</th>\n      <th>EventType</th>\n      <th>X</th>\n      <th>Y</th>\n      <th>FullName</th>\n      <th>MatchID</th>\n    </tr>\n  </thead>\n  <tbody>\n    <tr>\n      <th>11432</th>\n      <td>2019</td>\n      <td>12013</td>\n      <td>made2</td>\n      <td>5.64</td>\n      <td>25.0</td>\n      <td>Sidney Umude</td>\n      <td>129</td>\n    </tr>\n    <tr>\n      <th>11434</th>\n      <td>2019</td>\n      <td>12013</td>\n      <td>miss2</td>\n      <td>9.40</td>\n      <td>36.0</td>\n      <td>Sidney Umude</td>\n      <td>129</td>\n    </tr>\n    <tr>\n      <th>11443</th>\n      <td>2019</td>\n      <td>12013</td>\n      <td>miss2</td>\n      <td>4.70</td>\n      <td>26.0</td>\n      <td>Sidney Umude</td>\n      <td>129</td>\n    </tr>\n    <tr>\n      <th>11447</th>\n      <td>2019</td>\n      <td>12013</td>\n      <td>miss2</td>\n      <td>6.58</td>\n      <td>23.0</td>\n      <td>Sidney Umude</td>\n      <td>129</td>\n    </tr>\n    <tr>\n      <th>11486</th>\n      <td>2019</td>\n      <td>12013</td>\n      <td>miss2</td>\n      <td>6.58</td>\n      <td>32.0</td>\n      <td>Sidney Umude</td>\n      <td>129</td>\n    </tr>\n  </tbody>\n</table>\n</div>"
     },
     "execution_count": 15,
     "metadata": {},
     "output_type": "execute_result"
    }
   ],
   "source": [
    "df = df_2019_id_player.query('FullName==\"Sidney Umude\"')\n",
    "df_col_player = df[['Season', 'EventPlayerID', 'EventType','X', 'Y', 'FullName', 'MatchID']]\n",
    "df_col_player.head()"
   ]
  },
  {
   "cell_type": "code",
   "execution_count": 16,
   "metadata": {
    "pycharm": {
     "name": "#%%\n"
    }
   },
   "outputs": [
    {
     "name": "stdout",
     "output_type": "stream",
     "text": [
      "***** Unique MatchID : *****\n",
      "{129, 714, 997}\n"
     ]
    }
   ],
   "source": [
    "list_of_games = df_2019_id_player.query('FullName==\"Sidney Umude\"').get('MatchID')\n",
    "\n",
    "unique_games_id = set(list_of_games)\n",
    "print(\"***** Unique MatchID : *****\")\n",
    "print(unique_games_id)"
   ]
  },
  {
   "cell_type": "code",
   "execution_count": 17,
   "metadata": {
    "pycharm": {
     "name": "#%%\n"
    }
   },
   "outputs": [
    {
     "data": {
      "text/plain": "{129, 714, 997}"
     },
     "execution_count": 17,
     "metadata": {},
     "output_type": "execute_result"
    }
   ],
   "source": [
    "# Create a function that select all the rows corresponding to a certain player in a dataframe\n",
    "\n",
    "def get_games_of_a_player(name: str): #-> pd.DataFrame:\n",
    "    list_of_games = df_2019_id_player.query('FullName==\"name\"').get('MatchID')\n",
    "    return(unique_games_id)\n",
    "\n",
    "get_games_of_a_player('Sidney Umude')"
   ]
  },
  {
   "cell_type": "markdown",
   "metadata": {},
   "source": [
    "## Créer une fonction qui récupère les joueurs ayant participé à un certain match"
   ]
  },
  {
   "cell_type": "code",
   "execution_count": 18,
   "metadata": {
    "pycharm": {
     "name": "#%%\n"
    }
   },
   "outputs": [
    {
     "data": {
      "text/plain": "       EventType      X     Y  MatchID          FullName\n106613     made3  71.44  42.5     1234         Ryan Funk\n106614     made2  83.66  26.0     1234      Brian Parker\n106615     miss2  82.72  25.0     1234  Aleksandar Dozic\n106616     made3  28.20  33.5     1234     Stevie Jordan\n106617     made2  88.36  25.0     1234         Ryan Funk",
      "text/html": "<div>\n<style scoped>\n    .dataframe tbody tr th:only-of-type {\n        vertical-align: middle;\n    }\n\n    .dataframe tbody tr th {\n        vertical-align: top;\n    }\n\n    .dataframe thead th {\n        text-align: right;\n    }\n</style>\n<table border=\"1\" class=\"dataframe\">\n  <thead>\n    <tr style=\"text-align: right;\">\n      <th></th>\n      <th>EventType</th>\n      <th>X</th>\n      <th>Y</th>\n      <th>MatchID</th>\n      <th>FullName</th>\n    </tr>\n  </thead>\n  <tbody>\n    <tr>\n      <th>106613</th>\n      <td>made3</td>\n      <td>71.44</td>\n      <td>42.5</td>\n      <td>1234</td>\n      <td>Ryan Funk</td>\n    </tr>\n    <tr>\n      <th>106614</th>\n      <td>made2</td>\n      <td>83.66</td>\n      <td>26.0</td>\n      <td>1234</td>\n      <td>Brian Parker</td>\n    </tr>\n    <tr>\n      <th>106615</th>\n      <td>miss2</td>\n      <td>82.72</td>\n      <td>25.0</td>\n      <td>1234</td>\n      <td>Aleksandar Dozic</td>\n    </tr>\n    <tr>\n      <th>106616</th>\n      <td>made3</td>\n      <td>28.20</td>\n      <td>33.5</td>\n      <td>1234</td>\n      <td>Stevie Jordan</td>\n    </tr>\n    <tr>\n      <th>106617</th>\n      <td>made2</td>\n      <td>88.36</td>\n      <td>25.0</td>\n      <td>1234</td>\n      <td>Ryan Funk</td>\n    </tr>\n  </tbody>\n</table>\n</div>"
     },
     "execution_count": 18,
     "metadata": {},
     "output_type": "execute_result"
    }
   ],
   "source": [
    "df2 = df_2019_id_player.query('MatchID==\"1234\"')\n",
    "df_col_match = df2[['EventType', 'X', 'Y', 'MatchID', 'FullName']]\n",
    "df_col_match.head()"
   ]
  },
  {
   "cell_type": "code",
   "execution_count": 19,
   "metadata": {
    "pycharm": {
     "name": "#%%\n"
    }
   },
   "outputs": [
    {
     "name": "stdout",
     "output_type": "stream",
     "text": [
      "********** Unique FullName : **********\n",
      "{'Ryan Funk', 'David Knudsen', 'Jordan Allen', 'Aleksandar Dozic', 'Dimencio Vaughn', 'Austin Williams', 'Stevie Jordan', 'Brian Parker', 'Devine Eke', 'Darius  Hines', 'Tobias Sjoberg', 'Isaiah Lamb', 'Tyere Marshall', 'Anthony Durham', 'Matthew Herasme', 'Frederick Scott', 'Kimar Williams'}\n"
     ]
    }
   ],
   "source": [
    "list_of_players = df_2019_id_player.query('MatchID==\"1234\"').get('FullName')\n",
    "\n",
    "unique_players = set(list_of_players)\n",
    "print(\"********** Unique FullName : **********\")\n",
    "print(unique_players)"
   ]
  },
  {
   "cell_type": "code",
   "execution_count": 20,
   "metadata": {
    "pycharm": {
     "name": "#%%\n"
    }
   },
   "outputs": [
    {
     "data": {
      "text/plain": "{'Aleksandar Dozic',\n 'Anthony Durham',\n 'Austin Williams',\n 'Brian Parker',\n 'Darius  Hines',\n 'David Knudsen',\n 'Devine Eke',\n 'Dimencio Vaughn',\n 'Frederick Scott',\n 'Isaiah Lamb',\n 'Jordan Allen',\n 'Kimar Williams',\n 'Matthew Herasme',\n 'Ryan Funk',\n 'Stevie Jordan',\n 'Tobias Sjoberg',\n 'Tyere Marshall'}"
     },
     "execution_count": 20,
     "metadata": {},
     "output_type": "execute_result"
    }
   ],
   "source": [
    "def get_players_of_a_game(matchID: int): #-> pd.DataFrame:\n",
    "    list_of_players = df_2019_id_player.query('MatchID==\"matchID\"').get('FullName')\n",
    "    return(unique_players)\n",
    "\n",
    "get_players_of_a_game(1086)"
   ]
  },
  {
   "cell_type": "markdown",
   "metadata": {},
   "source": [
    "## Créer une fonction qui récupère le nom de tous les joueurs de la saison"
   ]
  },
  {
   "cell_type": "code",
   "execution_count": 21,
   "metadata": {
    "pycharm": {
     "name": "#%%\n"
    }
   },
   "outputs": [],
   "source": [
    "all_players = df_2019_id_player.get('FullName')\n",
    "unique_players_season = set(all_players)"
   ]
  },
  {
   "cell_type": "code",
   "execution_count": 22,
   "metadata": {
    "pycharm": {
     "name": "#%%\n"
    }
   },
   "outputs": [
    {
     "name": "stdout",
     "output_type": "stream",
     "text": [
      "********** Unique FullName : **********\n"
     ]
    },
    {
     "name": "stderr",
     "output_type": "stream",
     "text": [
      "/Users/nicolasrousseau/pycharm_projects/ncaam-2020/venv/lib/python3.7/site-packages/numpy/lib/arraysetops.py:569: FutureWarning: elementwise comparison failed; returning scalar instead, but in the future will perform elementwise comparison\n",
      "  mask |= (ar1 == a)\n"
     ]
    },
    {
     "data": {
      "text/plain": "{nan,\n 'Mitch Peterson',\n 'Tyler Plummer',\n 'Corey Kispert',\n 'Ari Boya',\n 'Alpha Diallo',\n 'Matija Radovic',\n 'Isaac  Bassey\\t',\n 'Victor Bafutto',\n 'Zach Cameron',\n 'Aanen Moody',\n 'Riley Grigsby',\n 'Jordan Forehand',\n 'Johncarlos Reyes',\n 'Shyquan Gibbs',\n 'Jaylen Alston',\n 'Damion Rosser',\n 'Aaron Duhart',\n 'Joe Rosga',\n 'Cam Davis',\n 'Dajour Dickens',\n 'Tim Rowe',\n 'Mustapha Traore',\n 'Derek Brown',\n 'Zach Sellers',\n 'Will Emery',\n 'Sayeed Pridgett',\n 'Derias Johnson',\n 'Eli Pepper',\n 'Jake Silpe',\n 'Bjorn Broman',\n 'Quavius Copeland',\n 'Herbert Jones',\n 'Anthony Masinton-Bonner',\n 'Nate Jones',\n 'Kyle McCloskey',\n 'Jared Savage',\n 'Junior Ballard',\n 'Clyde Trapp',\n 'Clifton Moore',\n 'Hasahn French',\n 'Jeff Pollard',\n 'Fritz Lucien',\n 'Hunter Maldonado',\n 'Isaiah Gurley',\n 'Michael Dunne',\n 'Myles Lewis',\n 'Ibrahim Sylla',\n 'Cordell Veira',\n 'Eddie Davis III',\n 'Fletcher Magee',\n 'Shaq Buchanan',\n 'Robert Allen',\n 'Cameron Posey',\n 'Ebuka Izundu',\n 'Jonathan Laurent',\n 'Cameron Tyson',\n 'Chuck Hannah',\n 'Caleb Hollander',\n 'Ted McCree',\n 'Parker Van Dyke',\n 'Patrick Emilien',\n 'Zach Gunn',\n 'Marquell Fraser',\n \"Izayah Mauriohooho-Le'afa\",\n 'Ivy Smith.Jr',\n 'Buay Koka',\n 'Israel Barnes',\n 'Elijah McNamara',\n 'Demetrice Clopton',\n 'Jahmal McMurray',\n 'Zach Farquhar',\n 'Jerry Higgins III',\n 'Chad Bowie',\n 'Noe Anabir',\n 'Tauriawn Knight',\n 'Stefan Lakic',\n 'Aaron Henry',\n 'Deion Lavender',\n 'Ashtin Chastain',\n 'Zach Scott',\n 'Erten Gazi',\n 'Montez Mathis',\n 'Ilija Stojiljkovic',\n 'Malik Ellison',\n 'Wyatt Lowell',\n 'Amir Coffey',\n 'Jake Toolson',\n 'Jaalam Hill',\n 'Edon Maxhuni',\n 'Bassel Saliba Jr.',\n 'Kameron Edwards',\n 'Ryan Kriener',\n 'Colin  Castleton',\n 'Eli Pemberton',\n 'Jordan Lyons',\n 'Fatts Russell',\n 'Osi Nwachukwu',\n 'Charles Minlend',\n 'Bryce Moragne',\n 'Makai Ashton-Langford',\n 'Tyler Burgess',\n 'Dererk Pardon',\n 'Odri Dedolli',\n 'Jericole Hellems',\n 'Charles Williams',\n 'Tavin Lovan',\n 'Gaber Ozegovic',\n 'Elijah Davis',\n 'Franklin Porter',\n 'Savion Flagg',\n 'Tajion Jones',\n 'Kris Bankston',\n 'Chad Andrews-Fulton',\n 'Marcus Littles',\n 'Tyler Creammer',\n 'Jon Williams',\n 'Danny Hummer',\n 'Malachi Smith',\n 'Goanar Mar',\n 'Marlon Stewart',\n 'Reid Travis',\n 'Pierson McAtee',\n 'Royce Hamm Jr.',\n 'Jared Pearre',\n 'Emmitt Matthews Jr.',\n 'Tomas Verbinskis',\n 'Jayden Hodgson',\n 'Davauhnte Turner',\n 'Felix Lemetti',\n 'Elijah Hardy',\n 'Roydell Brown',\n 'Michael Bibby',\n 'Mike McGuirl',\n 'Oscar Okeke',\n 'Bryan Penn-Johnson',\n 'Mayan Kiir',\n 'Christian Gray',\n 'Marcus Bingham Jr.',\n 'Sayveon McEwen',\n 'Anfernee McLemore',\n 'Josh McSwiggan',\n 'Ishmael Lane',\n 'Marques Wilson',\n 'Conner George',\n \"Stephen O'Suji\",\n 'Walter Ellis',\n 'Davon Clare',\n 'Cameron Johnson',\n 'Luke Maye',\n 'Hasan Abdullah',\n 'Nehemiah Mack',\n 'Andrew Fonts',\n 'Daniel Sackey',\n 'Federico Poser',\n 'Otis Dortch',\n 'Tragen Fahl',\n 'Connor Rufo',\n 'Lance Tejada',\n 'Souleymane Diakite',\n 'Junior Farquhar',\n \"De'Torrion Ware\",\n 'Tai Strickland',\n 'John Koz',\n 'Derek Ballard',\n 'Jared Harper',\n 'Moses Greenwood',\n 'Edric Dennis',\n 'Cole Bergan',\n 'Derek St. Hilaire',\n 'Darius George',\n 'Jordan Perkins',\n 'Luguentz  Dort',\n 'Damion Squire',\n 'Dane Kuiper',\n 'Jhery Matos',\n 'Quintin Dove',\n 'Randy Brumant',\n 'Dwayne Cohill',\n 'Thomas Huerter',\n 'Skyler Hogan',\n 'Keyshawn Bryant',\n 'Jael Scott',\n 'Isaiah Jackson',\n 'Ahmed Ismail',\n 'Jeremiah Martin',\n 'Kameron Langley',\n 'Shunn Buchanan',\n 'David Kralj',\n 'Lamarr Kimble',\n 'Jordan Gaitley',\n 'Jordan Brown',\n 'Garrett Covington',\n 'Takiula Fahrensohn',\n 'Tareq Coburn',\n 'Cane Broome',\n 'Marial Shayok',\n 'Austin Rogers',\n 'Mfiondu Kabengele',\n 'Demarius Jacobs',\n 'Keaton Van Soelen',\n 'Jonah Radebaugh',\n 'Jake Babic',\n 'Myles Hutchinson',\n 'John Meeks',\n 'Brady Rudrud',\n 'David Knudsen',\n 'Deante Strickland',\n 'Ryan Preston',\n 'Fabian White Jr',\n 'Giovanni De Nicolao',\n 'Kyle Lofton',\n 'Fausto Pichardo',\n 'Deion Holmes',\n 'Dalonte Brown',\n 'Bubba Parham',\n 'Jeriah Horne',\n 'Cameron Gottfried',\n 'Sam Miller',\n 'Hassani Gravett',\n 'Khy Kabellis',\n 'Luke Wilson',\n 'Rob Phinisee',\n 'Payten Ricks',\n 'Tyree Eady',\n 'David Pekarek',\n 'Trevor Stumpe',\n 'Trey Johnson',\n 'Jaime Echenique',\n 'Terrell Allen',\n 'Ryan Davis',\n 'Tre Clark',\n 'John Fulkerson',\n 'Matija Milin',\n 'Dwayne Banks',\n 'JoJo Zamora',\n 'Brock Stull',\n 'Kevion Nolan',\n 'Christion Thompson',\n 'Deshon Taylor',\n 'Stanley Jr. Davis',\n 'Tyreke Key',\n 'Davonte Fitzgerald',\n 'Tobi Ewuosho',\n 'Joe Toye',\n 'George Papas',\n 'Desmond Cambridge',\n 'Marlon Sierra',\n 'Isaiah Walton',\n 'William Boyer-Richard',\n 'Tucker Richardson',\n 'Sean Price',\n 'Cam Copeland',\n 'Kai Toews',\n 'Michael Underwood',\n 'Nathan Knight',\n 'Robert Braswell',\n 'Stevan Krtinic',\n 'Zach Griffith',\n 'Rob Whitfield',\n 'Jonas Harper',\n 'Kyle Brown',\n 'Elijah Childs',\n 'J.D. Paige',\n 'JT Gibson',\n 'Chris Howell',\n 'Yor Anei',\n 'Jaylen Shead',\n 'Brandon Anderson',\n 'Pernell Adgei',\n 'Anthony Mack',\n 'Steve Harris',\n 'Tre Scott',\n 'Roberto Gallinat',\n 'K.J. Lawson',\n 'Tyler Reynolds',\n 'Jakeenan Gant',\n 'Michael Miller',\n 'Tereke Eckwood',\n 'Travell Washington',\n 'Isaiah Hart',\n 'Dwight Wilson',\n 'Drew Joiner',\n 'Jacquess Hobbs',\n 'George Maslennikov',\n 'Donel Cathcart',\n 'Jacob Hyde',\n 'Donovan Sims',\n 'Cheddi Mosely',\n 'Dinero Mercurius',\n 'Simon STRINGER',\n 'Keon Clergeot',\n 'Talen Horton-Tucker',\n 'Rich Kelly',\n 'Tommy Luce',\n 'Lapri McCray-Pace',\n 'Jeffery McClendon',\n 'Jack Hoiberg',\n 'Brandon Austin',\n 'Trey Murphy III',\n 'Jaylen Minnett',\n 'Russell Stong',\n 'T.J. Atwood',\n 'Deontaye Buskey',\n 'Azariah Seay',\n 'Kaelen Malone',\n 'Adam Pickett',\n 'Amadi Ikpeze',\n 'Zac Saddler',\n 'Adrio Bailey',\n 'Victor Bailey Jr.',\n 'Trevor John',\n 'Eric Hamilton',\n 'Jayveous McKinnis',\n 'Myreon Jones',\n 'Ahmaad Rorie',\n 'Moses Wood',\n 'Tyler Cook',\n 'Jalen Gibbs',\n 'Kyle Castlin',\n 'Shea Feehan',\n 'Rob Shaw',\n 'Sean Mobley',\n 'Donnie Lewis',\n 'Miye Oni',\n 'Nikola Colovic',\n 'Antwuan Butler',\n 'Kameron Gibson',\n 'Dominik Fragala',\n 'Dylan Smith',\n 'Jacque Brown',\n 'Cory Hightower',\n 'Justin Pierce',\n 'Jordan Tolbert',\n 'Shea Rush',\n 'Malik Moore',\n 'Blake Brinkmeyer',\n 'Kevin Larkin',\n 'Eyassu Worku',\n 'Austin Trice',\n 'Ameer Bennett',\n \"Shawn O'Connell\",\n 'Fred SLATER',\n 'Jesse Hunt',\n 'Olivier Sarr',\n 'Rob Montgomery',\n 'Daejon Davis',\n 'Montraz Oliver',\n 'Cedric Russell',\n 'Chris Sullivan',\n 'Bobby Parker',\n 'Cameron Hunter',\n 'Nathan Robinson',\n 'Jarrett Culver',\n 'Mike Buckmire',\n 'Elijah Barnes',\n 'Joseph  Chartouny',\n 'Bryan Knapp',\n 'Souleymane Koureissi',\n 'Anselm Uzuegbunem',\n 'Dominik Olejniczak',\n 'Nathan Mensah',\n 'Will Richardson',\n 'Ivan Bender',\n 'Deivydas Kuzavas',\n 'Ty Gadsden',\n 'Luka Vulikic',\n 'Samir Stewart',\n 'Kameron Hankerson',\n 'Patrick Tape',\n 'Scott Plaisance',\n 'Jules Bernard',\n 'Jessie Govan',\n 'Dameane Douglas',\n 'Otis Livingston II',\n 'Josh Martin',\n 'Darius Beane',\n 'Juwan Williams',\n 'Spencer Rivers',\n 'Jahvon Blair',\n 'Jalen Avery',\n 'Nic Lynch',\n 'Nolan Narain',\n 'Kevarrius Hayes',\n 'Schadrac Casimir',\n 'Matt Weir',\n 'Cartier Diarra',\n 'Daxton Carr',\n 'Levi Stockard III',\n 'Mitchell Smith',\n 'Nate Johnson',\n 'Marcellus Earlington',\n 'Jordan Allen',\n 'Fatodd Lewis',\n 'Alex Barcello',\n 'Matt Weyand',\n 'Rodney Herenton',\n 'Ian Kinard',\n 'Christian Anigwe',\n 'Jordan Foster',\n 'Jarrell Brantley',\n 'Robbie Berwick',\n 'Adam Sledd',\n 'Josh Sharma',\n 'Devon Andrews',\n 'Kellan Grady',\n 'Isaiah Stokes',\n 'Ace Stallings',\n 'Tadas Kararinas',\n 'Kolby Lee',\n 'Elston Jones',\n 'Kendarius Smith',\n 'Dante Treacy',\n 'Majur Majak',\n 'Jay Huff',\n 'Josh Rosario',\n 'Kody Stattmann',\n 'DJ Draper',\n 'Nolan Gerrity',\n 'Adam Flagler',\n 'Jaylen McCoy',\n 'Brandon Powell',\n 'Darius Garland',\n 'Ronshad Shabazz',\n 'Noah Horchler',\n 'Canaan Bartley',\n 'Olamide Pedersen',\n 'Blake Buchanan',\n 'Devine Eke',\n 'Abu Kigab',\n 'TiAndre Jackson-Young',\n 'Justin Forrest',\n 'Taeshon  Cherry',\n 'Bodie  Hume',\n 'Christian Mekowulu',\n 'Bryson Robinson',\n 'JoJo  Toppin',\n 'Manny Dixon',\n 'Triston Simpson',\n 'Jaquan Dotson',\n 'Xavier Smith',\n 'Patrick Harding',\n 'Benjamin  Litteken',\n 'Jordan Andrews',\n 'Bo Blight',\n 'Justin Brown',\n \"De'Quon Lake\",\n 'Michael James Jr.',\n 'Jahmar Young Jr.',\n 'Jalanni White',\n 'DeVon Baker',\n 'Nathan Ekwu',\n 'Taishaun Johnson',\n 'Ivan Gandia-Rosa',\n 'Milos Supica',\n 'Matthew Mondesir',\n 'Sloan Seymour',\n 'Johnny Wang',\n \"O'Showen Williams\",\n 'Greg Williams Jr.',\n 'Davis Long',\n 'Marcus Roberts',\n 'Kevin Senghore-Peterson',\n 'Derrick Alston',\n 'Alan Griffin',\n 'Pat Welch',\n 'Corey Henson',\n 'JaQualis Matlock',\n 'Eli Farrakhan',\n 'Horace Spencer',\n 'Shaquillo Fritz',\n 'Gilles Dekoninck',\n 'Ifeanyl Umezurike',\n 'Akiean Frederick',\n 'Jared Ridder',\n 'Anthony Nelson',\n 'Quinn Smith',\n 'Josiah Wallace',\n 'Makhtar Gueye',\n 'Xavier Grant',\n 'Thik Bol',\n 'Isaiah Bujdoso',\n 'Deante Johnson',\n 'Jamarius Burton',\n 'Nick Rutherford',\n 'Jaelin Llewellyn',\n 'Jalen Carey',\n 'Danny Garrick',\n 'Andrija Ristanovic',\n 'Aaron Nettles',\n 'Jordan Reed',\n 'Jalen Hudson',\n 'Jalyn Hinton',\n 'Jordan Miller',\n 'Kassoum Yakwe',\n 'Marquell  Carter',\n 'Brandon McKissic',\n 'Jibreel Faulkner',\n 'Jalen Johnson',\n 'Sam Norton',\n 'John Matt Merritt',\n 'Michael Wexler',\n 'Justin Cole',\n 'Brandon Miller',\n 'Justin McCall',\n 'Clayton Henry',\n 'Grant Golden',\n 'Josh Aldrich',\n 'Kamau Stokes',\n 'Josh Anderson',\n 'Noah Dickerson',\n 'Ivan Cucak',\n 'Isaac Letoa',\n 'Christian Agnew',\n 'Albert Almanza',\n 'Jalen Smith',\n 'K.J. Riley',\n 'Anthony Longpre',\n 'Chris Silva',\n 'Isaac Gassman',\n 'Brent Hank',\n 'Justin Bean',\n 'Carlos Dotson',\n 'Alex Reese',\n 'Thomas Dziagwa',\n 'Owen King',\n 'Taavi Jurkatamm',\n 'Jibri Blount',\n 'Danjel Purifoy',\n 'B.J. Taylor',\n 'Levy Renaud',\n 'Brekkott Chapman',\n 'Chris Dubose',\n 'Isaac Hippolyte',\n 'Armani Hill',\n 'Rapolas Ivanauskas',\n 'Ian Boyd',\n 'Ross Ryan',\n 'Thorir Thorbjarnarson',\n 'Deshawn Corprew',\n 'Matt Rose',\n 'Aleksandar Zecevic',\n 'James Bolden',\n 'Trevor  Banks\\t',\n 'Anthony Townes',\n 'Jeromy Rodriguez',\n 'James Hawthorne',\n 'Connor MacDougall',\n 'Malcolm Regisford',\n 'Tyree Griffin',\n 'Chad Lott',\n 'Andre Kelly',\n 'Torico Simmons',\n 'Wali Parks',\n 'Justin Ryder',\n 'Shawn Occeus',\n 'Eric Ayala',\n 'Joe Wieskamp',\n 'Chance McSpadden',\n 'David Wacker',\n 'Brennan Besser',\n 'Xavier Sneed',\n 'Jonathan Norfleet',\n 'Kerry Blackshear',\n 'Max Rothschild',\n 'Paul Djoko',\n 'Ian Krishnan',\n 'Cainan McClelland',\n 'Jonah Mathews',\n 'Damari Milstead',\n 'Christopher Miller',\n 'Rob Marberry',\n 'Carter Collins',\n 'Ochai Agbaji',\n 'Anthony Starzynski',\n 'Blake Harris',\n 'Juwan Durham',\n 'Elijah Weaver',\n 'Femi Olujobi',\n 'Matt McCarthy',\n 'Onno Steger',\n 'Jarkel Joiner',\n 'Kavonte Ivery',\n 'Deandre Thomas',\n 'Danny Dixon',\n 'Torry Johnson',\n 'Tavian Percy',\n 'Greg Kuakumensah',\n 'Samajae Haynes-Jones',\n 'Rashard Odomes',\n 'Niksa Nikolic',\n 'Isaiah Moss',\n 'Nana Akenten',\n 'Jimmy Sotos',\n 'Ceasar DeJesus',\n 'Tulio Da Silva',\n 'Dean Wade',\n 'Emmanuel Egbuta',\n 'Nic Thomas',\n 'Jordan Gorman',\n 'Gary Chivichyan',\n 'Nick Jones',\n 'Ricky Madison',\n 'Zach Johnson',\n 'Cassius Winston',\n 'Breyon Jackson',\n 'Avery Wilson',\n 'Cameron Krutwig',\n 'Kyrin Galloway',\n 'Jahbril Price-Noel',\n 'Derrik Smits',\n 'K.J. Jackson',\n 'RJ Smith',\n 'Jermaine Marrow',\n 'Horace Wyatt Jr.',\n 'Randy Miller Jr.',\n 'Courtney Ramey',\n 'Jay Harvey',\n 'Alex Caldwell',\n \"Da'Monte Williams\",\n 'Luka Garza',\n 'Ryan Andino',\n 'CJ Baird',\n 'Evan Hall',\n 'Tremont Waters',\n 'Gavin Bizeau',\n 'Trevor Stanback',\n 'Jure Span',\n 'Glenn Morison',\n 'Lindy Waters III',\n 'Gerard Martin',\n 'Terrance McBride',\n 'Ahmad Clark',\n 'Matt Bradley',\n 'Rex Pflueger',\n 'Matt Rafferty',\n 'Jabari Rice',\n 'Keshon Montague',\n 'Wyatt Walker',\n 'Eric Paschall',\n 'Malek Green',\n 'Garrison Goode',\n 'Isaiah Livers',\n 'Shandon Goldman',\n 'Richard Njoku',\n 'Walker Miller',\n 'Emmanuel Akot',\n 'J.J. Matthews',\n 'Kimbal Mackenzie',\n 'Michael Steadman',\n 'Aamahne Santos',\n 'Geno West',\n 'Justin James',\n 'Kevin Johnson',\n 'Rashun Williams',\n 'Jonathan Kasibabu',\n 'Josh Davis',\n 'William Jackson II',\n 'Jared Rhoden',\n 'Musa Jallow',\n 'Ty Cockfield',\n 'Emmitt  Williams',\n 'Sage Tolbert',\n 'Brian Beard Jr.',\n 'Kendale Hampton',\n 'Chris Porter-Bunton',\n 'Gregory Jones-Rollins',\n 'Carter Hendricksen',\n 'David Francis',\n 'Terence Davis',\n 'Jehyve Floyd',\n 'Jock Hughes',\n 'Sasha Stefanovic',\n 'Jack Clark',\n 'Christian James',\n 'Johnny McCants',\n 'Ricardo Lynch',\n 'Rosel Hurley',\n 'Evan Fisher',\n 'Avery Johnson Jr.',\n 'Lamontray Harris',\n 'Matt Pegram',\n 'Dzmitry Ryuny',\n 'Jarred Godfrey',\n 'Cole Swider',\n 'Jaylon Hall',\n 'Marquis Eaton',\n 'Joel Davis',\n 'Everette Hammond',\n 'Marvin Coleman',\n 'Kaleb Hunter',\n 'Mark Carbone',\n 'Chris Quayle',\n 'Flo Thamba',\n 'Tyrik Armstrong',\n 'Filip Rebraca',\n 'Dontel Highsmith',\n 'Collin Goss',\n 'David McCormack',\n 'Nikola Djogo',\n 'Kierell Green',\n 'Donta Hall',\n 'Hayden Brown',\n 'Lamar Norman Jr.',\n 'Ountae Campbell',\n 'Josh Inkumsah',\n 'Sam Ibiezugbe',\n 'Drew Peterson',\n 'Oscar Kao',\n 'Samson Froling',\n 'Jarius Cook',\n 'Adrian Nelson',\n 'Rudy Stradnieks',\n 'Kalu Ezikpe',\n 'Collins  Joseph ',\n 'Trent Buttrick',\n 'Ryan Luther',\n 'Kimani Lawrence',\n 'Caleb Martin',\n 'Tyree White',\n 'Walter Jones Jr.',\n 'Arinze Chidom',\n 'Cody Benzel',\n 'Joey Hauser',\n 'Quentin Millora-Brown',\n 'Amari Kelly',\n 'Isaiah Banks',\n 'Shamorie Ponds',\n 'Jalen Coleman-Lands',\n 'James Thompson IV',\n 'Simeon Lepichev',\n 'Ibrahima Diallo',\n 'Tripp Davis',\n 'Josh Ajayi',\n 'Lazaro Rojas',\n 'Dexter Dennis',\n \"D'Mitrik Trice\",\n \"D'Shawn Schwartz\",\n 'Sam Neumann',\n 'Tanner Krebs',\n 'Kody Shubert',\n 'Kabir Mohammed',\n 'Aljaz Kunc',\n 'EJ Montgomery',\n 'Tim Harrison',\n 'Mike Cunningham',\n 'Tim Perry Jr.',\n 'Christian Carlyle',\n 'Tony Lewis',\n 'Corey Davis Jr.',\n 'Kevin Schutte',\n 'Chris Harris Jr.',\n 'Lewis Wang',\n 'John Sally',\n 'Dennis Tunstall',\n 'Cameron Oluyitan',\n 'Ernest Aflakpui',\n 'Tre Jones',\n 'Will Rayman',\n 'Nate Reuvers',\n 'Alex Floresca',\n 'Leon Redd',\n 'Kuba Niziol',\n 'Mohamed Thiam',\n 'Christian Bishop',\n 'Kris Clyburn',\n 'David Collins',\n 'Sebastian Much',\n 'Dylan Windler',\n 'Ron Harper Jr.',\n 'Jamie Lewis',\n 'Justin Bassey',\n 'Quan Jackson',\n 'Myles Parker',\n 'Jeremy Hemsley',\n 'A.J. Reeves',\n 'Antanee Pinkard',\n 'Dikymbe Martin',\n 'Elijah Harkless',\n 'Marcus Graves',\n 'Shawntrez Davis',\n 'Jarrod West',\n 'Abdul Ado',\n 'Harrison Kay',\n 'Jake Ohmer',\n 'Kalif Young',\n 'Andre Adams',\n 'Shawndale Jones',\n 'Julius Johnson',\n 'Tyshaun Crawford',\n 'Johnny Trueblood',\n \"Jare'l Spellman\",\n 'Tommy Burton',\n 'Anthony Gaines',\n 'Isaiah Green',\n 'Ayoub Nouhi',\n 'Tyrn Flowers',\n 'James Gordon IV',\n 'Adam Grant',\n 'Traci Carter',\n 'Calvin Poulina',\n 'Jeff Dowtin',\n 'Harrison Butler',\n 'Nick Rogers',\n 'Robert Guyton',\n 'Marcus Santos-Silva',\n 'Max Heidegger',\n 'Celio Araujo',\n 'Taurus Samuels',\n 'Tyrone Nesby IV',\n 'Lamar Stevens',\n 'Ahsan Asadullah',\n 'Jontrell Walker',\n 'Quinton Adlesh',\n 'Jalen Gabbidon',\n 'Marques Townes',\n 'Kason Harrell',\n \"Viont'e Daniels\",\n 'Joe Bryant',\n 'VJ King',\n 'Cordell Pemsl',\n 'Jeremy Joyner',\n 'Zion Williamson',\n 'Joshua Howard',\n 'KJ Fitzgerald',\n 'Maka Ellis',\n 'Harrison Prieto',\n 'Travis Weatherington',\n 'Damarion Geter',\n 'Jordan Hughes',\n 'Cameron Parker',\n 'Shamarkus Kennedy',\n 'Bernie Andre',\n 'Tyler Cheese',\n 'Reece Brooks',\n 'Tre King',\n 'Jordan Grant',\n 'Geo Baker',\n 'Tyreese Davis',\n 'Matt Veretto',\n 'Brandon Alston',\n 'Daivien Williamson',\n 'Obi Toppin',\n 'Devin Gage',\n 'Seth Millner',\n 'Shaq Athie',\n 'AJ John',\n 'Tyler Peterson',\n 'Marlon Hargis',\n 'Jarvis Omersa',\n 'Logan Routt',\n 'Malik LeGania',\n 'Eric Steyer',\n 'Darius Henderson',\n 'Kurk Lee',\n 'Brent Holcombe',\n 'Sterling Manley',\n 'Hunter Vick',\n 'Dylan Alderson',\n 'Tray Hollowell',\n 'Marcus Shaver Jr.',\n 'Jamar Madge Jr.',\n 'Lucas Williamson',\n 'Kavell Bigby-Williams',\n 'Jordan Fox',\n 'Dee Montgomery',\n 'Branden Johnson',\n 'Trayvon Reed',\n 'Damien Daniels',\n 'Spencer Rodgers',\n 'Karim Ezzeddine',\n 'Cam Allen',\n 'Markis McDuffie',\n 'Armel Tete',\n 'Chris Clark',\n 'Cade Wagner',\n 'Devonte Bandoo',\n 'Tariq Johnson',\n 'Josh Gantz',\n 'Brady Manek',\n 'Malik Massey',\n 'Jason Crandall',\n 'Gerrale Gates',\n 'Tomas Murphy',\n 'Tim Graham',\n 'Antwan Maxwell',\n 'Mikel Beyers',\n 'Jared Butler',\n 'Vic Law',\n 'Bam Bowman',\n 'David Wingett',\n 'Mike Smith',\n 'Desi Sills',\n 'DeVante  Jones',\n 'Alex Long',\n 'Bailey Patella',\n 'Brandon Randolph',\n 'Herb McGee',\n 'Leland Green',\n 'Xavian Stapleton',\n 'San Antonio Brinson',\n 'A.J. Hicks',\n 'E.J. Crawford',\n 'David Skara',\n 'Jordan Berry',\n 'Jeremiah Bell',\n 'Kobe King',\n 'Ben Kinker',\n 'James Batemon',\n 'Parrish Hewitt',\n 'Ron Freeman',\n 'Andrew Gordon',\n 'Ben Carter',\n 'Taylor Funk',\n 'RJ Williams',\n 'Austin Washburn',\n 'Jason Dunne',\n 'Obediah Church',\n 'Michael Ou',\n 'Jamie Ahale',\n 'Marcus Mitchell',\n 'Denny Slay II',\n 'Mamadi Diakite',\n 'Harold Givens',\n 'Michael Finke',\n 'Rey Idowu',\n 'Kelby Kramer',\n 'Myo Baxter-Bell',\n 'Eugene Witherspoon',\n 'D.J. Jackson',\n 'K.J. Scott',\n 'Anthony Durham',\n 'David Pierce',\n 'Ajani Kennedy',\n 'Michael Tertsea',\n 'Isaiah Washington',\n 'Bruno Fernando',\n 'Seth Adelsperger',\n 'Sam Hauser',\n 'Malik Dunbar',\n 'Xavier Bryant',\n 'Josh Ferguson',\n 'C.J. Bobbitt',\n 'Kaelon Harris',\n 'Eddie Stansberry',\n 'Gerald Blackshear',\n 'Milan Acquaah',\n \"Mike'L Simms\",\n 'Vincent Eze',\n 'Sagaba Konate',\n 'J.T. Escobar',\n 'Matt Lewis',\n 'Eli Chuha',\n 'Anthony Mathis',\n 'Antoine Vernon',\n 'Alex Peacock',\n 'Dwayne Sutton',\n 'Freddie Gillespie',\n 'Miles Norris',\n 'John Konchar',\n 'Doug Taylor',\n 'Jase Townsend',\n 'John Carroll',\n 'David Jenkins',\n 'Tre Campbell',\n 'Martins Igbanu',\n 'Aleksandar Dozic',\n 'Jared Sherfield',\n 'Ben Fakira',\n 'Patrick Mwamba',\n 'Michael Weathers',\n 'Tyler Polley',\n 'Mileek McMillan',\n 'Jordan Chatman',\n 'Eli Brooks',\n 'Brandon Childress',\n 'Lyrik Shreiner',\n 'Dalvin White',\n 'Corry Long',\n 'Jose Placer',\n 'Bryce Fowler',\n 'Nakye Sanders',\n 'Savion Dawkins',\n 'Miller Kopp',\n 'Jordan Caruso',\n 'Chidi Udengwu',\n 'Samuel Chaput',\n 'Darian Bryant',\n 'Justin Coleman',\n 'Pierfrancesco Oliva',\n 'Zylan Cheatham',\n \"Tra'Von Fagan\",\n 'Josh Webster',\n 'Payton Moore',\n 'Jeremiah Bailey',\n 'Aaron Carver',\n 'John Walker III',\n 'Grant Williams',\n 'Gabe Osabuohien',\n 'Bol Bol',\n ...}"
     },
     "execution_count": 22,
     "metadata": {},
     "output_type": "execute_result"
    }
   ],
   "source": [
    "def get_players_of_a_season(season: int):\n",
    "    all_players = MEvents.query('Season==\"season\"').get('FullName')\n",
    "    unique_players_season\n",
    "    return unique_players_season\n",
    "\n",
    "#Soucis avec des NaN --> à voir !\n",
    "print(\"********** Unique FullName : **********\")\n",
    "get_players_of_a_season(2019)"
   ]
  },
  {
   "cell_type": "markdown",
   "metadata": {},
   "source": [
    "## Créer une fonction qui plot les tirs de chaque joueur"
   ]
  },
  {
   "cell_type": "code",
   "execution_count": 23,
   "metadata": {
    "pycharm": {
     "name": "#%%\n"
    }
   },
   "outputs": [],
   "source": [
    "def plot_shot_player(name: str): #-> None\n",
    "    ms = 10 # Marker Size\n",
    "    FullName = 'name'\n",
    "    fig, ax = plt.subplots(figsize=(15, 8))\n",
    "    ax = plot_court(ax)\n",
    "\n",
    "\n",
    "    df_2019_id_player.query('FullName == @name and EventType == \"made2\"') \\\n",
    "        .plot(x='X', y='Y', style='o', title='Every shots of the season', alpha=0.5,figsize=(15, 8),\n",
    "              label='Made 2', ms=ms,ax=ax)\n",
    "    plt.legend()\n",
    "\n",
    "    df_2019_id_player.query('FullName == @name and EventType == \"miss2\"') \\\n",
    "        .plot(x='X', y='Y', style='X', alpha=0.5, ax=ax, label='Missed 2', ms=ms)\n",
    "    plt.legend()\n",
    "\n",
    "    df_2019_id_player.query('FullName == @name and EventType == \"made3\"') \\\n",
    "        .plot(x='X', y='Y', style='o', c='green', alpha=0.5, figsize=(15, 8), label='Made 3', ax=ax, ms=ms)\n",
    "    plt.legend()\n",
    "\n",
    "    df_2019_id_player.query('FullName == @name and EventType == \"miss3\"') \\\n",
    "        .plot(x='X', y='Y', style='X', c='brown', alpha=0.5, ax=ax, label='Missed 3', ms=ms)\n",
    "\n",
    "    ax.set_xlabel('')\n",
    "    plt.legend()\n",
    "    plt.show()"
   ]
  },
  {
   "cell_type": "code",
   "execution_count": 24,
   "metadata": {
    "pycharm": {
     "name": "#%%\n"
    }
   },
   "outputs": [
    {
     "data": {
      "text/plain": "<Figure size 1080x576 with 1 Axes>",
      "image/png": "[encoded data removed]"
     },
     "metadata": {},
     "output_type": "display_data"
    }
   ],
   "source": [
    "plot_shot_player('Godwin Boahen')"
   ]
  },
  {
   "cell_type": "code",
   "execution_count": 25,
   "metadata": {
    "pycharm": {
     "name": "#%%\n"
    }
   },
   "outputs": [],
   "source": [
    "df_2019_id_player.to_csv('/Users/nicolasrousseau/pycharm_projects/ncaam-2020/ncaam/src/df_2019.csv', index=False)"
   ]
  },
  {
   "cell_type": "code",
   "execution_count": 25,
   "metadata": {
    "pycharm": {
     "name": "#%%\n"
    }
   },
   "outputs": [],
   "source": []
  }
 ],
 "metadata": {
  "kernelspec": {
   "display_name": "Python 3",
   "language": "python",
   "name": "python3"
  },
  "language_info": {
   "codemirror_mode": {
    "name": "ipython",
    "version": 3
   },
   "file_extension": ".py",
   "mimetype": "text/x-python",
   "name": "python",
   "nbconvert_exporter": "python",
   "pygments_lexer": "ipython3",
   "version": "3.7.7"
  }
 },
 "nbformat": 4,
 "nbformat_minor": 4
}
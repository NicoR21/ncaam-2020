{
 "cells": [
  {
   "cell_type": "code",
   "execution_count": 1,
   "metadata": {},
   "outputs": [],
   "source": [
    "import pandas as pd\n",
    "import autoreload\n",
    "from sqlalchemy import create_engine\n",
    "from ncaam.src.dao.loader import Loader\n",
    "\n",
    "%load_ext autoreload\n",
    "%autoreload 2"
   ]
  },
  {
   "cell_type": "code",
   "execution_count": 2,
   "metadata": {},
   "outputs": [],
   "source": [
    "DBNAME = \"ncaam_db\"\n",
    "USER = \"nicolasrousseau\"\n",
    "HOST = \"localhost\"\n",
    "PORT = 5432\n",
    "PASSWORD = \"\"\n",
    "SCHEMA = \"ncaam\""
   ]
  },
  {
   "cell_type": "code",
   "execution_count": 3,
   "metadata": {},
   "outputs": [],
   "source": [
    "loader = Loader()"
   ]
  },
  {
   "cell_type": "code",
   "execution_count": 4,
   "metadata": {},
   "outputs": [],
   "source": [
    "engine = create_engine(f'postgresql://{USER}:{PASSWORD}@{HOST}:{PORT}/{DBNAME}')"
   ]
  },
  {
   "cell_type": "code",
   "execution_count": 5,
   "outputs": [],
   "source": [
    "data = loader.import_data(['MEvents'])"
   ],
   "metadata": {
    "collapsed": false,
    "pycharm": {
     "name": "#%%\n"
    }
   }
  },
  {
   "cell_type": "code",
   "execution_count": null,
   "outputs": [],
   "source": [
    "for title, df in data.items():\n",
    "    df.to_sql(title, engine, schema=SCHEMA, if_exists='append', chunksize=1000)"
   ],
   "metadata": {
    "collapsed": false,
    "pycharm": {
     "name": "#%%\n"
    }
   }
  },
  {
   "cell_type": "code",
   "execution_count": 5,
   "outputs": [],
   "source": [],
   "metadata": {
    "collapsed": false,
    "pycharm": {
     "name": "#%%\n"
    }
   }
  },
  {
   "cell_type": "code",
   "execution_count": null,
   "metadata": {
    "scrolled": true
   },
   "outputs": [],
   "source": []
  },
  {
   "cell_type": "code",
   "execution_count": 16,
   "metadata": {
    "pycharm": {
     "name": "#%%\n"
    }
   },
   "outputs": [
    {
     "ename": "OperationalError",
     "evalue": "(psycopg2.errors.DiskFull) could not extend file \"base/16384/16670\": No space left on device\nHINT:  Check free disk space.\n\n[SQL: INSERT INTO ncaam.\"MEvents\" (index, \"EventID\", \"Season\", \"DayNum\", \"WTeamID\", \"LTeamID\", \"WFinalScore\", \"LFinalScore\", \"WCurrentScore\", \"LCurrentScore\", \"ElapsedSeconds\", \"EventTeamID\", \"EventPlayerID\", \"EventType\", \"EventSubType\", \"X\", \"Y\", \"Area\") VALUES (%(index)s, %(EventID)s, %(Season)s, %(DayNum)s, %(WTeamID)s, %(LTeamID)s, %(WFinalScore)s, %(LFinalScore)s, %(WCurrentScore)s, %(LCurrentScore)s, %(ElapsedSeconds)s, %(EventTeamID)s, %(EventPlayerID)s, %(EventType)s, %(EventSubType)s, %(X)s, %(Y)s, %(Area)s)]\n[parameters: ({'index': 151000, 'EventID': 151001, 'Season': 2015, 'DayNum': 16, 'WTeamID': 1349, 'LTeamID': 1341, 'WFinalScore': 68, 'LFinalScore': 64, 'WCurrentScore': 5, 'LCurrentScore': 4, 'ElapsedSeconds': 184, 'EventTeamID': 1341, 'EventPlayerID': 10281, 'EventType': 'miss2', 'EventSubType': 'jump', 'X': 0, 'Y': 0, 'Area': 0}, {'index': 151001, 'EventID': 151002, 'Season': 2015, 'DayNum': 16, 'WTeamID': 1349, 'LTeamID': 1341, 'WFinalScore': 68, 'LFinalScore': 64, 'WCurrentScore': 5, 'LCurrentScore': 4, 'ElapsedSeconds': 184, 'EventTeamID': 1349, 'EventPlayerID': 10576, 'EventType': 'reb', 'EventSubType': 'def', 'X': 0, 'Y': 0, 'Area': 0}, {'index': 151002, 'EventID': 151003, 'Season': 2015, 'DayNum': 16, 'WTeamID': 1349, 'LTeamID': 1341, 'WFinalScore': 68, 'LFinalScore': 64, 'WCurrentScore': 7, 'LCurrentScore': 4, 'ElapsedSeconds': 193, 'EventTeamID': 1349, 'EventPlayerID': 10576, 'EventType': 'made2', 'EventSubType': 'lay', 'X': 0, 'Y': 0, 'Area': 0}, {'index': 151003, 'EventID': 151004, 'Season': 2015, 'DayNum': 16, 'WTeamID': 1349, 'LTeamID': 1341, 'WFinalScore': 68, 'LFinalScore': 64, 'WCurrentScore': 7, 'LCurrentScore': 4, 'ElapsedSeconds': 193, 'EventTeamID': 1341, 'EventPlayerID': 10261, 'EventType': 'foul', 'EventSubType': 'unk', 'X': 0, 'Y': 0, 'Area': 0}, {'index': 151004, 'EventID': 151005, 'Season': 2015, 'DayNum': 16, 'WTeamID': 1349, 'LTeamID': 1341, 'WFinalScore': 68, 'LFinalScore': 64, 'WCurrentScore': 8, 'LCurrentScore': 4, 'ElapsedSeconds': 193, 'EventTeamID': 1349, 'EventPlayerID': 10576, 'EventType': 'made1', 'EventSubType': 'unk', 'X': 0, 'Y': 0, 'Area': 0}, {'index': 151005, 'EventID': 151006, 'Season': 2015, 'DayNum': 16, 'WTeamID': 1349, 'LTeamID': 1341, 'WFinalScore': 68, 'LFinalScore': 64, 'WCurrentScore': 8, 'LCurrentScore': 4, 'ElapsedSeconds': 193, 'EventTeamID': 1341, 'EventPlayerID': 10233, 'EventType': 'sub', 'EventSubType': 'in', 'X': 0, 'Y': 0, 'Area': 0}, {'index': 151006, 'EventID': 151007, 'Season': 2015, 'DayNum': 16, 'WTeamID': 1349, 'LTeamID': 1341, 'WFinalScore': 68, 'LFinalScore': 64, 'WCurrentScore': 8, 'LCurrentScore': 4, 'ElapsedSeconds': 193, 'EventTeamID': 1341, 'EventPlayerID': 10225, 'EventType': 'sub', 'EventSubType': 'in', 'X': 0, 'Y': 0, 'Area': 0}, {'index': 151007, 'EventID': 151008, 'Season': 2015, 'DayNum': 16, 'WTeamID': 1349, 'LTeamID': 1341, 'WFinalScore': 68, 'LFinalScore': 64, 'WCurrentScore': 8, 'LCurrentScore': 4, 'ElapsedSeconds': 193, 'EventTeamID': 1341, 'EventPlayerID': 10241, 'EventType': 'sub', 'EventSubType': 'out', 'X': 0, 'Y': 0, 'Area': 0}  ... displaying 10 of 1000 total bound parameter sets ...  {'index': 151998, 'EventID': 151999, 'Season': 2015, 'DayNum': 16, 'WTeamID': 1352, 'LTeamID': 1133, 'WFinalScore': 68, 'LFinalScore': 61, 'WCurrentScore': 59, 'LCurrentScore': 56, 'ElapsedSeconds': 2249, 'EventTeamID': 1133, 'EventPlayerID': 1285, 'EventType': 'made1', 'EventSubType': 'unk', 'X': 0, 'Y': 0, 'Area': 0}, {'index': 151999, 'EventID': 152000, 'Season': 2015, 'DayNum': 16, 'WTeamID': 1352, 'LTeamID': 1133, 'WFinalScore': 68, 'LFinalScore': 61, 'WCurrentScore': 59, 'LCurrentScore': 57, 'ElapsedSeconds': 2249, 'EventTeamID': 1133, 'EventPlayerID': 1285, 'EventType': 'made1', 'EventSubType': 'unk', 'X': 0, 'Y': 0, 'Area': 0})]\n(Background on this error at: http://sqlalche.me/e/e3q8)",
     "output_type": "error",
     "traceback": [
      "\u001B[0;31m---------------------------------------------------------------------------\u001B[0m",
      "\u001B[0;31mDiskFull\u001B[0m                                  Traceback (most recent call last)",
      "\u001B[0;32m~/pycharm_projects/ncaam-2020/venv/lib/python3.7/site-packages/sqlalchemy/engine/base.py\u001B[0m in \u001B[0;36m_execute_context\u001B[0;34m(self, dialect, constructor, statement, parameters, *args)\u001B[0m\n\u001B[1;32m   1227\u001B[0m                     self.dialect.do_executemany(\n\u001B[0;32m-> 1228\u001B[0;31m                         \u001B[0mcursor\u001B[0m\u001B[0;34m,\u001B[0m \u001B[0mstatement\u001B[0m\u001B[0;34m,\u001B[0m \u001B[0mparameters\u001B[0m\u001B[0;34m,\u001B[0m \u001B[0mcontext\u001B[0m\u001B[0;34m\u001B[0m\u001B[0;34m\u001B[0m\u001B[0m\n\u001B[0m\u001B[1;32m   1229\u001B[0m                     )\n",
      "\u001B[0;32m~/pycharm_projects/ncaam-2020/venv/lib/python3.7/site-packages/sqlalchemy/dialects/postgresql/psycopg2.py\u001B[0m in \u001B[0;36mdo_executemany\u001B[0;34m(self, cursor, statement, parameters, context)\u001B[0m\n\u001B[1;32m    856\u001B[0m         \u001B[0;32mif\u001B[0m \u001B[0mself\u001B[0m\u001B[0;34m.\u001B[0m\u001B[0mexecutemany_mode\u001B[0m \u001B[0;32mis\u001B[0m \u001B[0mEXECUTEMANY_DEFAULT\u001B[0m\u001B[0;34m:\u001B[0m\u001B[0;34m\u001B[0m\u001B[0;34m\u001B[0m\u001B[0m\n\u001B[0;32m--> 857\u001B[0;31m             \u001B[0mcursor\u001B[0m\u001B[0;34m.\u001B[0m\u001B[0mexecutemany\u001B[0m\u001B[0;34m(\u001B[0m\u001B[0mstatement\u001B[0m\u001B[0;34m,\u001B[0m \u001B[0mparameters\u001B[0m\u001B[0;34m)\u001B[0m\u001B[0;34m\u001B[0m\u001B[0;34m\u001B[0m\u001B[0m\n\u001B[0m\u001B[1;32m    858\u001B[0m             \u001B[0;32mreturn\u001B[0m\u001B[0;34m\u001B[0m\u001B[0;34m\u001B[0m\u001B[0m\n",
      "\u001B[0;31mDiskFull\u001B[0m: could not extend file \"base/16384/16670\": No space left on device\nHINT:  Check free disk space.\n",
      "\nThe above exception was the direct cause of the following exception:\n",
      "\u001B[0;31mOperationalError\u001B[0m                          Traceback (most recent call last)",
      "\u001B[0;32m<ipython-input-16-0404ea8d76b6>\u001B[0m in \u001B[0;36m<module>\u001B[0;34m\u001B[0m\n\u001B[1;32m      1\u001B[0m \u001B[0;32mfor\u001B[0m \u001B[0mtitle\u001B[0m\u001B[0;34m,\u001B[0m \u001B[0mdf\u001B[0m \u001B[0;32min\u001B[0m \u001B[0mdata\u001B[0m\u001B[0;34m.\u001B[0m\u001B[0mitems\u001B[0m\u001B[0;34m(\u001B[0m\u001B[0;34m)\u001B[0m\u001B[0;34m:\u001B[0m\u001B[0;34m\u001B[0m\u001B[0;34m\u001B[0m\u001B[0m\n\u001B[0;32m----> 2\u001B[0;31m     \u001B[0mdf\u001B[0m\u001B[0;34m.\u001B[0m\u001B[0mto_sql\u001B[0m\u001B[0;34m(\u001B[0m\u001B[0mtitle\u001B[0m\u001B[0;34m,\u001B[0m \u001B[0mengine\u001B[0m\u001B[0;34m,\u001B[0m \u001B[0mschema\u001B[0m\u001B[0;34m=\u001B[0m\u001B[0mSCHEMA\u001B[0m\u001B[0;34m,\u001B[0m \u001B[0mif_exists\u001B[0m\u001B[0;34m=\u001B[0m\u001B[0;34m'append'\u001B[0m\u001B[0;34m,\u001B[0m \u001B[0mchunksize\u001B[0m\u001B[0;34m=\u001B[0m\u001B[0;36m1000\u001B[0m\u001B[0;34m)\u001B[0m\u001B[0;34m\u001B[0m\u001B[0;34m\u001B[0m\u001B[0m\n\u001B[0m",
      "\u001B[0;32m~/pycharm_projects/ncaam-2020/venv/lib/python3.7/site-packages/pandas/core/generic.py\u001B[0m in \u001B[0;36mto_sql\u001B[0;34m(self, name, con, schema, if_exists, index, index_label, chunksize, dtype, method)\u001B[0m\n\u001B[1;32m   2661\u001B[0m             \u001B[0mchunksize\u001B[0m\u001B[0;34m=\u001B[0m\u001B[0mchunksize\u001B[0m\u001B[0;34m,\u001B[0m\u001B[0;34m\u001B[0m\u001B[0;34m\u001B[0m\u001B[0m\n\u001B[1;32m   2662\u001B[0m             \u001B[0mdtype\u001B[0m\u001B[0;34m=\u001B[0m\u001B[0mdtype\u001B[0m\u001B[0;34m,\u001B[0m\u001B[0;34m\u001B[0m\u001B[0;34m\u001B[0m\u001B[0m\n\u001B[0;32m-> 2663\u001B[0;31m             \u001B[0mmethod\u001B[0m\u001B[0;34m=\u001B[0m\u001B[0mmethod\u001B[0m\u001B[0;34m,\u001B[0m\u001B[0;34m\u001B[0m\u001B[0;34m\u001B[0m\u001B[0m\n\u001B[0m\u001B[1;32m   2664\u001B[0m         )\n\u001B[1;32m   2665\u001B[0m \u001B[0;34m\u001B[0m\u001B[0m\n",
      "\u001B[0;32m~/pycharm_projects/ncaam-2020/venv/lib/python3.7/site-packages/pandas/io/sql.py\u001B[0m in \u001B[0;36mto_sql\u001B[0;34m(frame, name, con, schema, if_exists, index, index_label, chunksize, dtype, method)\u001B[0m\n\u001B[1;32m    519\u001B[0m         \u001B[0mchunksize\u001B[0m\u001B[0;34m=\u001B[0m\u001B[0mchunksize\u001B[0m\u001B[0;34m,\u001B[0m\u001B[0;34m\u001B[0m\u001B[0;34m\u001B[0m\u001B[0m\n\u001B[1;32m    520\u001B[0m         \u001B[0mdtype\u001B[0m\u001B[0;34m=\u001B[0m\u001B[0mdtype\u001B[0m\u001B[0;34m,\u001B[0m\u001B[0;34m\u001B[0m\u001B[0;34m\u001B[0m\u001B[0m\n\u001B[0;32m--> 521\u001B[0;31m         \u001B[0mmethod\u001B[0m\u001B[0;34m=\u001B[0m\u001B[0mmethod\u001B[0m\u001B[0;34m,\u001B[0m\u001B[0;34m\u001B[0m\u001B[0;34m\u001B[0m\u001B[0m\n\u001B[0m\u001B[1;32m    522\u001B[0m     )\n\u001B[1;32m    523\u001B[0m \u001B[0;34m\u001B[0m\u001B[0m\n",
      "\u001B[0;32m~/pycharm_projects/ncaam-2020/venv/lib/python3.7/site-packages/pandas/io/sql.py\u001B[0m in \u001B[0;36mto_sql\u001B[0;34m(self, frame, name, if_exists, index, index_label, schema, chunksize, dtype, method)\u001B[0m\n\u001B[1;32m   1315\u001B[0m         )\n\u001B[1;32m   1316\u001B[0m         \u001B[0mtable\u001B[0m\u001B[0;34m.\u001B[0m\u001B[0mcreate\u001B[0m\u001B[0;34m(\u001B[0m\u001B[0;34m)\u001B[0m\u001B[0;34m\u001B[0m\u001B[0;34m\u001B[0m\u001B[0m\n\u001B[0;32m-> 1317\u001B[0;31m         \u001B[0mtable\u001B[0m\u001B[0;34m.\u001B[0m\u001B[0minsert\u001B[0m\u001B[0;34m(\u001B[0m\u001B[0mchunksize\u001B[0m\u001B[0;34m,\u001B[0m \u001B[0mmethod\u001B[0m\u001B[0;34m=\u001B[0m\u001B[0mmethod\u001B[0m\u001B[0;34m)\u001B[0m\u001B[0;34m\u001B[0m\u001B[0;34m\u001B[0m\u001B[0m\n\u001B[0m\u001B[1;32m   1318\u001B[0m         \u001B[0;32mif\u001B[0m \u001B[0;32mnot\u001B[0m \u001B[0mname\u001B[0m\u001B[0;34m.\u001B[0m\u001B[0misdigit\u001B[0m\u001B[0;34m(\u001B[0m\u001B[0;34m)\u001B[0m \u001B[0;32mand\u001B[0m \u001B[0;32mnot\u001B[0m \u001B[0mname\u001B[0m\u001B[0;34m.\u001B[0m\u001B[0mislower\u001B[0m\u001B[0;34m(\u001B[0m\u001B[0;34m)\u001B[0m\u001B[0;34m:\u001B[0m\u001B[0;34m\u001B[0m\u001B[0;34m\u001B[0m\u001B[0m\n\u001B[1;32m   1319\u001B[0m             \u001B[0;31m# check for potentially case sensitivity issues (GH7815)\u001B[0m\u001B[0;34m\u001B[0m\u001B[0;34m\u001B[0m\u001B[0;34m\u001B[0m\u001B[0m\n",
      "\u001B[0;32m~/pycharm_projects/ncaam-2020/venv/lib/python3.7/site-packages/pandas/io/sql.py\u001B[0m in \u001B[0;36minsert\u001B[0;34m(self, chunksize, method)\u001B[0m\n\u001B[1;32m    753\u001B[0m \u001B[0;34m\u001B[0m\u001B[0m\n\u001B[1;32m    754\u001B[0m                 \u001B[0mchunk_iter\u001B[0m \u001B[0;34m=\u001B[0m \u001B[0mzip\u001B[0m\u001B[0;34m(\u001B[0m\u001B[0;34m*\u001B[0m\u001B[0;34m[\u001B[0m\u001B[0marr\u001B[0m\u001B[0;34m[\u001B[0m\u001B[0mstart_i\u001B[0m\u001B[0;34m:\u001B[0m\u001B[0mend_i\u001B[0m\u001B[0;34m]\u001B[0m \u001B[0;32mfor\u001B[0m \u001B[0marr\u001B[0m \u001B[0;32min\u001B[0m \u001B[0mdata_list\u001B[0m\u001B[0;34m]\u001B[0m\u001B[0;34m)\u001B[0m\u001B[0;34m\u001B[0m\u001B[0;34m\u001B[0m\u001B[0m\n\u001B[0;32m--> 755\u001B[0;31m                 \u001B[0mexec_insert\u001B[0m\u001B[0;34m(\u001B[0m\u001B[0mconn\u001B[0m\u001B[0;34m,\u001B[0m \u001B[0mkeys\u001B[0m\u001B[0;34m,\u001B[0m \u001B[0mchunk_iter\u001B[0m\u001B[0;34m)\u001B[0m\u001B[0;34m\u001B[0m\u001B[0;34m\u001B[0m\u001B[0m\n\u001B[0m\u001B[1;32m    756\u001B[0m \u001B[0;34m\u001B[0m\u001B[0m\n\u001B[1;32m    757\u001B[0m     def _query_iterator(\n",
      "\u001B[0;32m~/pycharm_projects/ncaam-2020/venv/lib/python3.7/site-packages/pandas/io/sql.py\u001B[0m in \u001B[0;36m_execute_insert\u001B[0;34m(self, conn, keys, data_iter)\u001B[0m\n\u001B[1;32m    667\u001B[0m         \"\"\"\n\u001B[1;32m    668\u001B[0m         \u001B[0mdata\u001B[0m \u001B[0;34m=\u001B[0m \u001B[0;34m[\u001B[0m\u001B[0mdict\u001B[0m\u001B[0;34m(\u001B[0m\u001B[0mzip\u001B[0m\u001B[0;34m(\u001B[0m\u001B[0mkeys\u001B[0m\u001B[0;34m,\u001B[0m \u001B[0mrow\u001B[0m\u001B[0;34m)\u001B[0m\u001B[0;34m)\u001B[0m \u001B[0;32mfor\u001B[0m \u001B[0mrow\u001B[0m \u001B[0;32min\u001B[0m \u001B[0mdata_iter\u001B[0m\u001B[0;34m]\u001B[0m\u001B[0;34m\u001B[0m\u001B[0;34m\u001B[0m\u001B[0m\n\u001B[0;32m--> 669\u001B[0;31m         \u001B[0mconn\u001B[0m\u001B[0;34m.\u001B[0m\u001B[0mexecute\u001B[0m\u001B[0;34m(\u001B[0m\u001B[0mself\u001B[0m\u001B[0;34m.\u001B[0m\u001B[0mtable\u001B[0m\u001B[0;34m.\u001B[0m\u001B[0minsert\u001B[0m\u001B[0;34m(\u001B[0m\u001B[0;34m)\u001B[0m\u001B[0;34m,\u001B[0m \u001B[0mdata\u001B[0m\u001B[0;34m)\u001B[0m\u001B[0;34m\u001B[0m\u001B[0;34m\u001B[0m\u001B[0m\n\u001B[0m\u001B[1;32m    670\u001B[0m \u001B[0;34m\u001B[0m\u001B[0m\n\u001B[1;32m    671\u001B[0m     \u001B[0;32mdef\u001B[0m \u001B[0m_execute_insert_multi\u001B[0m\u001B[0;34m(\u001B[0m\u001B[0mself\u001B[0m\u001B[0;34m,\u001B[0m \u001B[0mconn\u001B[0m\u001B[0;34m,\u001B[0m \u001B[0mkeys\u001B[0m\u001B[0;34m,\u001B[0m \u001B[0mdata_iter\u001B[0m\u001B[0;34m)\u001B[0m\u001B[0;34m:\u001B[0m\u001B[0;34m\u001B[0m\u001B[0;34m\u001B[0m\u001B[0m\n",
      "\u001B[0;32m~/pycharm_projects/ncaam-2020/venv/lib/python3.7/site-packages/sqlalchemy/engine/base.py\u001B[0m in \u001B[0;36mexecute\u001B[0;34m(self, object_, *multiparams, **params)\u001B[0m\n\u001B[1;32m    982\u001B[0m             )\n\u001B[1;32m    983\u001B[0m         \u001B[0;32melse\u001B[0m\u001B[0;34m:\u001B[0m\u001B[0;34m\u001B[0m\u001B[0;34m\u001B[0m\u001B[0m\n\u001B[0;32m--> 984\u001B[0;31m             \u001B[0;32mreturn\u001B[0m \u001B[0mmeth\u001B[0m\u001B[0;34m(\u001B[0m\u001B[0mself\u001B[0m\u001B[0;34m,\u001B[0m \u001B[0mmultiparams\u001B[0m\u001B[0;34m,\u001B[0m \u001B[0mparams\u001B[0m\u001B[0;34m)\u001B[0m\u001B[0;34m\u001B[0m\u001B[0;34m\u001B[0m\u001B[0m\n\u001B[0m\u001B[1;32m    985\u001B[0m \u001B[0;34m\u001B[0m\u001B[0m\n\u001B[1;32m    986\u001B[0m     \u001B[0;32mdef\u001B[0m \u001B[0m_execute_function\u001B[0m\u001B[0;34m(\u001B[0m\u001B[0mself\u001B[0m\u001B[0;34m,\u001B[0m \u001B[0mfunc\u001B[0m\u001B[0;34m,\u001B[0m \u001B[0mmultiparams\u001B[0m\u001B[0;34m,\u001B[0m \u001B[0mparams\u001B[0m\u001B[0;34m)\u001B[0m\u001B[0;34m:\u001B[0m\u001B[0;34m\u001B[0m\u001B[0;34m\u001B[0m\u001B[0m\n",
      "\u001B[0;32m~/pycharm_projects/ncaam-2020/venv/lib/python3.7/site-packages/sqlalchemy/sql/elements.py\u001B[0m in \u001B[0;36m_execute_on_connection\u001B[0;34m(self, connection, multiparams, params)\u001B[0m\n\u001B[1;32m    291\u001B[0m     \u001B[0;32mdef\u001B[0m \u001B[0m_execute_on_connection\u001B[0m\u001B[0;34m(\u001B[0m\u001B[0mself\u001B[0m\u001B[0;34m,\u001B[0m \u001B[0mconnection\u001B[0m\u001B[0;34m,\u001B[0m \u001B[0mmultiparams\u001B[0m\u001B[0;34m,\u001B[0m \u001B[0mparams\u001B[0m\u001B[0;34m)\u001B[0m\u001B[0;34m:\u001B[0m\u001B[0;34m\u001B[0m\u001B[0;34m\u001B[0m\u001B[0m\n\u001B[1;32m    292\u001B[0m         \u001B[0;32mif\u001B[0m \u001B[0mself\u001B[0m\u001B[0;34m.\u001B[0m\u001B[0msupports_execution\u001B[0m\u001B[0;34m:\u001B[0m\u001B[0;34m\u001B[0m\u001B[0;34m\u001B[0m\u001B[0m\n\u001B[0;32m--> 293\u001B[0;31m             \u001B[0;32mreturn\u001B[0m \u001B[0mconnection\u001B[0m\u001B[0;34m.\u001B[0m\u001B[0m_execute_clauseelement\u001B[0m\u001B[0;34m(\u001B[0m\u001B[0mself\u001B[0m\u001B[0;34m,\u001B[0m \u001B[0mmultiparams\u001B[0m\u001B[0;34m,\u001B[0m \u001B[0mparams\u001B[0m\u001B[0;34m)\u001B[0m\u001B[0;34m\u001B[0m\u001B[0;34m\u001B[0m\u001B[0m\n\u001B[0m\u001B[1;32m    294\u001B[0m         \u001B[0;32melse\u001B[0m\u001B[0;34m:\u001B[0m\u001B[0;34m\u001B[0m\u001B[0;34m\u001B[0m\u001B[0m\n\u001B[1;32m    295\u001B[0m             \u001B[0;32mraise\u001B[0m \u001B[0mexc\u001B[0m\u001B[0;34m.\u001B[0m\u001B[0mObjectNotExecutableError\u001B[0m\u001B[0;34m(\u001B[0m\u001B[0mself\u001B[0m\u001B[0;34m)\u001B[0m\u001B[0;34m\u001B[0m\u001B[0;34m\u001B[0m\u001B[0m\n",
      "\u001B[0;32m~/pycharm_projects/ncaam-2020/venv/lib/python3.7/site-packages/sqlalchemy/engine/base.py\u001B[0m in \u001B[0;36m_execute_clauseelement\u001B[0;34m(self, elem, multiparams, params)\u001B[0m\n\u001B[1;32m   1101\u001B[0m             \u001B[0mdistilled_params\u001B[0m\u001B[0;34m,\u001B[0m\u001B[0;34m\u001B[0m\u001B[0;34m\u001B[0m\u001B[0m\n\u001B[1;32m   1102\u001B[0m             \u001B[0mcompiled_sql\u001B[0m\u001B[0;34m,\u001B[0m\u001B[0;34m\u001B[0m\u001B[0;34m\u001B[0m\u001B[0m\n\u001B[0;32m-> 1103\u001B[0;31m             \u001B[0mdistilled_params\u001B[0m\u001B[0;34m,\u001B[0m\u001B[0;34m\u001B[0m\u001B[0;34m\u001B[0m\u001B[0m\n\u001B[0m\u001B[1;32m   1104\u001B[0m         )\n\u001B[1;32m   1105\u001B[0m         \u001B[0;32mif\u001B[0m \u001B[0mself\u001B[0m\u001B[0;34m.\u001B[0m\u001B[0m_has_events\u001B[0m \u001B[0;32mor\u001B[0m \u001B[0mself\u001B[0m\u001B[0;34m.\u001B[0m\u001B[0mengine\u001B[0m\u001B[0;34m.\u001B[0m\u001B[0m_has_events\u001B[0m\u001B[0;34m:\u001B[0m\u001B[0;34m\u001B[0m\u001B[0;34m\u001B[0m\u001B[0m\n",
      "\u001B[0;32m~/pycharm_projects/ncaam-2020/venv/lib/python3.7/site-packages/sqlalchemy/engine/base.py\u001B[0m in \u001B[0;36m_execute_context\u001B[0;34m(self, dialect, constructor, statement, parameters, *args)\u001B[0m\n\u001B[1;32m   1286\u001B[0m         \u001B[0;32mexcept\u001B[0m \u001B[0mBaseException\u001B[0m \u001B[0;32mas\u001B[0m \u001B[0me\u001B[0m\u001B[0;34m:\u001B[0m\u001B[0;34m\u001B[0m\u001B[0;34m\u001B[0m\u001B[0m\n\u001B[1;32m   1287\u001B[0m             self._handle_dbapi_exception(\n\u001B[0;32m-> 1288\u001B[0;31m                 \u001B[0me\u001B[0m\u001B[0;34m,\u001B[0m \u001B[0mstatement\u001B[0m\u001B[0;34m,\u001B[0m \u001B[0mparameters\u001B[0m\u001B[0;34m,\u001B[0m \u001B[0mcursor\u001B[0m\u001B[0;34m,\u001B[0m \u001B[0mcontext\u001B[0m\u001B[0;34m\u001B[0m\u001B[0;34m\u001B[0m\u001B[0m\n\u001B[0m\u001B[1;32m   1289\u001B[0m             )\n\u001B[1;32m   1290\u001B[0m \u001B[0;34m\u001B[0m\u001B[0m\n",
      "\u001B[0;32m~/pycharm_projects/ncaam-2020/venv/lib/python3.7/site-packages/sqlalchemy/engine/base.py\u001B[0m in \u001B[0;36m_handle_dbapi_exception\u001B[0;34m(self, e, statement, parameters, cursor, context)\u001B[0m\n\u001B[1;32m   1480\u001B[0m             \u001B[0;32melif\u001B[0m \u001B[0mshould_wrap\u001B[0m\u001B[0;34m:\u001B[0m\u001B[0;34m\u001B[0m\u001B[0;34m\u001B[0m\u001B[0m\n\u001B[1;32m   1481\u001B[0m                 util.raise_(\n\u001B[0;32m-> 1482\u001B[0;31m                     \u001B[0msqlalchemy_exception\u001B[0m\u001B[0;34m,\u001B[0m \u001B[0mwith_traceback\u001B[0m\u001B[0;34m=\u001B[0m\u001B[0mexc_info\u001B[0m\u001B[0;34m[\u001B[0m\u001B[0;36m2\u001B[0m\u001B[0;34m]\u001B[0m\u001B[0;34m,\u001B[0m \u001B[0mfrom_\u001B[0m\u001B[0;34m=\u001B[0m\u001B[0me\u001B[0m\u001B[0;34m\u001B[0m\u001B[0;34m\u001B[0m\u001B[0m\n\u001B[0m\u001B[1;32m   1483\u001B[0m                 )\n\u001B[1;32m   1484\u001B[0m             \u001B[0;32melse\u001B[0m\u001B[0;34m:\u001B[0m\u001B[0;34m\u001B[0m\u001B[0;34m\u001B[0m\u001B[0m\n",
      "\u001B[0;32m~/pycharm_projects/ncaam-2020/venv/lib/python3.7/site-packages/sqlalchemy/util/compat.py\u001B[0m in \u001B[0;36mraise_\u001B[0;34m(***failed resolving arguments***)\u001B[0m\n\u001B[1;32m    176\u001B[0m \u001B[0;34m\u001B[0m\u001B[0m\n\u001B[1;32m    177\u001B[0m         \u001B[0;32mtry\u001B[0m\u001B[0;34m:\u001B[0m\u001B[0;34m\u001B[0m\u001B[0;34m\u001B[0m\u001B[0m\n\u001B[0;32m--> 178\u001B[0;31m             \u001B[0;32mraise\u001B[0m \u001B[0mexception\u001B[0m\u001B[0;34m\u001B[0m\u001B[0;34m\u001B[0m\u001B[0m\n\u001B[0m\u001B[1;32m    179\u001B[0m         \u001B[0;32mfinally\u001B[0m\u001B[0;34m:\u001B[0m\u001B[0;34m\u001B[0m\u001B[0;34m\u001B[0m\u001B[0m\n\u001B[1;32m    180\u001B[0m             \u001B[0;31m# credit to\u001B[0m\u001B[0;34m\u001B[0m\u001B[0;34m\u001B[0m\u001B[0;34m\u001B[0m\u001B[0m\n",
      "\u001B[0;32m~/pycharm_projects/ncaam-2020/venv/lib/python3.7/site-packages/sqlalchemy/engine/base.py\u001B[0m in \u001B[0;36m_execute_context\u001B[0;34m(self, dialect, constructor, statement, parameters, *args)\u001B[0m\n\u001B[1;32m   1226\u001B[0m                 \u001B[0;32mif\u001B[0m \u001B[0;32mnot\u001B[0m \u001B[0mevt_handled\u001B[0m\u001B[0;34m:\u001B[0m\u001B[0;34m\u001B[0m\u001B[0;34m\u001B[0m\u001B[0m\n\u001B[1;32m   1227\u001B[0m                     self.dialect.do_executemany(\n\u001B[0;32m-> 1228\u001B[0;31m                         \u001B[0mcursor\u001B[0m\u001B[0;34m,\u001B[0m \u001B[0mstatement\u001B[0m\u001B[0;34m,\u001B[0m \u001B[0mparameters\u001B[0m\u001B[0;34m,\u001B[0m \u001B[0mcontext\u001B[0m\u001B[0;34m\u001B[0m\u001B[0;34m\u001B[0m\u001B[0m\n\u001B[0m\u001B[1;32m   1229\u001B[0m                     )\n\u001B[1;32m   1230\u001B[0m             \u001B[0;32melif\u001B[0m \u001B[0;32mnot\u001B[0m \u001B[0mparameters\u001B[0m \u001B[0;32mand\u001B[0m \u001B[0mcontext\u001B[0m\u001B[0;34m.\u001B[0m\u001B[0mno_parameters\u001B[0m\u001B[0;34m:\u001B[0m\u001B[0;34m\u001B[0m\u001B[0;34m\u001B[0m\u001B[0m\n",
      "\u001B[0;32m~/pycharm_projects/ncaam-2020/venv/lib/python3.7/site-packages/sqlalchemy/dialects/postgresql/psycopg2.py\u001B[0m in \u001B[0;36mdo_executemany\u001B[0;34m(self, cursor, statement, parameters, context)\u001B[0m\n\u001B[1;32m    855\u001B[0m     \u001B[0;32mdef\u001B[0m \u001B[0mdo_executemany\u001B[0m\u001B[0;34m(\u001B[0m\u001B[0mself\u001B[0m\u001B[0;34m,\u001B[0m \u001B[0mcursor\u001B[0m\u001B[0;34m,\u001B[0m \u001B[0mstatement\u001B[0m\u001B[0;34m,\u001B[0m \u001B[0mparameters\u001B[0m\u001B[0;34m,\u001B[0m \u001B[0mcontext\u001B[0m\u001B[0;34m=\u001B[0m\u001B[0;32mNone\u001B[0m\u001B[0;34m)\u001B[0m\u001B[0;34m:\u001B[0m\u001B[0;34m\u001B[0m\u001B[0;34m\u001B[0m\u001B[0m\n\u001B[1;32m    856\u001B[0m         \u001B[0;32mif\u001B[0m \u001B[0mself\u001B[0m\u001B[0;34m.\u001B[0m\u001B[0mexecutemany_mode\u001B[0m \u001B[0;32mis\u001B[0m \u001B[0mEXECUTEMANY_DEFAULT\u001B[0m\u001B[0;34m:\u001B[0m\u001B[0;34m\u001B[0m\u001B[0;34m\u001B[0m\u001B[0m\n\u001B[0;32m--> 857\u001B[0;31m             \u001B[0mcursor\u001B[0m\u001B[0;34m.\u001B[0m\u001B[0mexecutemany\u001B[0m\u001B[0;34m(\u001B[0m\u001B[0mstatement\u001B[0m\u001B[0;34m,\u001B[0m \u001B[0mparameters\u001B[0m\u001B[0;34m)\u001B[0m\u001B[0;34m\u001B[0m\u001B[0;34m\u001B[0m\u001B[0m\n\u001B[0m\u001B[1;32m    858\u001B[0m             \u001B[0;32mreturn\u001B[0m\u001B[0;34m\u001B[0m\u001B[0;34m\u001B[0m\u001B[0m\n\u001B[1;32m    859\u001B[0m \u001B[0;34m\u001B[0m\u001B[0m\n",
      "\u001B[0;31mOperationalError\u001B[0m: (psycopg2.errors.DiskFull) could not extend file \"base/16384/16670\": No space left on device\nHINT:  Check free disk space.\n\n[SQL: INSERT INTO ncaam.\"MEvents\" (index, \"EventID\", \"Season\", \"DayNum\", \"WTeamID\", \"LTeamID\", \"WFinalScore\", \"LFinalScore\", \"WCurrentScore\", \"LCurrentScore\", \"ElapsedSeconds\", \"EventTeamID\", \"EventPlayerID\", \"EventType\", \"EventSubType\", \"X\", \"Y\", \"Area\") VALUES (%(index)s, %(EventID)s, %(Season)s, %(DayNum)s, %(WTeamID)s, %(LTeamID)s, %(WFinalScore)s, %(LFinalScore)s, %(WCurrentScore)s, %(LCurrentScore)s, %(ElapsedSeconds)s, %(EventTeamID)s, %(EventPlayerID)s, %(EventType)s, %(EventSubType)s, %(X)s, %(Y)s, %(Area)s)]\n[parameters: ({'index': 151000, 'EventID': 151001, 'Season': 2015, 'DayNum': 16, 'WTeamID': 1349, 'LTeamID': 1341, 'WFinalScore': 68, 'LFinalScore': 64, 'WCurrentScore': 5, 'LCurrentScore': 4, 'ElapsedSeconds': 184, 'EventTeamID': 1341, 'EventPlayerID': 10281, 'EventType': 'miss2', 'EventSubType': 'jump', 'X': 0, 'Y': 0, 'Area': 0}, {'index': 151001, 'EventID': 151002, 'Season': 2015, 'DayNum': 16, 'WTeamID': 1349, 'LTeamID': 1341, 'WFinalScore': 68, 'LFinalScore': 64, 'WCurrentScore': 5, 'LCurrentScore': 4, 'ElapsedSeconds': 184, 'EventTeamID': 1349, 'EventPlayerID': 10576, 'EventType': 'reb', 'EventSubType': 'def', 'X': 0, 'Y': 0, 'Area': 0}, {'index': 151002, 'EventID': 151003, 'Season': 2015, 'DayNum': 16, 'WTeamID': 1349, 'LTeamID': 1341, 'WFinalScore': 68, 'LFinalScore': 64, 'WCurrentScore': 7, 'LCurrentScore': 4, 'ElapsedSeconds': 193, 'EventTeamID': 1349, 'EventPlayerID': 10576, 'EventType': 'made2', 'EventSubType': 'lay', 'X': 0, 'Y': 0, 'Area': 0}, {'index': 151003, 'EventID': 151004, 'Season': 2015, 'DayNum': 16, 'WTeamID': 1349, 'LTeamID': 1341, 'WFinalScore': 68, 'LFinalScore': 64, 'WCurrentScore': 7, 'LCurrentScore': 4, 'ElapsedSeconds': 193, 'EventTeamID': 1341, 'EventPlayerID': 10261, 'EventType': 'foul', 'EventSubType': 'unk', 'X': 0, 'Y': 0, 'Area': 0}, {'index': 151004, 'EventID': 151005, 'Season': 2015, 'DayNum': 16, 'WTeamID': 1349, 'LTeamID': 1341, 'WFinalScore': 68, 'LFinalScore': 64, 'WCurrentScore': 8, 'LCurrentScore': 4, 'ElapsedSeconds': 193, 'EventTeamID': 1349, 'EventPlayerID': 10576, 'EventType': 'made1', 'EventSubType': 'unk', 'X': 0, 'Y': 0, 'Area': 0}, {'index': 151005, 'EventID': 151006, 'Season': 2015, 'DayNum': 16, 'WTeamID': 1349, 'LTeamID': 1341, 'WFinalScore': 68, 'LFinalScore': 64, 'WCurrentScore': 8, 'LCurrentScore': 4, 'ElapsedSeconds': 193, 'EventTeamID': 1341, 'EventPlayerID': 10233, 'EventType': 'sub', 'EventSubType': 'in', 'X': 0, 'Y': 0, 'Area': 0}, {'index': 151006, 'EventID': 151007, 'Season': 2015, 'DayNum': 16, 'WTeamID': 1349, 'LTeamID': 1341, 'WFinalScore': 68, 'LFinalScore': 64, 'WCurrentScore': 8, 'LCurrentScore': 4, 'ElapsedSeconds': 193, 'EventTeamID': 1341, 'EventPlayerID': 10225, 'EventType': 'sub', 'EventSubType': 'in', 'X': 0, 'Y': 0, 'Area': 0}, {'index': 151007, 'EventID': 151008, 'Season': 2015, 'DayNum': 16, 'WTeamID': 1349, 'LTeamID': 1341, 'WFinalScore': 68, 'LFinalScore': 64, 'WCurrentScore': 8, 'LCurrentScore': 4, 'ElapsedSeconds': 193, 'EventTeamID': 1341, 'EventPlayerID': 10241, 'EventType': 'sub', 'EventSubType': 'out', 'X': 0, 'Y': 0, 'Area': 0}  ... displaying 10 of 1000 total bound parameter sets ...  {'index': 151998, 'EventID': 151999, 'Season': 2015, 'DayNum': 16, 'WTeamID': 1352, 'LTeamID': 1133, 'WFinalScore': 68, 'LFinalScore': 61, 'WCurrentScore': 59, 'LCurrentScore': 56, 'ElapsedSeconds': 2249, 'EventTeamID': 1133, 'EventPlayerID': 1285, 'EventType': 'made1', 'EventSubType': 'unk', 'X': 0, 'Y': 0, 'Area': 0}, {'index': 151999, 'EventID': 152000, 'Season': 2015, 'DayNum': 16, 'WTeamID': 1352, 'LTeamID': 1133, 'WFinalScore': 68, 'LFinalScore': 61, 'WCurrentScore': 59, 'LCurrentScore': 57, 'ElapsedSeconds': 2249, 'EventTeamID': 1133, 'EventPlayerID': 1285, 'EventType': 'made1', 'EventSubType': 'unk', 'X': 0, 'Y': 0, 'Area': 0})]\n(Background on this error at: http://sqlalche.me/e/e3q8)"
     ]
    }
   ],
   "source": [
    "for title, df in data.items():\n",
    "    df.to_sql(title, engine, schema=SCHEMA, if_exists='append', chunksize=1000)"
   ]
  },
  {
   "cell_type": "code",
   "execution_count": null,
   "metadata": {},
   "outputs": [],
   "source": []
  }
 ],
 "metadata": {
  "kernelspec": {
   "display_name": "Python 3",
   "language": "python",
   "name": "python3"
  },
  "language_info": {
   "codemirror_mode": {
    "name": "ipython",
    "version": 3
   },
   "file_extension": ".py",
   "mimetype": "text/x-python",
   "name": "python",
   "nbconvert_exporter": "python",
   "pygments_lexer": "ipython3",
   "version": "3.7.7"
  }
 },
 "nbformat": 4,
 "nbformat_minor": 1
}